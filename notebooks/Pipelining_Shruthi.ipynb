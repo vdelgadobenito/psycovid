{
 "cells": [
  {
   "cell_type": "code",
   "execution_count": 50,
   "metadata": {},
   "outputs": [],
   "source": [
    "### Lets create pipeline\n",
    "\n",
    "from sklearn import preprocessing\n",
    "from sklearn.preprocessing import OneHotEncoder\n",
    "import pandas as pd\n",
    "from sklearn.preprocessing import MinMaxScaler\n",
    "pd.set_option('display.max_columns', None)\n",
    "unfiltered_data=pd.read_csv('preprocessed.csv',encoding='latin-1')\n"
   ]
  },
  {
   "cell_type": "code",
   "execution_count": null,
   "metadata": {},
   "outputs": [],
   "source": [
    "### pipeline the questions"
   ]
  },
  {
   "cell_type": "code",
   "execution_count": 51,
   "metadata": {},
   "outputs": [],
   "source": [
    "from sklearn.pipeline import Pipeline"
   ]
  },
  {
   "cell_type": "code",
   "execution_count": null,
   "metadata": {},
   "outputs": [],
   "source": []
  },
  {
   "cell_type": "code",
   "execution_count": 52,
   "metadata": {},
   "outputs": [],
   "source": [
    "pipe_questions = Pipeline([\n",
    "    ('scaler', MinMaxScaler())\n",
    "])\n"
   ]
  },
  {
   "cell_type": "code",
   "execution_count": null,
   "metadata": {},
   "outputs": [],
   "source": [
    "new_df.loc[:,'Expl_Coping_2':'Expl_Coping_16']"
   ]
  },
  {
   "cell_type": "code",
   "execution_count": null,
   "metadata": {},
   "outputs": [],
   "source": [
    "#for i in unfiltered_data.columns:\n",
    " #   print(i)"
   ]
  },
  {
   "cell_type": "code",
   "execution_count": null,
   "metadata": {},
   "outputs": [],
   "source": [
    "# ,'Expl_Coping_2','Expl_Coping_3','Expl_Coping_5','Expl_Coping_6','Expl_Coping_7','Expl_Coping_8','Expl_Coping_9','Expl_Coping_10','Expl_Coping_11','Expl_Coping_12','Expl_Coping_13','Expl_Coping_14','Expl_Coping_15','Expl_Coping_16'"
   ]
  },
  {
   "cell_type": "code",
   "execution_count": 53,
   "metadata": {
    "scrolled": true
   },
   "outputs": [],
   "source": [
    "X_features = unfiltered_data[[\n",
    "                    'BFF_15_1','BFF_15_2','BFF_15_3','BFF_15_4','BFF_15_5','BFF_15_6','BFF_15_7','BFF_15_8','BFF_15_9','BFF_15_10','BFF_15_11',\n",
    "           'BFF_15_12','BFF_15_13','BFF_15_14','BFF_15_15',\"Dem_dependents\",'Dem_Expat','Dem_edu_mom',\n",
    "            \"Dem_age\",\"Dem_edu\",\"Dem_riskgroup\",'Female','Male','Other','Divorced/widowed',\n",
    "            'Married/cohabiting','Other or would rather not say','Single','Uninformative response','no opinion','Isolated',\n",
    "            'Isolated in medical facility of similar location','Life carries on as usual','Life carries on with minor changes',\n",
    "            'Full time employed','Not employed','Part time employed','Retired','Self-employed','neu','ext','ope','agr','con']].reset_index(drop=True)"
   ]
  },
  {
   "cell_type": "code",
   "execution_count": null,
   "metadata": {},
   "outputs": [],
   "source": [
    "#imp_Features=unfiltered_data[['neu','ext','ope','agr','con','Expl_Coping_1','Expl_Coping_2','Expl_Coping_3','Expl_Coping_5','Expl_Coping_6','Expl_Coping_7','Expl_Coping_8','Expl_Coping_9','Expl_Coping_10','Expl_Coping_11','Expl_Coping_12','Expl_Coping_13','Expl_Coping_14','Expl_Coping_15','Expl_Coping_16']]"
   ]
  },
  {
   "cell_type": "code",
   "execution_count": null,
   "metadata": {},
   "outputs": [],
   "source": [
    "#check_cond=lambda x : 1 if x >= 4  else 0\n",
    "   #unfiltered_data['SLON3_avg_category']=unfiltered_data['SLON3_avg'].map(check_cond)"
   ]
  },
  {
   "cell_type": "code",
   "execution_count": 56,
   "metadata": {},
   "outputs": [],
   "source": [
    "unfiltered_data['PSS10_avg_category']=pd.cut(unfiltered_data['PSS10_avg'],bins=5,labels=['0','1','2','3','4'])"
   ]
  },
  {
   "cell_type": "code",
   "execution_count": 4,
   "metadata": {},
   "outputs": [],
   "source": [
    "unfiltered_data['SLON3_avg']=pd.cut(unfiltered_data['PSS10_avg'],bins=5,labels=['0','1','2','3','4'])"
   ]
  },
  {
   "cell_type": "code",
   "execution_count": 57,
   "metadata": {},
   "outputs": [
    {
     "data": {
      "text/plain": [
       "0        1\n",
       "1        1\n",
       "2        1\n",
       "3        1\n",
       "4        2\n",
       "        ..\n",
       "85484    0\n",
       "85485    0\n",
       "85486    2\n",
       "85487    0\n",
       "85488    1\n",
       "Name: PSS10_avg_category, Length: 85489, dtype: category\n",
       "Categories (5, object): ['0' < '1' < '2' < '3' < '4']"
      ]
     },
     "execution_count": 57,
     "metadata": {},
     "output_type": "execute_result"
    }
   ],
   "source": [
    "y=unfiltered_data['PSS10_avg_category']\n",
    "y.head(15)\n",
    "\n",
    "#y = LabelBinarizer().fit_transform(y)\n",
    "y"
   ]
  },
  {
   "cell_type": "code",
   "execution_count": 58,
   "metadata": {},
   "outputs": [],
   "source": [
    "\n",
    "from sklearn.model_selection import train_test_split\n",
    "X_train,X_test,y_train,y_test=train_test_split(X_features,y,train_size=0.8)\n",
    "r_scaler = MinMaxScaler()\n",
    "r_scaler.fit(X_train)\n",
    "X_train=r_scaler.transform(X_train)\n",
    "\n"
   ]
  },
  {
   "cell_type": "code",
   "execution_count": 59,
   "metadata": {},
   "outputs": [],
   "source": [
    "X_train = pd.DataFrame(data=X_train)\n",
    "cols=[]\n",
    "for i in unfiltered_data.columns:\n",
    "    if i in  X_features.columns:\n",
    "        \n",
    "        cols.append(i)\n",
    "X_train.columns=cols"
   ]
  },
  {
   "cell_type": "code",
   "execution_count": 44,
   "metadata": {},
   "outputs": [],
   "source": [
    "#y=LabelBinarizer().fit_transform(y_train)\n"
   ]
  },
  {
   "cell_type": "code",
   "execution_count": 60,
   "metadata": {},
   "outputs": [],
   "source": [
    "from sklearn.svm import LinearSVC\n",
    "from sklearn.linear_model import LogisticRegression\n",
    "from sklearn.preprocessing import LabelBinarizer\n",
    "from sklearn.svm import SVC\n",
    "from sklearn.multiclass import OneVsRestClassifier\n",
    "from sklearn.ensemble import RandomForestClassifier\n",
    "from sklearn.model_selection import cross_val_score\n",
    "from sklearn.model_selection import cross_val_score\n",
    "from sklearn.metrics import make_scorer\n",
    "from sklearn.linear_model import SGDClassifier"
   ]
  },
  {
   "cell_type": "code",
   "execution_count": 46,
   "metadata": {},
   "outputs": [
    {
     "data": {
      "text/plain": [
       "42361    2\n",
       "45774    1\n",
       "75088    1\n",
       "57397    1\n",
       "25459    3\n",
       "        ..\n",
       "101      3\n",
       "79242    2\n",
       "20938    1\n",
       "46174    0\n",
       "85087    2\n",
       "Name: PSS10_avg_category, Length: 10000, dtype: category\n",
       "Categories (5, object): ['0' < '1' < '2' < '3' < '4']"
      ]
     },
     "execution_count": 46,
     "metadata": {},
     "output_type": "execute_result"
    }
   ],
   "source": [
    "y"
   ]
  },
  {
   "cell_type": "code",
   "execution_count": 61,
   "metadata": {},
   "outputs": [],
   "source": [
    "from sklearn.metrics import mean_absolute_error\n",
    "from sklearn.multioutput import MultiOutputClassifier\n",
    "MAE = make_scorer(mean_absolute_error)\n",
    "folds = 5"
   ]
  },
  {
   "cell_type": "code",
   "execution_count": null,
   "metadata": {},
   "outputs": [],
   "source": [
    "# OneVsRestClassifier(RandomForestRegressor(random_state=0,max_depth=28,min_samples_leaf=50))"
   ]
  },
  {
   "cell_type": "code",
   "execution_count": 62,
   "metadata": {},
   "outputs": [],
   "source": [
    "m=OneVsRestClassifier(LinearSVC()).fit(X_train,y_train)\n",
    "\n",
    "result=cross_val_score(m,X_train,y_train,cv=5)"
   ]
  },
  {
   "cell_type": "code",
   "execution_count": 35,
   "metadata": {},
   "outputs": [
    {
     "data": {
      "text/plain": [
       "OneVsRestClassifier(estimator=LinearSVC(C=1.0, class_weight=None, dual=True,\n",
       "                                        fit_intercept=True, intercept_scaling=1,\n",
       "                                        loss='squared_hinge', max_iter=1000,\n",
       "                                        multi_class='ovr', penalty='l2',\n",
       "                                        random_state=None, tol=0.0001,\n",
       "                                        verbose=0),\n",
       "                    n_jobs=None)"
      ]
     },
     "execution_count": 35,
     "metadata": {},
     "output_type": "execute_result"
    }
   ],
   "source": [
    "m.fit(X_train,y_train)"
   ]
  },
  {
   "cell_type": "code",
   "execution_count": 63,
   "metadata": {},
   "outputs": [
    {
     "data": {
      "text/plain": [
       "0.4615081775834427"
      ]
     },
     "execution_count": 63,
     "metadata": {},
     "output_type": "execute_result"
    }
   ],
   "source": [
    "result.mean()"
   ]
  },
  {
   "cell_type": "code",
   "execution_count": 64,
   "metadata": {},
   "outputs": [
    {
     "data": {
      "text/plain": [
       "0.4627655685689637"
      ]
     },
     "execution_count": 64,
     "metadata": {},
     "output_type": "execute_result"
    }
   ],
   "source": [
    "m.score(X_train,y_train)"
   ]
  },
  {
   "cell_type": "code",
   "execution_count": 66,
   "metadata": {
    "scrolled": true
   },
   "outputs": [
    {
     "data": {
      "text/plain": [
       "array(['1', '0', '0', ..., '0', '0', '0'], dtype='<U1')"
      ]
     },
     "execution_count": 66,
     "metadata": {},
     "output_type": "execute_result"
    }
   ],
   "source": [
    "m.predict(X_test)"
   ]
  },
  {
   "cell_type": "code",
   "execution_count": 67,
   "metadata": {},
   "outputs": [
    {
     "data": {
      "text/plain": [
       "10626    2\n",
       "33915    1\n",
       "50001    2\n",
       "76924    0\n",
       "55413    2\n",
       "        ..\n",
       "61518    2\n",
       "7085     2\n",
       "66496    1\n",
       "29003    2\n",
       "72915    2\n",
       "Name: PSS10_avg_category, Length: 17098, dtype: category\n",
       "Categories (5, object): ['0' < '1' < '2' < '3' < '4']"
      ]
     },
     "execution_count": 67,
     "metadata": {},
     "output_type": "execute_result"
    }
   ],
   "source": [
    "y_test"
   ]
  },
  {
   "cell_type": "code",
   "execution_count": null,
   "metadata": {},
   "outputs": [],
   "source": []
  },
  {
   "cell_type": "code",
   "execution_count": null,
   "metadata": {},
   "outputs": [],
   "source": []
  },
  {
   "cell_type": "code",
   "execution_count": 12,
   "metadata": {},
   "outputs": [
    {
     "data": {
      "text/plain": [
       "0.167"
      ]
     },
     "execution_count": 12,
     "metadata": {},
     "output_type": "execute_result"
    }
   ],
   "source": []
  },
  {
   "cell_type": "code",
   "execution_count": null,
   "metadata": {},
   "outputs": [],
   "source": []
  },
  {
   "cell_type": "code",
   "execution_count": null,
   "metadata": {},
   "outputs": [],
   "source": []
  },
  {
   "cell_type": "code",
   "execution_count": null,
   "metadata": {},
   "outputs": [],
   "source": [
    "for i in unfiltered_data.loc[:,'Expl_Coping_1':'Expl_Coping_16'].columns:\n",
    "    y=unfiltered_data[i]\n",
    "    m=OneVsRestClassifier(LinearSVC())\n",
    "    m.fit(X_train,y_train)\n",
    "    print(m.score(X_test,y_test))\n",
    "    \n",
    "    "
   ]
  },
  {
   "cell_type": "code",
   "execution_count": null,
   "metadata": {},
   "outputs": [],
   "source": []
  }
 ],
 "metadata": {
  "kernelspec": {
   "display_name": "Python 3",
   "language": "python",
   "name": "python3"
  },
  "language_info": {
   "codemirror_mode": {
    "name": "ipython",
    "version": 3
   },
   "file_extension": ".py",
   "mimetype": "text/x-python",
   "name": "python",
   "nbconvert_exporter": "python",
   "pygments_lexer": "ipython3",
   "version": "3.8.6"
  }
 },
 "nbformat": 4,
 "nbformat_minor": 4
}
