{
 "cells": [
  {
   "cell_type": "code",
   "execution_count": 62,
   "metadata": {},
   "outputs": [],
   "source": [
    "# KNN WITHOUT ANY PREPROCESSING"
   ]
  },
  {
   "cell_type": "code",
   "execution_count": 1,
   "metadata": {},
   "outputs": [],
   "source": [
    "from sklearn import preprocessing\n",
    "from sklearn.preprocessing import OneHotEncoder\n",
    "import pandas as pd\n",
    "from sklearn.preprocessing import MinMaxScaler\n",
    "pd.set_option('display.max_columns', None)\n",
    "new_df=pd.read_csv('../raw_data/cleaned_data_040321.csv',encoding='latin-1')"
   ]
  },
  {
   "cell_type": "code",
   "execution_count": 74,
   "metadata": {},
   "outputs": [],
   "source": [
    "from sklearn.neighbors import KNeighborsRegressor\n",
    "from sklearn.model_selection import cross_val_predict\n",
    "from sklearn.model_selection import train_test_split\n",
    "from sklearn.preprocessing import MinMaxScaler"
   ]
  },
  {
   "cell_type": "code",
   "execution_count": 65,
   "metadata": {},
   "outputs": [],
   "source": [
    "y=new_df[['neu','ext','ope','agr','con']]\n",
    "X=new_df.loc[:,'BFF_15_1':'BFF_15_15']\n",
    "X_train,X_test,y_train,y_test=train_test_split(X,y,test_size=0.30,random_state=0)"
   ]
  },
  {
   "cell_type": "code",
   "execution_count": 66,
   "metadata": {},
   "outputs": [],
   "source": [
    "knn=KNeighborsRegressor(n_neighbors=15)"
   ]
  },
  {
   "cell_type": "code",
   "execution_count": 67,
   "metadata": {},
   "outputs": [],
   "source": [
    "predictions=cross_val_predict(knn,X,y,cv=5)"
   ]
  },
  {
   "cell_type": "code",
   "execution_count": 21,
   "metadata": {},
   "outputs": [],
   "source": [
    "new_df[['neu_pred','ext_pred','ope_pred','agr_pred','con_pred']]=predictions"
   ]
  },
  {
   "cell_type": "code",
   "execution_count": 68,
   "metadata": {},
   "outputs": [
    {
     "data": {
      "text/plain": [
       "KNeighborsRegressor(algorithm='auto', leaf_size=30, metric='minkowski',\n",
       "                    metric_params=None, n_jobs=None, n_neighbors=15, p=2,\n",
       "                    weights='uniform')"
      ]
     },
     "execution_count": 68,
     "metadata": {},
     "output_type": "execute_result"
    }
   ],
   "source": [
    "knn.fit(X_train,y_train)"
   ]
  },
  {
   "cell_type": "code",
   "execution_count": 69,
   "metadata": {},
   "outputs": [],
   "source": [
    "y_pred=knn.predict(X_test)"
   ]
  },
  {
   "cell_type": "code",
   "execution_count": 70,
   "metadata": {},
   "outputs": [
    {
     "data": {
      "text/plain": [
       "0.044364059575269815"
      ]
     },
     "execution_count": 70,
     "metadata": {},
     "output_type": "execute_result"
    }
   ],
   "source": [
    "from sklearn.metrics import mean_squared_error\n",
    "mean_squared_error(y_test,y_pred)"
   ]
  },
  {
   "cell_type": "code",
   "execution_count": 71,
   "metadata": {},
   "outputs": [
    {
     "name": "stderr",
     "output_type": "stream",
     "text": [
      "/home/lpshruthi/.pyenv/versions/3.8.6/envs/lewagon/lib/python3.8/site-packages/sklearn/base.py:426: FutureWarning: The default value of multioutput (not exposed in score method) will change from 'variance_weighted' to 'uniform_average' in 0.23 to keep consistent with 'metrics.r2_score'. To specify the default value manually and avoid the warning, please either call 'metrics.r2_score' directly or make a custom scorer with 'metrics.make_scorer' (the built-in scorer 'r2' uses multioutput='uniform_average').\n",
      "  warnings.warn(\"The default value of multioutput (not exposed in \"\n"
     ]
    },
    {
     "data": {
      "text/plain": [
       "0.9523105260056557"
      ]
     },
     "execution_count": 71,
     "metadata": {},
     "output_type": "execute_result"
    }
   ],
   "source": [
    "knn.score(X_test,y_test)"
   ]
  },
  {
   "cell_type": "markdown",
   "metadata": {},
   "source": [
    "# now need to do pipelining"
   ]
  },
  {
   "cell_type": "code",
   "execution_count": 215,
   "metadata": {},
   "outputs": [],
   "source": [
    "from sklearn.pipeline import Pipeline\n",
    "from sklearn.preprocessing import MinMaxScaler\n",
    "from sklearn.compose import ColumnTransformer\n",
    "from sklearn.compose import make_column_selector\n",
    "from sklearn.preprocessing import OneHotEncoder\n",
    "from sklearn.pipeline import FeatureUnion\n",
    "from sklearn.preprocessing import FunctionTransformer\n",
    "from sklearn import set_config\n",
    "from sklearn import preprocessing\n",
    "from sklearn.preprocessing import OneHotEncoder\n",
    "import pandas as pd\n",
    "from sklearn.preprocessing import MinMaxScaler\n",
    "\n",
    "new_df=pd.read_csv('../raw_data/cleaned_data_040321.csv',encoding='latin-1')\n",
    "X=new_df[['BFF_15_1','BFF_15_2','BFF_15_3','BFF_15_4','BFF_15_5','BFF_15_6','BFF_15_7','BFF_15_8','BFF_15_9','BFF_15_10','BFF_15_11',\n",
    "           'BFF_15_12','BFF_15_13','BFF_15_14','BFF_15_15','Dem_age','Dem_gender','Dem_edu','Dem_edu_mom','Dem_employment','Dem_Expat',\n",
    "          'Dem_maritalstatus','Dem_riskgroup','Dem_isolation'\n",
    "         ]]\n"
   ]
  },
  {
   "cell_type": "code",
   "execution_count": 220,
   "metadata": {},
   "outputs": [
    {
     "data": {
      "text/html": [
       "<style>div.sk-top-container {color: black;background-color: white;}div.sk-toggleable {background-color: white;}label.sk-toggleable__label {cursor: pointer;display: block;width: 100%;margin-bottom: 0;padding: 0.2em 0.3em;box-sizing: border-box;text-align: center;}div.sk-toggleable__content {max-height: 0;max-width: 0;overflow: hidden;text-align: left;background-color: #f0f8ff;}div.sk-toggleable__content pre {margin: 0.2em;color: black;border-radius: 0.25em;background-color: #f0f8ff;}input.sk-toggleable__control:checked~div.sk-toggleable__content {max-height: 200px;max-width: 100%;overflow: auto;}div.sk-estimator input.sk-toggleable__control:checked~label.sk-toggleable__label {background-color: #d4ebff;}div.sk-label input.sk-toggleable__control:checked~label.sk-toggleable__label {background-color: #d4ebff;}input.sk-hidden--visually {border: 0;clip: rect(1px 1px 1px 1px);clip: rect(1px, 1px, 1px, 1px);height: 1px;margin: -1px;overflow: hidden;padding: 0;position: absolute;width: 1px;}div.sk-estimator {font-family: monospace;background-color: #f0f8ff;margin: 0.25em 0.25em;border: 1px dotted black;border-radius: 0.25em;box-sizing: border-box;}div.sk-estimator:hover {background-color: #d4ebff;}div.sk-parallel-item::after {content: \"\";width: 100%;border-bottom: 1px solid gray;flex-grow: 1;}div.sk-label:hover label.sk-toggleable__label {background-color: #d4ebff;}div.sk-serial::before {content: \"\";position: absolute;border-left: 1px solid gray;box-sizing: border-box;top: 2em;bottom: 0;left: 50%;}div.sk-serial {display: flex;flex-direction: column;align-items: center;background-color: white;}div.sk-item {z-index: 1;}div.sk-parallel {display: flex;align-items: stretch;justify-content: center;background-color: white;}div.sk-parallel-item {display: flex;flex-direction: column;position: relative;background-color: white;}div.sk-parallel-item:first-child::after {align-self: flex-end;width: 50%;}div.sk-parallel-item:last-child::after {align-self: flex-start;width: 50%;}div.sk-parallel-item:only-child::after {width: 0;}div.sk-dashed-wrapped {border: 1px dashed gray;margin: 0.2em;box-sizing: border-box;padding-bottom: 0.1em;background-color: white;position: relative;}div.sk-label label {font-family: monospace;font-weight: bold;background-color: white;display: inline-block;line-height: 1.2em;}div.sk-label-container {position: relative;z-index: 2;text-align: center;}div.sk-container {display: inline-block;position: relative;}</style><div class=\"sk-top-container\"><div class=\"sk-container\"><div class=\"sk-item sk-dashed-wrapped\"><div class=\"sk-label-container\"><div class=\"sk-label sk-toggleable\"><input class=\"sk-toggleable__control sk-hidden--visually\" id=\"2331bfe1-00c2-4e51-9519-47cd34b64d34\" type=\"checkbox\" ><label class=\"sk-toggleable__label\" for=\"2331bfe1-00c2-4e51-9519-47cd34b64d34\">Pipeline</label><div class=\"sk-toggleable__content\"><pre>Pipeline(steps=[('imputer',\n",
       "                 ColumnTransformer(remainder='passthrough',\n",
       "                                   transformers=[('Dem_edu_col',\n",
       "                                                  FunctionTransformer(func=<function edu_func at 0x7fc6e5e2a700>),\n",
       "                                                  ['Dem_edu']),\n",
       "                                                 ('Dem_edu_mom',\n",
       "                                                  FunctionTransformer(func=<function edu_mom_func at 0x7fc6e5e2a5e0>),\n",
       "                                                  ['Dem_edu_mom']),\n",
       "                                                 ('Dem_edu_risk_group',\n",
       "                                                  FunctionTransformer(func=<function edu_risk_group at 0x7fc6e5e2a550>),\n",
       "                                                  ['Dem_riskgroup']),\n",
       "                                                 ('dem_expat_func',\n",
       "                                                  FunctionTransformer(func=<function dem_expat_func at 0x7fc6e5e2a820>),\n",
       "                                                  ['Dem_Expat']),\n",
       "                                                 ('ohe_transformer',\n",
       "                                                  OneHotEncoder(),\n",
       "                                                  ['Dem_gender',\n",
       "                                                   'Dem_maritalstatus',\n",
       "                                                   'Dem_employment',\n",
       "                                                   'Dem_isolation'])])),\n",
       "                ('scaler', MinMaxScaler())])</pre></div></div></div><div class=\"sk-serial\"><div class=\"sk-item sk-dashed-wrapped\"><div class=\"sk-label-container\"><div class=\"sk-label sk-toggleable\"><input class=\"sk-toggleable__control sk-hidden--visually\" id=\"e52ce9db-c699-4353-bf9d-34a8c8f6b378\" type=\"checkbox\" ><label class=\"sk-toggleable__label\" for=\"e52ce9db-c699-4353-bf9d-34a8c8f6b378\">imputer: ColumnTransformer</label><div class=\"sk-toggleable__content\"><pre>ColumnTransformer(remainder='passthrough',\n",
       "                  transformers=[('Dem_edu_col',\n",
       "                                 FunctionTransformer(func=<function edu_func at 0x7fc6e5e2a700>),\n",
       "                                 ['Dem_edu']),\n",
       "                                ('Dem_edu_mom',\n",
       "                                 FunctionTransformer(func=<function edu_mom_func at 0x7fc6e5e2a5e0>),\n",
       "                                 ['Dem_edu_mom']),\n",
       "                                ('Dem_edu_risk_group',\n",
       "                                 FunctionTransformer(func=<function edu_risk_group at 0x7fc6e5e2a550>),\n",
       "                                 ['Dem_riskgroup']),\n",
       "                                ('dem_expat_func',\n",
       "                                 FunctionTransformer(func=<function dem_expat_func at 0x7fc6e5e2a820>),\n",
       "                                 ['Dem_Expat']),\n",
       "                                ('ohe_transformer', OneHotEncoder(),\n",
       "                                 ['Dem_gender', 'Dem_maritalstatus',\n",
       "                                  'Dem_employment', 'Dem_isolation'])])</pre></div></div></div><div class=\"sk-parallel\"><div class=\"sk-parallel-item\"><div class=\"sk-item\"><div class=\"sk-label-container\"><div class=\"sk-label sk-toggleable\"><input class=\"sk-toggleable__control sk-hidden--visually\" id=\"945398b7-0f5d-409b-9799-bc9999abe536\" type=\"checkbox\" ><label class=\"sk-toggleable__label\" for=\"945398b7-0f5d-409b-9799-bc9999abe536\">Dem_edu_col</label><div class=\"sk-toggleable__content\"><pre>['Dem_edu']</pre></div></div></div><div class=\"sk-serial\"><div class=\"sk-item\"><div class=\"sk-estimator sk-toggleable\"><input class=\"sk-toggleable__control sk-hidden--visually\" id=\"2c0e93fb-d00b-40fd-b128-ab83657a9f06\" type=\"checkbox\" ><label class=\"sk-toggleable__label\" for=\"2c0e93fb-d00b-40fd-b128-ab83657a9f06\">FunctionTransformer</label><div class=\"sk-toggleable__content\"><pre>FunctionTransformer(func=<function edu_func at 0x7fc6e5e2a700>)</pre></div></div></div></div></div></div><div class=\"sk-parallel-item\"><div class=\"sk-item\"><div class=\"sk-label-container\"><div class=\"sk-label sk-toggleable\"><input class=\"sk-toggleable__control sk-hidden--visually\" id=\"04d6fe12-ceef-47b3-afa0-214941fd7bf1\" type=\"checkbox\" ><label class=\"sk-toggleable__label\" for=\"04d6fe12-ceef-47b3-afa0-214941fd7bf1\">Dem_edu_mom</label><div class=\"sk-toggleable__content\"><pre>['Dem_edu_mom']</pre></div></div></div><div class=\"sk-serial\"><div class=\"sk-item\"><div class=\"sk-estimator sk-toggleable\"><input class=\"sk-toggleable__control sk-hidden--visually\" id=\"d1ea666b-09c2-4f0c-8703-74216eb1caa8\" type=\"checkbox\" ><label class=\"sk-toggleable__label\" for=\"d1ea666b-09c2-4f0c-8703-74216eb1caa8\">FunctionTransformer</label><div class=\"sk-toggleable__content\"><pre>FunctionTransformer(func=<function edu_mom_func at 0x7fc6e5e2a5e0>)</pre></div></div></div></div></div></div><div class=\"sk-parallel-item\"><div class=\"sk-item\"><div class=\"sk-label-container\"><div class=\"sk-label sk-toggleable\"><input class=\"sk-toggleable__control sk-hidden--visually\" id=\"22e5cdc0-bedb-4b94-958b-ed789dd458a0\" type=\"checkbox\" ><label class=\"sk-toggleable__label\" for=\"22e5cdc0-bedb-4b94-958b-ed789dd458a0\">Dem_edu_risk_group</label><div class=\"sk-toggleable__content\"><pre>['Dem_riskgroup']</pre></div></div></div><div class=\"sk-serial\"><div class=\"sk-item\"><div class=\"sk-estimator sk-toggleable\"><input class=\"sk-toggleable__control sk-hidden--visually\" id=\"1748ba3e-67ad-4805-bba7-226d480044f9\" type=\"checkbox\" ><label class=\"sk-toggleable__label\" for=\"1748ba3e-67ad-4805-bba7-226d480044f9\">FunctionTransformer</label><div class=\"sk-toggleable__content\"><pre>FunctionTransformer(func=<function edu_risk_group at 0x7fc6e5e2a550>)</pre></div></div></div></div></div></div><div class=\"sk-parallel-item\"><div class=\"sk-item\"><div class=\"sk-label-container\"><div class=\"sk-label sk-toggleable\"><input class=\"sk-toggleable__control sk-hidden--visually\" id=\"3db25ef2-70a7-4480-a959-fbee7bf925ec\" type=\"checkbox\" ><label class=\"sk-toggleable__label\" for=\"3db25ef2-70a7-4480-a959-fbee7bf925ec\">dem_expat_func</label><div class=\"sk-toggleable__content\"><pre>['Dem_Expat']</pre></div></div></div><div class=\"sk-serial\"><div class=\"sk-item\"><div class=\"sk-estimator sk-toggleable\"><input class=\"sk-toggleable__control sk-hidden--visually\" id=\"f492d4af-4744-4332-ba73-04581309858a\" type=\"checkbox\" ><label class=\"sk-toggleable__label\" for=\"f492d4af-4744-4332-ba73-04581309858a\">FunctionTransformer</label><div class=\"sk-toggleable__content\"><pre>FunctionTransformer(func=<function dem_expat_func at 0x7fc6e5e2a820>)</pre></div></div></div></div></div></div><div class=\"sk-parallel-item\"><div class=\"sk-item\"><div class=\"sk-label-container\"><div class=\"sk-label sk-toggleable\"><input class=\"sk-toggleable__control sk-hidden--visually\" id=\"ceb2893d-234a-412a-a478-74de9f908f2a\" type=\"checkbox\" ><label class=\"sk-toggleable__label\" for=\"ceb2893d-234a-412a-a478-74de9f908f2a\">ohe_transformer</label><div class=\"sk-toggleable__content\"><pre>['Dem_gender', 'Dem_maritalstatus', 'Dem_employment', 'Dem_isolation']</pre></div></div></div><div class=\"sk-serial\"><div class=\"sk-item\"><div class=\"sk-estimator sk-toggleable\"><input class=\"sk-toggleable__control sk-hidden--visually\" id=\"5680eda9-ad71-427d-8d4a-d97014f0963d\" type=\"checkbox\" ><label class=\"sk-toggleable__label\" for=\"5680eda9-ad71-427d-8d4a-d97014f0963d\">OneHotEncoder</label><div class=\"sk-toggleable__content\"><pre>OneHotEncoder()</pre></div></div></div></div></div></div><div class=\"sk-parallel-item\"><div class=\"sk-item\"><div class=\"sk-label-container\"><div class=\"sk-label sk-toggleable\"><input class=\"sk-toggleable__control sk-hidden--visually\" id=\"2f8584de-329e-4307-9e74-b27262c08d13\" type=\"checkbox\" ><label class=\"sk-toggleable__label\" for=\"2f8584de-329e-4307-9e74-b27262c08d13\">remainder</label><div class=\"sk-toggleable__content\"><pre></pre></div></div></div><div class=\"sk-serial\"><div class=\"sk-item\"><div class=\"sk-estimator sk-toggleable\"><input class=\"sk-toggleable__control sk-hidden--visually\" id=\"be497bb3-94aa-4786-af10-88c82c6d6831\" type=\"checkbox\" ><label class=\"sk-toggleable__label\" for=\"be497bb3-94aa-4786-af10-88c82c6d6831\">passthrough</label><div class=\"sk-toggleable__content\"><pre>passthrough</pre></div></div></div></div></div></div></div></div><div class=\"sk-item\"><div class=\"sk-estimator sk-toggleable\"><input class=\"sk-toggleable__control sk-hidden--visually\" id=\"15a9afa7-698a-4938-9ebc-5e62193e2a52\" type=\"checkbox\" ><label class=\"sk-toggleable__label\" for=\"15a9afa7-698a-4938-9ebc-5e62193e2a52\">MinMaxScaler</label><div class=\"sk-toggleable__content\"><pre>MinMaxScaler()</pre></div></div></div></div></div></div></div>"
      ],
      "text/plain": [
       "Pipeline(steps=[('imputer',\n",
       "                 ColumnTransformer(remainder='passthrough',\n",
       "                                   transformers=[('Dem_edu_col',\n",
       "                                                  FunctionTransformer(func=<function edu_func at 0x7fc6e5e2a700>),\n",
       "                                                  ['Dem_edu']),\n",
       "                                                 ('Dem_edu_mom',\n",
       "                                                  FunctionTransformer(func=<function edu_mom_func at 0x7fc6e5e2a5e0>),\n",
       "                                                  ['Dem_edu_mom']),\n",
       "                                                 ('Dem_edu_risk_group',\n",
       "                                                  FunctionTransformer(func=<function edu_risk_group at 0x7fc6e5e2a550>),\n",
       "                                                  ['Dem_riskgroup']),\n",
       "                                                 ('dem_expat_func',\n",
       "                                                  FunctionTransformer(func=<function dem_expat_func at 0x7fc6e5e2a820>),\n",
       "                                                  ['Dem_Expat']),\n",
       "                                                 ('ohe_transformer',\n",
       "                                                  OneHotEncoder(),\n",
       "                                                  ['Dem_gender',\n",
       "                                                   'Dem_maritalstatus',\n",
       "                                                   'Dem_employment',\n",
       "                                                   'Dem_isolation'])])),\n",
       "                ('scaler', MinMaxScaler())])"
      ]
     },
     "execution_count": 220,
     "metadata": {},
     "output_type": "execute_result"
    }
   ],
   "source": [
    "def edu_func(X):\n",
    "    X['Dem_edu']=X['Dem_edu'].replace({'Uninformative response':0,'None':1,'Up to 6 years of school':2, 'Up to 9 years of school':3, 'Up to 12 years of school':4, 'Some College, short continuing education or equivalent':5, 'College degree, bachelor, master': 6, 'PhD/Doctorate':7 })\n",
    "    return  X[['Dem_edu']]\n",
    "\n",
    "    \n",
    "def edu_mom_func(X):    \n",
    "    X['Dem_edu_mom'] = X['Dem_edu_mom'].replace({'Uninformative response':0,'None':1,'Up to 6 years of school':2, 'Up to 9 years of school':3, 'Up to 12 years of school':4, 'Some College or equivalent':5, 'College degree': 6, 'PhD/Doctorate':7 })\n",
    "    return  X[['Dem_edu_mom']]\n",
    "\n",
    "\n",
    "def edu_risk_group(X): \n",
    "    X['Dem_riskgroup'] = X['Dem_riskgroup'].replace({'No':1,'Not sure':2, 'Yes':3})    \n",
    "    return  X[['Dem_riskgroup']]\n",
    "\n",
    "def dem_expat_func(X):\n",
    "    X['Dem_Expat'] = X['Dem_Expat'].replace({'no':0,'yes':1})\n",
    "    return X[['Dem_Expat']]\n",
    "    \n",
    "\n",
    "\n",
    "\n",
    "imputing = ColumnTransformer([\n",
    "   \n",
    "    ('Dem_edu_col', FunctionTransformer(edu_func), ['Dem_edu']),\n",
    "    ('Dem_edu_mom', FunctionTransformer(edu_mom_func), ['Dem_edu_mom']),\n",
    "    ('Dem_edu_risk_group', FunctionTransformer(edu_risk_group), ['Dem_riskgroup']),\n",
    "    ('dem_expat_func', FunctionTransformer(dem_expat_func), ['Dem_Expat']),\n",
    "    ('ohe_transformer', OneHotEncoder(), ['Dem_gender', 'Dem_maritalstatus','Dem_employment','Dem_isolation'])\n",
    "],remainder='passthrough')\n",
    "\n",
    "final_pipe = Pipeline([\n",
    "\n",
    " \n",
    "    ('imputer', imputing),\n",
    "    ('scaler', MinMaxScaler())\n",
    "])\n",
    "\n",
    "\n",
    "final_pipe\n"
   ]
  },
  {
   "cell_type": "code",
   "execution_count": 217,
   "metadata": {},
   "outputs": [],
   "source": [
    "pd.set_option('display.max_columns', None)"
   ]
  },
  {
   "cell_type": "code",
   "execution_count": 218,
   "metadata": {},
   "outputs": [],
   "source": [
    "X=new_df[['BFF_15_1','BFF_15_2','BFF_15_3','BFF_15_4','BFF_15_5','BFF_15_6','BFF_15_7','BFF_15_8','BFF_15_9','BFF_15_10','BFF_15_11',\n",
    "           'BFF_15_12','BFF_15_13','BFF_15_14','BFF_15_15','Dem_age','Dem_gender','Dem_edu','Dem_edu_mom','Dem_employment','Dem_Expat',\n",
    "          'Dem_maritalstatus','Dem_riskgroup','Dem_isolation'\n",
    "         ]]\n"
   ]
  },
  {
   "cell_type": "code",
   "execution_count": 422,
   "metadata": {
    "scrolled": true
   },
   "outputs": [],
   "source": [
    "#scaled_X=pd.DataFrame(final_pipe.fit_transform(X)).head(10)\n",
    "#scaled_X\n"
   ]
  },
  {
   "cell_type": "markdown",
   "metadata": {},
   "source": [
    "# KNN FILE organizing into files:"
   ]
  },
  {
   "cell_type": "code",
   "execution_count": 468,
   "metadata": {},
   "outputs": [],
   "source": [
    "from sklearn.neighbors import KNeighborsRegressor\n",
    "from sklearn.metrics import mean_squared_error\n",
    "\n",
    "\n",
    "\n",
    "\n",
    "def get_user_data():\n",
    "    values=[]\n",
    "\n",
    "    columns=['BFF_15_1','BFF_15_2','BFF_15_3','BFF_15_4','BFF_15_5','BFF_15_6','BFF_15_7','BFF_15_8','BFF_15_9','BFF_15_10','BFF_15_11','BFF_15_12','BFF_15_13','BFF_15_14','BFF_15_15']\n",
    "\n",
    "    for i in columns:\n",
    "        value=random.randint(1,6)\n",
    "        values.append(value)\n",
    "    \n",
    "    user_data=pd.DataFrame([values],columns=columns)\n",
    "    return user_data\n",
    "\n",
    "def get_data():\n",
    "    return pd.read_csv('../raw_data/cleaned_data_040321.csv')\n",
    "\n",
    "def Xandy(df):\n",
    "    X=df.loc[:,'BFF_15_1':'BFF_15_15']\n",
    "    y=df[['neu','ext','ope','agr','con']]\n",
    "    return X,y\n",
    "\n",
    "def model(X,y):\n",
    "    knn=KNeighborsRegressor(n_neighbors=15)\n",
    "    return knn.fit(X,y)\n",
    "    \n",
    "\n",
    "def predict(model):\n",
    "    \n",
    "    y_pred=model.predict(user_data)\n",
    "    return y_pred\n"
   ]
  },
  {
   "cell_type": "code",
   "execution_count": null,
   "metadata": {},
   "outputs": [],
   "source": [
    "#### MY MAIN FILE"
   ]
  },
  {
   "cell_type": "code",
   "execution_count": 469,
   "metadata": {},
   "outputs": [],
   "source": [
    "train_data=get_data()\n",
    "X_train,y_train=Xandy(train_data)\n",
    "X_test=get_user_data()\n",
    "knn=model(X_train,y_train)\n"
   ]
  },
  {
   "cell_type": "code",
   "execution_count": 473,
   "metadata": {},
   "outputs": [
    {
     "data": {
      "text/plain": [
       "['knn.joblib']"
      ]
     },
     "execution_count": 473,
     "metadata": {},
     "output_type": "execute_result"
    }
   ],
   "source": [
    "import joblib\n",
    "joblib.dump(knn,'knn.joblib')"
   ]
  },
  {
   "cell_type": "code",
   "execution_count": 470,
   "metadata": {},
   "outputs": [],
   "source": [
    "y_pred=knn.predict(X_test)"
   ]
  },
  {
   "cell_type": "code",
   "execution_count": 471,
   "metadata": {},
   "outputs": [
    {
     "data": {
      "text/plain": [
       "array([[2.44444438, 3.8       , 4.        , 4.37777776, 4.02222222]])"
      ]
     },
     "execution_count": 471,
     "metadata": {},
     "output_type": "execute_result"
    }
   ],
   "source": [
    "y_pred"
   ]
  },
  {
   "cell_type": "markdown",
   "metadata": {},
   "source": [
    "#to make df\n",
    "import random\n",
    "import pandas as pd\n",
    "import numpy as np\n",
    "values=[]\n",
    "\n",
    "columns=['BFF_15_1','BFF_15_2','BFF_15_3','BFF_15_4','BFF_15_5','BFF_15_6','BFF_15_7','BFF_15_8','BFF_15_9','BFF_15_10','BFF_15_11','BFF_15_12','BFF_15_13','BFF_15_14','BFF_15_15']\n",
    "\n",
    "for i in columns:\n",
    "    value=random.randint(1,6)\n",
    "    values.append(value)\n",
    "    \n",
    "data=pd.DataFrame([values],columns=columns)\n",
    "data"
   ]
  },
  {
   "cell_type": "code",
   "execution_count": 426,
   "metadata": {},
   "outputs": [
    {
     "data": {
      "text/html": [
       "<style>div.sk-top-container {color: black;background-color: white;}div.sk-toggleable {background-color: white;}label.sk-toggleable__label {cursor: pointer;display: block;width: 100%;margin-bottom: 0;padding: 0.2em 0.3em;box-sizing: border-box;text-align: center;}div.sk-toggleable__content {max-height: 0;max-width: 0;overflow: hidden;text-align: left;background-color: #f0f8ff;}div.sk-toggleable__content pre {margin: 0.2em;color: black;border-radius: 0.25em;background-color: #f0f8ff;}input.sk-toggleable__control:checked~div.sk-toggleable__content {max-height: 200px;max-width: 100%;overflow: auto;}div.sk-estimator input.sk-toggleable__control:checked~label.sk-toggleable__label {background-color: #d4ebff;}div.sk-label input.sk-toggleable__control:checked~label.sk-toggleable__label {background-color: #d4ebff;}input.sk-hidden--visually {border: 0;clip: rect(1px 1px 1px 1px);clip: rect(1px, 1px, 1px, 1px);height: 1px;margin: -1px;overflow: hidden;padding: 0;position: absolute;width: 1px;}div.sk-estimator {font-family: monospace;background-color: #f0f8ff;margin: 0.25em 0.25em;border: 1px dotted black;border-radius: 0.25em;box-sizing: border-box;}div.sk-estimator:hover {background-color: #d4ebff;}div.sk-parallel-item::after {content: \"\";width: 100%;border-bottom: 1px solid gray;flex-grow: 1;}div.sk-label:hover label.sk-toggleable__label {background-color: #d4ebff;}div.sk-serial::before {content: \"\";position: absolute;border-left: 1px solid gray;box-sizing: border-box;top: 2em;bottom: 0;left: 50%;}div.sk-serial {display: flex;flex-direction: column;align-items: center;background-color: white;}div.sk-item {z-index: 1;}div.sk-parallel {display: flex;align-items: stretch;justify-content: center;background-color: white;}div.sk-parallel-item {display: flex;flex-direction: column;position: relative;background-color: white;}div.sk-parallel-item:first-child::after {align-self: flex-end;width: 50%;}div.sk-parallel-item:last-child::after {align-self: flex-start;width: 50%;}div.sk-parallel-item:only-child::after {width: 0;}div.sk-dashed-wrapped {border: 1px dashed gray;margin: 0.2em;box-sizing: border-box;padding-bottom: 0.1em;background-color: white;position: relative;}div.sk-label label {font-family: monospace;font-weight: bold;background-color: white;display: inline-block;line-height: 1.2em;}div.sk-label-container {position: relative;z-index: 2;text-align: center;}div.sk-container {display: inline-block;position: relative;}</style><div class=\"sk-top-container\"><div class=\"sk-container\"><div class=\"sk-item sk-dashed-wrapped\"><div class=\"sk-label-container\"><div class=\"sk-label sk-toggleable\"><input class=\"sk-toggleable__control sk-hidden--visually\" id=\"727a0e69-0328-413f-9280-4ccf9389b6bb\" type=\"checkbox\" ><label class=\"sk-toggleable__label\" for=\"727a0e69-0328-413f-9280-4ccf9389b6bb\">Pipeline</label><div class=\"sk-toggleable__content\"><pre>Pipeline(steps=[('imputer',\n",
       "                 ColumnTransformer(remainder='passthrough',\n",
       "                                   transformers=[('Dem_edu_col',\n",
       "                                                  FunctionTransformer(func=<function edu_func at 0x7fc6e5e2a700>),\n",
       "                                                  ['Dem_edu']),\n",
       "                                                 ('Dem_edu_mom',\n",
       "                                                  FunctionTransformer(func=<function edu_mom_func at 0x7fc6e5e2a5e0>),\n",
       "                                                  ['Dem_edu_mom']),\n",
       "                                                 ('Dem_edu_risk_group',\n",
       "                                                  FunctionTransformer(func=<function edu_risk_group at 0x7fc6e5e2a550>),\n",
       "                                                  ['Dem_riskgroup']),\n",
       "                                                 ('dem_expat_func',\n",
       "                                                  FunctionTransformer(func=<function dem_expat_func at 0x7fc6e5e2a820>),\n",
       "                                                  ['Dem_Expat']),\n",
       "                                                 ('ohe_transformer',\n",
       "                                                  OneHotEncoder(),\n",
       "                                                  ['Dem_gender',\n",
       "                                                   'Dem_maritalstatus',\n",
       "                                                   'Dem_employment',\n",
       "                                                   'Dem_isolation'])])),\n",
       "                ('scaler', MinMaxScaler())])</pre></div></div></div><div class=\"sk-serial\"><div class=\"sk-item sk-dashed-wrapped\"><div class=\"sk-label-container\"><div class=\"sk-label sk-toggleable\"><input class=\"sk-toggleable__control sk-hidden--visually\" id=\"d3cf08f1-84f2-42d2-954f-e051137e107e\" type=\"checkbox\" ><label class=\"sk-toggleable__label\" for=\"d3cf08f1-84f2-42d2-954f-e051137e107e\">imputer: ColumnTransformer</label><div class=\"sk-toggleable__content\"><pre>ColumnTransformer(remainder='passthrough',\n",
       "                  transformers=[('Dem_edu_col',\n",
       "                                 FunctionTransformer(func=<function edu_func at 0x7fc6e5e2a700>),\n",
       "                                 ['Dem_edu']),\n",
       "                                ('Dem_edu_mom',\n",
       "                                 FunctionTransformer(func=<function edu_mom_func at 0x7fc6e5e2a5e0>),\n",
       "                                 ['Dem_edu_mom']),\n",
       "                                ('Dem_edu_risk_group',\n",
       "                                 FunctionTransformer(func=<function edu_risk_group at 0x7fc6e5e2a550>),\n",
       "                                 ['Dem_riskgroup']),\n",
       "                                ('dem_expat_func',\n",
       "                                 FunctionTransformer(func=<function dem_expat_func at 0x7fc6e5e2a820>),\n",
       "                                 ['Dem_Expat']),\n",
       "                                ('ohe_transformer', OneHotEncoder(),\n",
       "                                 ['Dem_gender', 'Dem_maritalstatus',\n",
       "                                  'Dem_employment', 'Dem_isolation'])])</pre></div></div></div><div class=\"sk-parallel\"><div class=\"sk-parallel-item\"><div class=\"sk-item\"><div class=\"sk-label-container\"><div class=\"sk-label sk-toggleable\"><input class=\"sk-toggleable__control sk-hidden--visually\" id=\"a104748d-7f71-4b41-ae09-d75731a7f43d\" type=\"checkbox\" ><label class=\"sk-toggleable__label\" for=\"a104748d-7f71-4b41-ae09-d75731a7f43d\">Dem_edu_col</label><div class=\"sk-toggleable__content\"><pre>['Dem_edu']</pre></div></div></div><div class=\"sk-serial\"><div class=\"sk-item\"><div class=\"sk-estimator sk-toggleable\"><input class=\"sk-toggleable__control sk-hidden--visually\" id=\"0646f479-6076-4531-8f08-4258468c0dd2\" type=\"checkbox\" ><label class=\"sk-toggleable__label\" for=\"0646f479-6076-4531-8f08-4258468c0dd2\">FunctionTransformer</label><div class=\"sk-toggleable__content\"><pre>FunctionTransformer(func=<function edu_func at 0x7fc6e5e2a700>)</pre></div></div></div></div></div></div><div class=\"sk-parallel-item\"><div class=\"sk-item\"><div class=\"sk-label-container\"><div class=\"sk-label sk-toggleable\"><input class=\"sk-toggleable__control sk-hidden--visually\" id=\"a4eeaa17-4a47-43ac-a411-0653cc45e8ee\" type=\"checkbox\" ><label class=\"sk-toggleable__label\" for=\"a4eeaa17-4a47-43ac-a411-0653cc45e8ee\">Dem_edu_mom</label><div class=\"sk-toggleable__content\"><pre>['Dem_edu_mom']</pre></div></div></div><div class=\"sk-serial\"><div class=\"sk-item\"><div class=\"sk-estimator sk-toggleable\"><input class=\"sk-toggleable__control sk-hidden--visually\" id=\"919b9521-0001-443e-96de-d07fc0868eea\" type=\"checkbox\" ><label class=\"sk-toggleable__label\" for=\"919b9521-0001-443e-96de-d07fc0868eea\">FunctionTransformer</label><div class=\"sk-toggleable__content\"><pre>FunctionTransformer(func=<function edu_mom_func at 0x7fc6e5e2a5e0>)</pre></div></div></div></div></div></div><div class=\"sk-parallel-item\"><div class=\"sk-item\"><div class=\"sk-label-container\"><div class=\"sk-label sk-toggleable\"><input class=\"sk-toggleable__control sk-hidden--visually\" id=\"fe21dce0-9edd-4f96-ba39-c6dba36792fe\" type=\"checkbox\" ><label class=\"sk-toggleable__label\" for=\"fe21dce0-9edd-4f96-ba39-c6dba36792fe\">Dem_edu_risk_group</label><div class=\"sk-toggleable__content\"><pre>['Dem_riskgroup']</pre></div></div></div><div class=\"sk-serial\"><div class=\"sk-item\"><div class=\"sk-estimator sk-toggleable\"><input class=\"sk-toggleable__control sk-hidden--visually\" id=\"268b2a24-02cd-4416-b12e-a56a2089b9ea\" type=\"checkbox\" ><label class=\"sk-toggleable__label\" for=\"268b2a24-02cd-4416-b12e-a56a2089b9ea\">FunctionTransformer</label><div class=\"sk-toggleable__content\"><pre>FunctionTransformer(func=<function edu_risk_group at 0x7fc6e5e2a550>)</pre></div></div></div></div></div></div><div class=\"sk-parallel-item\"><div class=\"sk-item\"><div class=\"sk-label-container\"><div class=\"sk-label sk-toggleable\"><input class=\"sk-toggleable__control sk-hidden--visually\" id=\"8a587784-15bd-4e34-b8ef-0fbd816778aa\" type=\"checkbox\" ><label class=\"sk-toggleable__label\" for=\"8a587784-15bd-4e34-b8ef-0fbd816778aa\">dem_expat_func</label><div class=\"sk-toggleable__content\"><pre>['Dem_Expat']</pre></div></div></div><div class=\"sk-serial\"><div class=\"sk-item\"><div class=\"sk-estimator sk-toggleable\"><input class=\"sk-toggleable__control sk-hidden--visually\" id=\"281dd524-de27-4a42-a116-468ab22cd8c2\" type=\"checkbox\" ><label class=\"sk-toggleable__label\" for=\"281dd524-de27-4a42-a116-468ab22cd8c2\">FunctionTransformer</label><div class=\"sk-toggleable__content\"><pre>FunctionTransformer(func=<function dem_expat_func at 0x7fc6e5e2a820>)</pre></div></div></div></div></div></div><div class=\"sk-parallel-item\"><div class=\"sk-item\"><div class=\"sk-label-container\"><div class=\"sk-label sk-toggleable\"><input class=\"sk-toggleable__control sk-hidden--visually\" id=\"115653d0-0fa9-48ec-8360-d4ce22a05587\" type=\"checkbox\" ><label class=\"sk-toggleable__label\" for=\"115653d0-0fa9-48ec-8360-d4ce22a05587\">ohe_transformer</label><div class=\"sk-toggleable__content\"><pre>['Dem_gender', 'Dem_maritalstatus', 'Dem_employment', 'Dem_isolation']</pre></div></div></div><div class=\"sk-serial\"><div class=\"sk-item\"><div class=\"sk-estimator sk-toggleable\"><input class=\"sk-toggleable__control sk-hidden--visually\" id=\"321a0c5d-b2ad-417a-8e44-42412ee4bfe6\" type=\"checkbox\" ><label class=\"sk-toggleable__label\" for=\"321a0c5d-b2ad-417a-8e44-42412ee4bfe6\">OneHotEncoder</label><div class=\"sk-toggleable__content\"><pre>OneHotEncoder()</pre></div></div></div></div></div></div><div class=\"sk-parallel-item\"><div class=\"sk-item\"><div class=\"sk-label-container\"><div class=\"sk-label sk-toggleable\"><input class=\"sk-toggleable__control sk-hidden--visually\" id=\"45bd7e88-0db7-408e-be2c-a6002185150f\" type=\"checkbox\" ><label class=\"sk-toggleable__label\" for=\"45bd7e88-0db7-408e-be2c-a6002185150f\">remainder</label><div class=\"sk-toggleable__content\"><pre>['BFF_15_1', 'BFF_15_2', 'BFF_15_3', 'BFF_15_4', 'BFF_15_5', 'BFF_15_6', 'BFF_15_7', 'BFF_15_8', 'BFF_15_9', 'BFF_15_10', 'BFF_15_11', 'BFF_15_12', 'BFF_15_13', 'BFF_15_14', 'BFF_15_15', 'Dem_age']</pre></div></div></div><div class=\"sk-serial\"><div class=\"sk-item\"><div class=\"sk-estimator sk-toggleable\"><input class=\"sk-toggleable__control sk-hidden--visually\" id=\"9b378c45-e0cb-46f0-832d-a936b4a0c1c9\" type=\"checkbox\" ><label class=\"sk-toggleable__label\" for=\"9b378c45-e0cb-46f0-832d-a936b4a0c1c9\">passthrough</label><div class=\"sk-toggleable__content\"><pre>passthrough</pre></div></div></div></div></div></div></div></div><div class=\"sk-item\"><div class=\"sk-estimator sk-toggleable\"><input class=\"sk-toggleable__control sk-hidden--visually\" id=\"3d12766a-5ffd-46d4-825b-ca14e773a7ec\" type=\"checkbox\" ><label class=\"sk-toggleable__label\" for=\"3d12766a-5ffd-46d4-825b-ca14e773a7ec\">MinMaxScaler</label><div class=\"sk-toggleable__content\"><pre>MinMaxScaler()</pre></div></div></div></div></div></div></div>"
      ],
      "text/plain": [
       "Pipeline(steps=[('imputer',\n",
       "                 ColumnTransformer(remainder='passthrough',\n",
       "                                   transformers=[('Dem_edu_col',\n",
       "                                                  FunctionTransformer(func=<function edu_func at 0x7fc6e5e2a700>),\n",
       "                                                  ['Dem_edu']),\n",
       "                                                 ('Dem_edu_mom',\n",
       "                                                  FunctionTransformer(func=<function edu_mom_func at 0x7fc6e5e2a5e0>),\n",
       "                                                  ['Dem_edu_mom']),\n",
       "                                                 ('Dem_edu_risk_group',\n",
       "                                                  FunctionTransformer(func=<function edu_risk_group at 0x7fc6e5e2a550>),\n",
       "                                                  ['Dem_riskgroup']),\n",
       "                                                 ('dem_expat_func',\n",
       "                                                  FunctionTransformer(func=<function dem_expat_func at 0x7fc6e5e2a820>),\n",
       "                                                  ['Dem_Expat']),\n",
       "                                                 ('ohe_transformer',\n",
       "                                                  OneHotEncoder(),\n",
       "                                                  ['Dem_gender',\n",
       "                                                   'Dem_maritalstatus',\n",
       "                                                   'Dem_employment',\n",
       "                                                   'Dem_isolation'])])),\n",
       "                ('scaler', MinMaxScaler())])"
      ]
     },
     "execution_count": 426,
     "metadata": {},
     "output_type": "execute_result"
    }
   ],
   "source": [
    "from sklearn import set_config; set_config(display='diagram')\n",
    "final_pipe"
   ]
  },
  {
   "cell_type": "markdown",
   "metadata": {},
   "source": [
    "# PREDICT STRESS , PACKAGING"
   ]
  },
  {
   "cell_type": "code",
   "execution_count": 132,
   "metadata": {},
   "outputs": [
    {
     "name": "stdout",
     "output_type": "stream",
     "text": [
      "Collecting mord\n",
      "  Downloading mord-0.6.tar.gz (4.7 kB)\n",
      "Building wheels for collected packages: mord\n",
      "  Building wheel for mord (setup.py) ... \u001b[?25ldone\n",
      "\u001b[?25h  Created wheel for mord: filename=mord-0.6-py3-none-any.whl size=6006 sha256=e9dff3cf599182f9cd6eb64fa004a3b7f5ba4cbe30702fc5235aa32acf9db382\n",
      "  Stored in directory: /home/lpshruthi/.cache/pip/wheels/1d/94/48/b3d11f5f91d26bec0c95c6eb9c27c6e427d0b77fb2406d0e0a\n",
      "Successfully built mord\n",
      "Installing collected packages: mord\n",
      "Successfully installed mord-0.6\n"
     ]
    }
   ],
   "source": [
    "!pip install mord"
   ]
  },
  {
   "cell_type": "code",
   "execution_count": 460,
   "metadata": {},
   "outputs": [],
   "source": [
    "\n",
    "def get_data():\n",
    "    return pd.read_csv('../raw_data/cleaned_data_040321.csv')\n",
    "\n",
    "def Xandy_stress(df):\n",
    "    X=df[['BFF_15_1','BFF_15_2','BFF_15_3','BFF_15_4','BFF_15_5','BFF_15_6','BFF_15_7','BFF_15_8','BFF_15_9','BFF_15_10','BFF_15_11',\n",
    "           'BFF_15_12','BFF_15_13','BFF_15_14','BFF_15_15','Dem_age','Dem_gender','Dem_edu','Dem_edu_mom','Dem_employment','Dem_Expat',\n",
    "          'Dem_maritalstatus','Dem_riskgroup','Dem_isolation'\n",
    "         ]].reset_index(drop=True).dropna()\n",
    "    \n",
    "    y=df['PSS10_avg'].round().astype(int)\n",
    "    return X,y    "
   ]
  },
  {
   "cell_type": "code",
   "execution_count": 467,
   "metadata": {},
   "outputs": [],
   "source": [
    "def edu_func(X):\n",
    "    X['Dem_edu']=X['Dem_edu'].replace({'Uninformative response':0,'None':1,'Up to 6 years of school':2, 'Up to 9 years of school':3, 'Up to 12 years of school':4, 'Some College, short continuing education or equivalent':5, 'College degree, bachelor, master': 6, 'PhD/Doctorate':7 })\n",
    "    return  X[['Dem_edu']]\n",
    "\n",
    "    \n",
    "def edu_mom_func(X):    \n",
    "    X['Dem_edu_mom'] = X['Dem_edu_mom'].replace({'Uninformative response':0,'None':1,'Up to 6 years of school':2, 'Up to 9 years of school':3, 'Up to 12 years of school':4, 'Some College or equivalent':5, 'College degree': 6, 'PhD/Doctorate':7 })\n",
    "    return  X[['Dem_edu_mom']]\n",
    "\n",
    "\n",
    "def edu_risk_group(X): \n",
    "    X['Dem_riskgroup'] = X['Dem_riskgroup'].replace({'No':1,'Not sure':2, 'Yes':3})    \n",
    "    return  X[['Dem_riskgroup']]\n",
    "\n",
    "def dem_expat_func(X):\n",
    "    X['Dem_Expat'] = X['Dem_Expat'].replace({'no':0,'yes':1})\n",
    "    return X[['Dem_Expat']]"
   ]
  },
  {
   "cell_type": "code",
   "execution_count": 462,
   "metadata": {},
   "outputs": [],
   "source": [
    "def process_pipeline(X,model):\n",
    "    \n",
    "    \n",
    "\n",
    "    \n",
    "    imputing = ColumnTransformer([\n",
    "        \n",
    "   \n",
    "    ('Dem_edu_col', FunctionTransformer(edu_func), ['Dem_edu']),\n",
    "    ('Dem_edu_mom', FunctionTransformer(edu_mom_func), ['Dem_edu_mom']),\n",
    "    ('Dem_edu_risk_group', FunctionTransformer(edu_risk_group), ['Dem_riskgroup']),\n",
    "    ('dem_expat_func', FunctionTransformer(dem_expat_func), ['Dem_Expat']),\n",
    "    ('ohe_transformer', OneHotEncoder(), ['Dem_gender', 'Dem_maritalstatus','Dem_employment','Dem_isolation'])\n",
    "    ],remainder='passthrough')\n",
    "    \n",
    "    base_pipe = Pipeline([\n",
    "\n",
    " \n",
    "    ('imputer', imputing),\n",
    "    ('scaler', MinMaxScaler())\n",
    "    ])\n",
    "    \n",
    "\n",
    "    \n",
    "    stress_pipe = Pipeline([\n",
    "    ('preprocessing', base_pipe),\n",
    "    ('LogisticAT_regression',  model  )\n",
    "    ])\n",
    "    \n",
    "    return stress_pipe\n"
   ]
  },
  {
   "cell_type": "code",
   "execution_count": 452,
   "metadata": {},
   "outputs": [],
   "source": [
    "#def get_df(pipeline,X):\n",
    " #   import pandas as pd\n",
    "    \n",
    "  #  return pd.DataFrame(pipeline.fit_transform(X))"
   ]
  },
  {
   "cell_type": "code",
   "execution_count": 463,
   "metadata": {
    "scrolled": true
   },
   "outputs": [
    {
     "data": {
      "text/html": [
       "<style>div.sk-top-container {color: black;background-color: white;}div.sk-toggleable {background-color: white;}label.sk-toggleable__label {cursor: pointer;display: block;width: 100%;margin-bottom: 0;padding: 0.2em 0.3em;box-sizing: border-box;text-align: center;}div.sk-toggleable__content {max-height: 0;max-width: 0;overflow: hidden;text-align: left;background-color: #f0f8ff;}div.sk-toggleable__content pre {margin: 0.2em;color: black;border-radius: 0.25em;background-color: #f0f8ff;}input.sk-toggleable__control:checked~div.sk-toggleable__content {max-height: 200px;max-width: 100%;overflow: auto;}div.sk-estimator input.sk-toggleable__control:checked~label.sk-toggleable__label {background-color: #d4ebff;}div.sk-label input.sk-toggleable__control:checked~label.sk-toggleable__label {background-color: #d4ebff;}input.sk-hidden--visually {border: 0;clip: rect(1px 1px 1px 1px);clip: rect(1px, 1px, 1px, 1px);height: 1px;margin: -1px;overflow: hidden;padding: 0;position: absolute;width: 1px;}div.sk-estimator {font-family: monospace;background-color: #f0f8ff;margin: 0.25em 0.25em;border: 1px dotted black;border-radius: 0.25em;box-sizing: border-box;}div.sk-estimator:hover {background-color: #d4ebff;}div.sk-parallel-item::after {content: \"\";width: 100%;border-bottom: 1px solid gray;flex-grow: 1;}div.sk-label:hover label.sk-toggleable__label {background-color: #d4ebff;}div.sk-serial::before {content: \"\";position: absolute;border-left: 1px solid gray;box-sizing: border-box;top: 2em;bottom: 0;left: 50%;}div.sk-serial {display: flex;flex-direction: column;align-items: center;background-color: white;}div.sk-item {z-index: 1;}div.sk-parallel {display: flex;align-items: stretch;justify-content: center;background-color: white;}div.sk-parallel-item {display: flex;flex-direction: column;position: relative;background-color: white;}div.sk-parallel-item:first-child::after {align-self: flex-end;width: 50%;}div.sk-parallel-item:last-child::after {align-self: flex-start;width: 50%;}div.sk-parallel-item:only-child::after {width: 0;}div.sk-dashed-wrapped {border: 1px dashed gray;margin: 0.2em;box-sizing: border-box;padding-bottom: 0.1em;background-color: white;position: relative;}div.sk-label label {font-family: monospace;font-weight: bold;background-color: white;display: inline-block;line-height: 1.2em;}div.sk-label-container {position: relative;z-index: 2;text-align: center;}div.sk-container {display: inline-block;position: relative;}</style><div class=\"sk-top-container\"><div class=\"sk-container\"><div class=\"sk-item sk-dashed-wrapped\"><div class=\"sk-label-container\"><div class=\"sk-label sk-toggleable\"><input class=\"sk-toggleable__control sk-hidden--visually\" id=\"75509dc7-da95-4d7d-82db-c69c41ec5857\" type=\"checkbox\" ><label class=\"sk-toggleable__label\" for=\"75509dc7-da95-4d7d-82db-c69c41ec5857\">Pipeline</label><div class=\"sk-toggleable__content\"><pre>Pipeline(steps=[('preprocessing',\n",
       "                 Pipeline(steps=[('imputer',\n",
       "                                  ColumnTransformer(remainder='passthrough',\n",
       "                                                    transformers=[('Dem_edu_col',\n",
       "                                                                   FunctionTransformer(func=<function edu_func at 0x7fc765b91790>),\n",
       "                                                                   ['Dem_edu']),\n",
       "                                                                  ('Dem_edu_mom',\n",
       "                                                                   FunctionTransformer(func=<function edu_mom_func at 0x7fc75af35a60>),\n",
       "                                                                   ['Dem_edu_mom']),\n",
       "                                                                  ('Dem_edu_risk_group',\n",
       "                                                                   FunctionTransformer(func=<function edu_risk_group at 0x7fc75af35c10>),\n",
       "                                                                   ['Dem_riskgroup']),\n",
       "                                                                  ('dem_expat_func',\n",
       "                                                                   FunctionTransformer(func=<function dem_expat_func at 0x7fc75af35ca0>),\n",
       "                                                                   ['Dem_Expat']),\n",
       "                                                                  ('ohe_transformer',\n",
       "                                                                   OneHotEncoder(),\n",
       "                                                                   ['Dem_gender',\n",
       "                                                                    'Dem_maritalstatus',\n",
       "                                                                    'Dem_employment',\n",
       "                                                                    'Dem_isolation'])])),\n",
       "                                 ('scaler', MinMaxScaler())])),\n",
       "                ('LogisticAT_regression', LogisticAT(alpha=0))])</pre></div></div></div><div class=\"sk-serial\"><div class=\"sk-item\"><div class=\"sk-label-container\"><div class=\"sk-label sk-toggleable\"><input class=\"sk-toggleable__control sk-hidden--visually\" id=\"8596ab5e-af3a-4ec1-8dd7-5d7f86cf44b3\" type=\"checkbox\" ><label class=\"sk-toggleable__label\" for=\"8596ab5e-af3a-4ec1-8dd7-5d7f86cf44b3\">preprocessing: Pipeline</label><div class=\"sk-toggleable__content\"><pre>Pipeline(steps=[('imputer',\n",
       "                 ColumnTransformer(remainder='passthrough',\n",
       "                                   transformers=[('Dem_edu_col',\n",
       "                                                  FunctionTransformer(func=<function edu_func at 0x7fc765b91790>),\n",
       "                                                  ['Dem_edu']),\n",
       "                                                 ('Dem_edu_mom',\n",
       "                                                  FunctionTransformer(func=<function edu_mom_func at 0x7fc75af35a60>),\n",
       "                                                  ['Dem_edu_mom']),\n",
       "                                                 ('Dem_edu_risk_group',\n",
       "                                                  FunctionTransformer(func=<function edu_risk_group at 0x7fc75af35c10>),\n",
       "                                                  ['Dem_riskgroup']),\n",
       "                                                 ('dem_expat_func',\n",
       "                                                  FunctionTransformer(func=<function dem_expat_func at 0x7fc75af35ca0>),\n",
       "                                                  ['Dem_Expat']),\n",
       "                                                 ('ohe_transformer',\n",
       "                                                  OneHotEncoder(),\n",
       "                                                  ['Dem_gender',\n",
       "                                                   'Dem_maritalstatus',\n",
       "                                                   'Dem_employment',\n",
       "                                                   'Dem_isolation'])])),\n",
       "                ('scaler', MinMaxScaler())])</pre></div></div></div><div class=\"sk-serial\"><div class=\"sk-item sk-dashed-wrapped\"><div class=\"sk-label-container\"><div class=\"sk-label sk-toggleable\"><input class=\"sk-toggleable__control sk-hidden--visually\" id=\"e0f45cf6-73ae-4d0d-a020-75f8e0f31aa3\" type=\"checkbox\" ><label class=\"sk-toggleable__label\" for=\"e0f45cf6-73ae-4d0d-a020-75f8e0f31aa3\">imputer: ColumnTransformer</label><div class=\"sk-toggleable__content\"><pre>ColumnTransformer(remainder='passthrough',\n",
       "                  transformers=[('Dem_edu_col',\n",
       "                                 FunctionTransformer(func=<function edu_func at 0x7fc765b91790>),\n",
       "                                 ['Dem_edu']),\n",
       "                                ('Dem_edu_mom',\n",
       "                                 FunctionTransformer(func=<function edu_mom_func at 0x7fc75af35a60>),\n",
       "                                 ['Dem_edu_mom']),\n",
       "                                ('Dem_edu_risk_group',\n",
       "                                 FunctionTransformer(func=<function edu_risk_group at 0x7fc75af35c10>),\n",
       "                                 ['Dem_riskgroup']),\n",
       "                                ('dem_expat_func',\n",
       "                                 FunctionTransformer(func=<function dem_expat_func at 0x7fc75af35ca0>),\n",
       "                                 ['Dem_Expat']),\n",
       "                                ('ohe_transformer', OneHotEncoder(),\n",
       "                                 ['Dem_gender', 'Dem_maritalstatus',\n",
       "                                  'Dem_employment', 'Dem_isolation'])])</pre></div></div></div><div class=\"sk-parallel\"><div class=\"sk-parallel-item\"><div class=\"sk-item\"><div class=\"sk-label-container\"><div class=\"sk-label sk-toggleable\"><input class=\"sk-toggleable__control sk-hidden--visually\" id=\"ebc40385-0369-4c76-88fc-11108f884b8c\" type=\"checkbox\" ><label class=\"sk-toggleable__label\" for=\"ebc40385-0369-4c76-88fc-11108f884b8c\">Dem_edu_col</label><div class=\"sk-toggleable__content\"><pre>['Dem_edu']</pre></div></div></div><div class=\"sk-serial\"><div class=\"sk-item\"><div class=\"sk-estimator sk-toggleable\"><input class=\"sk-toggleable__control sk-hidden--visually\" id=\"a460a6ff-f4d7-427b-82d0-79360aa5134e\" type=\"checkbox\" ><label class=\"sk-toggleable__label\" for=\"a460a6ff-f4d7-427b-82d0-79360aa5134e\">FunctionTransformer</label><div class=\"sk-toggleable__content\"><pre>FunctionTransformer(func=<function edu_func at 0x7fc765b91790>)</pre></div></div></div></div></div></div><div class=\"sk-parallel-item\"><div class=\"sk-item\"><div class=\"sk-label-container\"><div class=\"sk-label sk-toggleable\"><input class=\"sk-toggleable__control sk-hidden--visually\" id=\"4d95dd3f-ab11-45ba-bc4b-05cd5f131ec6\" type=\"checkbox\" ><label class=\"sk-toggleable__label\" for=\"4d95dd3f-ab11-45ba-bc4b-05cd5f131ec6\">Dem_edu_mom</label><div class=\"sk-toggleable__content\"><pre>['Dem_edu_mom']</pre></div></div></div><div class=\"sk-serial\"><div class=\"sk-item\"><div class=\"sk-estimator sk-toggleable\"><input class=\"sk-toggleable__control sk-hidden--visually\" id=\"4d5e9b43-44a5-42df-ac0b-eb51c02442da\" type=\"checkbox\" ><label class=\"sk-toggleable__label\" for=\"4d5e9b43-44a5-42df-ac0b-eb51c02442da\">FunctionTransformer</label><div class=\"sk-toggleable__content\"><pre>FunctionTransformer(func=<function edu_mom_func at 0x7fc75af35a60>)</pre></div></div></div></div></div></div><div class=\"sk-parallel-item\"><div class=\"sk-item\"><div class=\"sk-label-container\"><div class=\"sk-label sk-toggleable\"><input class=\"sk-toggleable__control sk-hidden--visually\" id=\"76bba419-43cd-43b9-8104-9176ddae4a0c\" type=\"checkbox\" ><label class=\"sk-toggleable__label\" for=\"76bba419-43cd-43b9-8104-9176ddae4a0c\">Dem_edu_risk_group</label><div class=\"sk-toggleable__content\"><pre>['Dem_riskgroup']</pre></div></div></div><div class=\"sk-serial\"><div class=\"sk-item\"><div class=\"sk-estimator sk-toggleable\"><input class=\"sk-toggleable__control sk-hidden--visually\" id=\"53b4ce8a-c92d-481c-a8a6-7d008c1669c8\" type=\"checkbox\" ><label class=\"sk-toggleable__label\" for=\"53b4ce8a-c92d-481c-a8a6-7d008c1669c8\">FunctionTransformer</label><div class=\"sk-toggleable__content\"><pre>FunctionTransformer(func=<function edu_risk_group at 0x7fc75af35c10>)</pre></div></div></div></div></div></div><div class=\"sk-parallel-item\"><div class=\"sk-item\"><div class=\"sk-label-container\"><div class=\"sk-label sk-toggleable\"><input class=\"sk-toggleable__control sk-hidden--visually\" id=\"ddb2d246-4649-41a4-a6aa-b2a4b20412f7\" type=\"checkbox\" ><label class=\"sk-toggleable__label\" for=\"ddb2d246-4649-41a4-a6aa-b2a4b20412f7\">dem_expat_func</label><div class=\"sk-toggleable__content\"><pre>['Dem_Expat']</pre></div></div></div><div class=\"sk-serial\"><div class=\"sk-item\"><div class=\"sk-estimator sk-toggleable\"><input class=\"sk-toggleable__control sk-hidden--visually\" id=\"4ed7e984-0868-4f99-b740-dfe4b8385f58\" type=\"checkbox\" ><label class=\"sk-toggleable__label\" for=\"4ed7e984-0868-4f99-b740-dfe4b8385f58\">FunctionTransformer</label><div class=\"sk-toggleable__content\"><pre>FunctionTransformer(func=<function dem_expat_func at 0x7fc75af35ca0>)</pre></div></div></div></div></div></div><div class=\"sk-parallel-item\"><div class=\"sk-item\"><div class=\"sk-label-container\"><div class=\"sk-label sk-toggleable\"><input class=\"sk-toggleable__control sk-hidden--visually\" id=\"873ccc54-07db-4c3e-9ce6-e7c87bbdf8c5\" type=\"checkbox\" ><label class=\"sk-toggleable__label\" for=\"873ccc54-07db-4c3e-9ce6-e7c87bbdf8c5\">ohe_transformer</label><div class=\"sk-toggleable__content\"><pre>['Dem_gender', 'Dem_maritalstatus', 'Dem_employment', 'Dem_isolation']</pre></div></div></div><div class=\"sk-serial\"><div class=\"sk-item\"><div class=\"sk-estimator sk-toggleable\"><input class=\"sk-toggleable__control sk-hidden--visually\" id=\"e15b1a9a-2610-438e-98d2-3b5faf95897c\" type=\"checkbox\" ><label class=\"sk-toggleable__label\" for=\"e15b1a9a-2610-438e-98d2-3b5faf95897c\">OneHotEncoder</label><div class=\"sk-toggleable__content\"><pre>OneHotEncoder()</pre></div></div></div></div></div></div><div class=\"sk-parallel-item\"><div class=\"sk-item\"><div class=\"sk-label-container\"><div class=\"sk-label sk-toggleable\"><input class=\"sk-toggleable__control sk-hidden--visually\" id=\"515bc7b6-40a9-4323-a318-9134a5d08ed4\" type=\"checkbox\" ><label class=\"sk-toggleable__label\" for=\"515bc7b6-40a9-4323-a318-9134a5d08ed4\">remainder</label><div class=\"sk-toggleable__content\"><pre>['BFF_15_1', 'BFF_15_2', 'BFF_15_3', 'BFF_15_4', 'BFF_15_5', 'BFF_15_6', 'BFF_15_7', 'BFF_15_8', 'BFF_15_9', 'BFF_15_10', 'BFF_15_11', 'BFF_15_12', 'BFF_15_13', 'BFF_15_14', 'BFF_15_15', 'Dem_age']</pre></div></div></div><div class=\"sk-serial\"><div class=\"sk-item\"><div class=\"sk-estimator sk-toggleable\"><input class=\"sk-toggleable__control sk-hidden--visually\" id=\"425aa0db-7144-4a2f-a17c-d5c82016f5b3\" type=\"checkbox\" ><label class=\"sk-toggleable__label\" for=\"425aa0db-7144-4a2f-a17c-d5c82016f5b3\">passthrough</label><div class=\"sk-toggleable__content\"><pre>passthrough</pre></div></div></div></div></div></div></div></div><div class=\"sk-item\"><div class=\"sk-estimator sk-toggleable\"><input class=\"sk-toggleable__control sk-hidden--visually\" id=\"3a19aca3-b208-4bb1-9360-f33b0bd6b8c6\" type=\"checkbox\" ><label class=\"sk-toggleable__label\" for=\"3a19aca3-b208-4bb1-9360-f33b0bd6b8c6\">MinMaxScaler</label><div class=\"sk-toggleable__content\"><pre>MinMaxScaler()</pre></div></div></div></div></div><div class=\"sk-item\"><div class=\"sk-estimator sk-toggleable\"><input class=\"sk-toggleable__control sk-hidden--visually\" id=\"842f963d-6826-48f7-97ec-e74f17692e54\" type=\"checkbox\" ><label class=\"sk-toggleable__label\" for=\"842f963d-6826-48f7-97ec-e74f17692e54\">LogisticAT</label><div class=\"sk-toggleable__content\"><pre>LogisticAT(alpha=0)</pre></div></div></div></div></div></div></div>"
      ],
      "text/plain": [
       "Pipeline(steps=[('preprocessing',\n",
       "                 Pipeline(steps=[('imputer',\n",
       "                                  ColumnTransformer(remainder='passthrough',\n",
       "                                                    transformers=[('Dem_edu_col',\n",
       "                                                                   FunctionTransformer(func=<function edu_func at 0x7fc765b91790>),\n",
       "                                                                   ['Dem_edu']),\n",
       "                                                                  ('Dem_edu_mom',\n",
       "                                                                   FunctionTransformer(func=<function edu_mom_func at 0x7fc75af35a60>),\n",
       "                                                                   ['Dem_edu_mom']),\n",
       "                                                                  ('Dem_edu_risk_group',\n",
       "                                                                   FunctionTransformer(func=<function edu_risk_group at 0x7fc75af35c10>),\n",
       "                                                                   ['Dem_riskgroup']),\n",
       "                                                                  ('dem_expat_func',\n",
       "                                                                   FunctionTransformer(func=<function dem_expat_func at 0x7fc75af35ca0>),\n",
       "                                                                   ['Dem_Expat']),\n",
       "                                                                  ('ohe_transformer',\n",
       "                                                                   OneHotEncoder(),\n",
       "                                                                   ['Dem_gender',\n",
       "                                                                    'Dem_maritalstatus',\n",
       "                                                                    'Dem_employment',\n",
       "                                                                    'Dem_isolation'])])),\n",
       "                                 ('scaler', MinMaxScaler())])),\n",
       "                ('LogisticAT_regression', LogisticAT(alpha=0))])"
      ]
     },
     "execution_count": 463,
     "metadata": {},
     "output_type": "execute_result"
    }
   ],
   "source": [
    "# MAIN FILE \n",
    "from mord import LogisticAT\n",
    "import joblib\n",
    "import pandas as pd\n",
    "data=get_data()\n",
    "X,y=Xandy_stress(data)\n",
    "\n",
    "model=process_pipeline(X,LogisticAT(alpha=0))\n",
    "model\n",
    "model.fit(X,y)\n",
    "#joblib.dump(model, 'model_stress.joblib')\n",
    "#model.predict(X.loc[[0]]) # INPUT NEEDS TO BE A DATAFRAME\n",
    "#scaled_X=get_df(stress_model,X)\n",
    "\n",
    "#pd.DataFrame(model.fit_transform(X))"
   ]
  },
  {
   "cell_type": "code",
   "execution_count": 464,
   "metadata": {},
   "outputs": [
    {
     "data": {
      "text/plain": [
       "['model_stress.joblib']"
      ]
     },
     "execution_count": 464,
     "metadata": {},
     "output_type": "execute_result"
    }
   ],
   "source": [
    "\n",
    "joblib.dump(model, 'model_stress.joblib')\n",
    "#model.predict(X.loc[[0]]) # INPUT NEEDS TO BE A DATAFRAME"
   ]
  },
  {
   "cell_type": "code",
   "execution_count": 466,
   "metadata": {},
   "outputs": [
    {
     "data": {
      "text/plain": [
       "array([2])"
      ]
     },
     "execution_count": 466,
     "metadata": {},
     "output_type": "execute_result"
    }
   ],
   "source": [
    "stress_pred=joblib.load('model_stress.joblib')\n",
    "stress_pred.predict(X.loc[[0]])"
   ]
  },
  {
   "cell_type": "code",
   "execution_count": 416,
   "metadata": {},
   "outputs": [
    {
     "data": {
      "text/html": [
       "<div>\n",
       "<style scoped>\n",
       "    .dataframe tbody tr th:only-of-type {\n",
       "        vertical-align: middle;\n",
       "    }\n",
       "\n",
       "    .dataframe tbody tr th {\n",
       "        vertical-align: top;\n",
       "    }\n",
       "\n",
       "    .dataframe thead th {\n",
       "        text-align: right;\n",
       "    }\n",
       "</style>\n",
       "<table border=\"1\" class=\"dataframe\">\n",
       "  <thead>\n",
       "    <tr style=\"text-align: right;\">\n",
       "      <th></th>\n",
       "      <th>BFF_15_1</th>\n",
       "      <th>BFF_15_2</th>\n",
       "      <th>BFF_15_3</th>\n",
       "      <th>BFF_15_4</th>\n",
       "      <th>BFF_15_5</th>\n",
       "      <th>BFF_15_6</th>\n",
       "      <th>BFF_15_7</th>\n",
       "      <th>BFF_15_8</th>\n",
       "      <th>BFF_15_9</th>\n",
       "      <th>BFF_15_10</th>\n",
       "      <th>BFF_15_11</th>\n",
       "      <th>BFF_15_12</th>\n",
       "      <th>BFF_15_13</th>\n",
       "      <th>BFF_15_14</th>\n",
       "      <th>BFF_15_15</th>\n",
       "      <th>Dem_age</th>\n",
       "      <th>Dem_gender</th>\n",
       "      <th>Dem_edu</th>\n",
       "      <th>Dem_edu_mom</th>\n",
       "      <th>Dem_employment</th>\n",
       "      <th>Dem_Expat</th>\n",
       "      <th>Dem_maritalstatus</th>\n",
       "      <th>Dem_riskgroup</th>\n",
       "      <th>Dem_isolation</th>\n",
       "    </tr>\n",
       "  </thead>\n",
       "  <tbody>\n",
       "    <tr>\n",
       "      <th>0</th>\n",
       "      <td>2.0</td>\n",
       "      <td>2.0</td>\n",
       "      <td>5.0</td>\n",
       "      <td>5.0</td>\n",
       "      <td>5.0</td>\n",
       "      <td>2.0</td>\n",
       "      <td>5.0</td>\n",
       "      <td>6.0</td>\n",
       "      <td>5.0</td>\n",
       "      <td>2.0</td>\n",
       "      <td>4.0</td>\n",
       "      <td>6.0</td>\n",
       "      <td>5.0</td>\n",
       "      <td>2.0</td>\n",
       "      <td>5.0</td>\n",
       "      <td>20</td>\n",
       "      <td>Male</td>\n",
       "      <td>College degree, bachelor, master</td>\n",
       "      <td>None</td>\n",
       "      <td>Student</td>\n",
       "      <td>yes</td>\n",
       "      <td>Single</td>\n",
       "      <td>Yes</td>\n",
       "      <td>Life carries on with minor changes</td>\n",
       "    </tr>\n",
       "  </tbody>\n",
       "</table>\n",
       "</div>"
      ],
      "text/plain": [
       "   BFF_15_1  BFF_15_2  BFF_15_3  BFF_15_4  BFF_15_5  BFF_15_6  BFF_15_7  \\\n",
       "0       2.0       2.0       5.0       5.0       5.0       2.0       5.0   \n",
       "\n",
       "   BFF_15_8  BFF_15_9  BFF_15_10  BFF_15_11  BFF_15_12  BFF_15_13  BFF_15_14  \\\n",
       "0       6.0       5.0        2.0        4.0        6.0        5.0        2.0   \n",
       "\n",
       "   BFF_15_15  Dem_age Dem_gender                           Dem_edu  \\\n",
       "0        5.0       20       Male  College degree, bachelor, master   \n",
       "\n",
       "  Dem_edu_mom Dem_employment Dem_Expat Dem_maritalstatus Dem_riskgroup  \\\n",
       "0        None        Student       yes            Single           Yes   \n",
       "\n",
       "                        Dem_isolation  \n",
       "0  Life carries on with minor changes  "
      ]
     },
     "execution_count": 416,
     "metadata": {},
     "output_type": "execute_result"
    }
   ],
   "source": [
    "X.loc[[0]]"
   ]
  },
  {
   "cell_type": "code",
   "execution_count": 417,
   "metadata": {},
   "outputs": [
    {
     "data": {
      "text/plain": [
       "array([2])"
      ]
     },
     "execution_count": 417,
     "metadata": {},
     "output_type": "execute_result"
    }
   ],
   "source": [
    "#X.iloc[-1]\n",
    "#model.predict(pd.DataFrame(X.iloc[-1]).T)\n",
    "model.predict(X.loc[[0]])"
   ]
  },
  {
   "cell_type": "markdown",
   "metadata": {},
   "source": [
    "# lONELINESS\n"
   ]
  },
  {
   "cell_type": "code",
   "execution_count": null,
   "metadata": {},
   "outputs": [],
   "source": [
    "new_df['SLON3_avg']"
   ]
  },
  {
   "cell_type": "code",
   "execution_count": 437,
   "metadata": {},
   "outputs": [],
   "source": [
    "def Xandy_lone(df):\n",
    "    X=df[['BFF_15_1','BFF_15_2','BFF_15_3','BFF_15_4','BFF_15_5','BFF_15_6','BFF_15_7','BFF_15_8','BFF_15_9','BFF_15_10','BFF_15_11',\n",
    "           'BFF_15_12','BFF_15_13','BFF_15_14','BFF_15_15','Dem_age','Dem_gender','Dem_edu','Dem_edu_mom','Dem_employment','Dem_Expat',\n",
    "          'Dem_maritalstatus','Dem_riskgroup','Dem_isolation'\n",
    "         ]].reset_index(drop=True).dropna()\n",
    "    \n",
    "    y=df['SLON3_avg'].round().astype(int)\n",
    "    return X,y    "
   ]
  },
  {
   "cell_type": "code",
   "execution_count": 439,
   "metadata": {},
   "outputs": [
    {
     "data": {
      "text/plain": [
       "0        2\n",
       "1        2\n",
       "2        3\n",
       "3        3\n",
       "4        3\n",
       "        ..\n",
       "85484    1\n",
       "85485    2\n",
       "85486    2\n",
       "85487    1\n",
       "85488    2\n",
       "Name: SLON3_avg, Length: 85489, dtype: int64"
      ]
     },
     "execution_count": 439,
     "metadata": {},
     "output_type": "execute_result"
    }
   ],
   "source": [
    "from mord import LogisticAT\n",
    "import pandas as pd\n",
    "data=get_data()\n",
    "X,y=Xandy_lone(data)\n",
    "\n",
    "model=process_pipeline(X,LogisticAT(alpha=0))\n",
    "\n",
    "model.fit(X,y)\n",
    "model.predict(X.loc[[0]]) # INPUT NEEDS TO BE A DATAFRAME\n"
   ]
  },
  {
   "cell_type": "code",
   "execution_count": 440,
   "metadata": {},
   "outputs": [
    {
     "data": {
      "text/plain": [
       "0        2\n",
       "1        2\n",
       "2        3\n",
       "3        3\n",
       "4        3\n",
       "        ..\n",
       "85484    1\n",
       "85485    2\n",
       "85486    2\n",
       "85487    1\n",
       "85488    2\n",
       "Name: SLON3_avg, Length: 85489, dtype: int64"
      ]
     },
     "execution_count": 440,
     "metadata": {},
     "output_type": "execute_result"
    }
   ],
   "source": [
    "y"
   ]
  }
 ],
 "metadata": {
  "kernelspec": {
   "display_name": "Python 3",
   "language": "python",
   "name": "python3"
  },
  "language_info": {
   "codemirror_mode": {
    "name": "ipython",
    "version": 3
   },
   "file_extension": ".py",
   "mimetype": "text/x-python",
   "name": "python",
   "nbconvert_exporter": "python",
   "pygments_lexer": "ipython3",
   "version": "3.8.6"
  }
 },
 "nbformat": 4,
 "nbformat_minor": 4
}
