{
 "cells": [
  {
   "cell_type": "code",
   "execution_count": 46,
   "metadata": {},
   "outputs": [],
   "source": [
    "import pandas as pd\n",
    "unfiltered_data=pd.read_csv('../raw_data/cleaned_data_040321.csv',encoding='latin-1')"
   ]
  },
  {
   "cell_type": "code",
   "execution_count": 32,
   "metadata": {},
   "outputs": [
    {
     "data": {
      "text/plain": [
       "Female                        90400\n",
       "Male                          33126\n",
       "Other/would rather not say     1474\n",
       "Name: Dem_gender, dtype: int64"
      ]
     },
     "execution_count": 32,
     "metadata": {},
     "output_type": "execute_result"
    }
   ],
   "source": [
    "unfiltered_data['Dem_gender'].value_counts()"
   ]
  },
  {
   "cell_type": "code",
   "execution_count": 33,
   "metadata": {},
   "outputs": [],
   "source": [
    "unfiltered_data.drop(columns=['ID','answered_all','Duration..in.seconds.','RecordedDate','experience_war','born_92','experience_war','experience_war_TXT','war_injury','loss_during_war','time_spent_in_war','time_spent_in_war_TXT','Expl_coping_txt','Expl_Distress_txt','Final_open','AD_gain','AD_loss','AD_check'],inplace=True)"
   ]
  },
  {
   "cell_type": "code",
   "execution_count": 34,
   "metadata": {},
   "outputs": [
    {
     "name": "stdout",
     "output_type": "stream",
     "text": [
      "UserLanguage 0.0\n",
      "Dem_age 0.0\n",
      "Dem_gender 0.00244202193031459\n",
      "Dem_edu 0.006695609148803729\n",
      "Dem_edu_mom 0.017102133976026685\n",
      "Dem_employment 0.009073787368521859\n",
      "Country 0.004349352784383829\n",
      "Dem_Expat 0.005682090243084928\n",
      "Dem_state 0.10784798812506984\n",
      "Dem_maritalstatus 0.008100170781925846\n",
      "Dem_dependents 0.03072478572454631\n",
      "Dem_riskgroup 0.004939907107401082\n",
      "Dem_isolation 0.014229166999185992\n",
      "Dem_isolation_adults 0.17050260961167063\n",
      "Dem_isolation_kids 0.1842130464622604\n",
      "Scale_PSS10_UCLA_1 0.0802036614368027\n",
      "Scale_PSS10_UCLA_2 0.08045105581536399\n",
      "Scale_PSS10_UCLA_3 0.08007597401560979\n",
      "Scale_PSS10_UCLA_4 0.0808979617895392\n",
      "Scale_PSS10_UCLA_5 0.0818955197676089\n",
      "Scale_PSS10_UCLA_6 0.08013981772620625\n",
      "Scale_PSS10_UCLA_7 0.08143265286578456\n",
      "Scale_PSS10_UCLA_8 0.08177581281024053\n",
      "Scale_PSS10_UCLA_9 0.07974877499880292\n",
      "Scale_PSS10_UCLA_10 0.08001213030501332\n",
      "Scale_SLON_1 0.08077027436834629\n",
      "Scale_SLON_2 0.08136082869136355\n",
      "Scale_SLON_3 0.08092190318101287\n",
      "OECD_people_1 0.11275597337717268\n",
      "OECD_people_2 0.11073691602955964\n",
      "OECD_insititutions_1 0.12777520629498987\n",
      "OECD_insititutions_2 0.12090402694204587\n",
      "OECD_insititutions_3 0.12277145547699232\n",
      "OECD_insititutions_4 0.11696167781271448\n",
      "OECD_insititutions_5 0.1236572869615182\n",
      "OECD_insititutions_6 0.12199735048601025\n",
      "Corona_concerns_1 0.11345027372990918\n",
      "Corona_concerns_2 0.11738464239541602\n",
      "Corona_concerns_3 0.11756021259955629\n",
      "Corona_concerns_4 0.11833431759053836\n",
      "Corona_concerns_5 0.11829441527141557\n",
      "Trust_countrymeasure 0.11258040317303242\n",
      "Compliance_1 0.12549279364116642\n",
      "Compliance_2 0.12549279364116642\n",
      "Compliance_3 0.12577210987502593\n",
      "Compliance_4 0.12584393404944696\n",
      "Compliance_5 0.12467878633106157\n",
      "Compliance_6 0.12484637607137727\n",
      "Scale_UCLA_TRI_1 0.9996009768087721\n",
      "Scale_UCLA_TRI_2 0.9995929963449476\n",
      "Scale_UCLA_TRI_3 0.9995929963449476\n",
      "Scale_UCLA_TRI_4 0.9996009768087721\n",
      "PS_PTSD_1 0.9995929963449476\n",
      "PS_PTSD_2 0.9996009768087721\n",
      "PS_PTSD_3 0.9996089572725967\n",
      "PS_PTSD_4 0.9996009768087721\n",
      "PS_PTSD_5 0.9996089572725967\n",
      "BFF_15_1 0.13826951622428296\n",
      "BFF_15_2 0.13839720364547586\n",
      "BFF_15_3 0.13760713772684469\n",
      "BFF_15_4 0.13864459802403717\n",
      "BFF_15_5 0.13904362121526503\n",
      "BFF_15_6 0.13892391425789666\n",
      "BFF_15_7 0.13877228544523007\n",
      "BFF_15_8 0.1390675626067387\n",
      "BFF_15_9 0.13855681292196703\n",
      "BFF_15_10 0.13807798509249358\n",
      "BFF_15_11 0.1389159337940721\n",
      "BFF_15_12 0.13814182880309003\n",
      "BFF_15_13 0.13909948446203693\n",
      "BFF_15_14 0.13924313281087897\n",
      "BFF_15_15 0.13847700828372145\n",
      "Expl_Distress_1 0.20361355401975964\n",
      "Expl_Distress_2 0.20524156863996937\n",
      "Expl_Distress_3 0.21209678706526422\n",
      "Expl_Distress_4 0.2052335881761448\n",
      "Expl_Distress_5 0.2027197420714092\n",
      "Expl_Distress_6 0.20267185928846185\n",
      "Expl_Distress_7 0.20487446730403971\n",
      "Expl_Distress_8 0.20624710708186358\n",
      "Expl_Distress_9 0.21511340239094695\n",
      "Expl_Distress_10 0.20332625732207557\n",
      "Expl_Distress_11 0.2044993855042855\n",
      "Expl_Distress_12 0.2022329337781112\n",
      "Expl_Distress_13 0.20180198873158509\n",
      "Expl_Distress_14 0.2026080155778654\n",
      "Expl_Distress_15 0.20572039646944282\n",
      "Expl_Distress_16 0.20351778845386495\n",
      "Expl_Distress_17 0.20346192520709303\n",
      "Expl_Distress_18 0.20323847222000543\n",
      "Expl_Distress_19 0.20303098016056692\n",
      "Expl_Distress_20 0.20477870173814502\n",
      "Expl_Distress_21 0.20339010103267202\n",
      "Expl_Distress_22 0.20331029639442644\n",
      "Expl_Distress_23 0.20177006687628685\n",
      "Expl_Distress_24 0.20278358578200564\n",
      "SPS_1 0.25041897435078925\n",
      "SPS_2 0.25115317702264855\n",
      "SPS_3 0.25053868130815765\n",
      "SPS_4 0.25031522832107\n",
      "SPS_5 0.2503391697125437\n",
      "SPS_6 0.25110529423970124\n",
      "SPS_7 0.25031522832107\n",
      "SPS_8 0.25118509887794677\n",
      "SPS_9 0.25205496943482353\n",
      "SPS_10 0.25027532600194724\n",
      "Expl_Coping_1 0.25380269101240166\n",
      "Expl_Coping_2 0.2564043222192074\n",
      "Expl_Coping_3 0.25294080091934945\n",
      "Expl_Coping_4 0.2674093818332722\n",
      "Expl_Coping_5 0.26104097170127527\n",
      "Expl_Coping_6 0.25355529663384035\n",
      "Expl_Coping_7 0.26014715975292485\n",
      "Expl_Coping_8 0.26100904984597706\n",
      "Expl_Coping_9 0.2527173479322618\n",
      "Expl_Coping_10 0.2572502513846105\n",
      "Expl_Coping_11 0.2555903149091025\n",
      "Expl_Coping_12 0.25385855425917353\n",
      "Expl_Coping_13 0.26250937704499383\n",
      "Expl_Coping_14 0.2532520390085072\n",
      "Expl_Coping_15 0.2574896652993472\n",
      "Expl_Coping_16 0.2534196287488229\n",
      "Expl_media_1 0.26046637830590713\n",
      "Expl_media_2 0.2605860852632755\n",
      "Expl_media_3 0.26042647598678437\n",
      "Expl_media_4 0.26031474949324057\n",
      "Expl_media_5 0.26029080810176686\n",
      "Expl_media_6 0.2601711011443985\n",
      "PSS10_avg 0.07349209136034987\n",
      "SLON3_avg 0.07544730499736645\n",
      "neu 0.1351810767241792\n",
      "ext 0.13553221713245975\n",
      "ope 0.13556413898775796\n",
      "agr 0.13547635388568782\n",
      "con 0.1355401975962843\n",
      "SPS_avg 0.24673200006384371\n",
      "Scale_UCLA_TRI_avg 0.9995929963449476\n"
     ]
    }
   ],
   "source": [
    "columns = unfiltered_data.columns\n",
    "\n",
    "for i in columns:\n",
    "    percent=unfiltered_data[i].isna().sum()/len(unfiltered_data)\n",
    "    print(i, percent)\n",
    "    \n",
    "    if(percent > 0.90):\n",
    "        unfiltered_data.drop(columns=i,inplace=True)\n",
    "        "
   ]
  },
  {
   "cell_type": "code",
   "execution_count": null,
   "metadata": {},
   "outputs": [],
   "source": []
  },
  {
   "cell_type": "code",
   "execution_count": 35,
   "metadata": {},
   "outputs": [],
   "source": [
    "import numpy as np\n",
    "for i in unfiltered_data.loc[:,'UserLanguage':'Dem_isolation_kids']:\n",
    "    unfiltered_data[i].replace(np.nan,'missing',inplace=True)\n"
   ]
  },
  {
   "cell_type": "code",
   "execution_count": 36,
   "metadata": {},
   "outputs": [],
   "source": [
    "unfiltered_data.dropna(how='any', axis=0, thresh=2, subset=['Scale_PSS10_UCLA_1', 'Scale_PSS10_UCLA_2', 'Scale_PSS10_UCLA_3', 'Scale_PSS10_UCLA_4', 'Scale_PSS10_UCLA_5', 'Scale_PSS10_UCLA_6', 'Scale_PSS10_UCLA_7', 'Scale_PSS10_UCLA_8', 'Scale_PSS10_UCLA_9', 'Scale_PSS10_UCLA_10'], inplace=True)"
   ]
  },
  {
   "cell_type": "code",
   "execution_count": 37,
   "metadata": {},
   "outputs": [
    {
     "data": {
      "text/plain": [
       "Index(['UserLanguage', 'Dem_age', 'Dem_gender', 'Dem_edu', 'Dem_edu_mom',\n",
       "       'Dem_employment', 'Country', 'Dem_Expat', 'Dem_state',\n",
       "       'Dem_maritalstatus',\n",
       "       ...\n",
       "       'Expl_media_5', 'Expl_media_6', 'PSS10_avg', 'SLON3_avg', 'neu', 'ext',\n",
       "       'ope', 'agr', 'con', 'SPS_avg'],\n",
       "      dtype='object', length=127)"
      ]
     },
     "execution_count": 37,
     "metadata": {},
     "output_type": "execute_result"
    }
   ],
   "source": [
    "unfiltered_data.columns"
   ]
  },
  {
   "cell_type": "code",
   "execution_count": null,
   "metadata": {},
   "outputs": [],
   "source": [
    "# encoding sex"
   ]
  },
  {
   "cell_type": "code",
   "execution_count": 39,
   "metadata": {},
   "outputs": [
    {
     "data": {
      "text/plain": [
       "Female                        83953\n",
       "Male                          30402\n",
       "Other/would rather not say     1330\n",
       "missing                         254\n",
       "Name: Dem_gender, dtype: int64"
      ]
     },
     "execution_count": 39,
     "metadata": {},
     "output_type": "execute_result"
    }
   ],
   "source": [
    "unfiltered_data['Dem_gender'].value_counts()\n"
   ]
  },
  {
   "cell_type": "code",
   "execution_count": 50,
   "metadata": {},
   "outputs": [
    {
     "data": {
      "text/plain": [
       "Female                        61626\n",
       "Male                          22988\n",
       "Other/would rather not say      875\n",
       "Name: Dem_gender, dtype: int64"
      ]
     },
     "execution_count": 50,
     "metadata": {},
     "output_type": "execute_result"
    }
   ],
   "source": [
    "unfiltered_data['Dem_gender'].value_counts()"
   ]
  },
  {
   "cell_type": "code",
   "execution_count": 41,
   "metadata": {},
   "outputs": [],
   "source": [
    "unfiltered_data.dropna(inplace=True)"
   ]
  },
  {
   "cell_type": "code",
   "execution_count": 44,
   "metadata": {},
   "outputs": [
    {
     "data": {
      "text/plain": [
       "(70669, 127)"
      ]
     },
     "execution_count": 44,
     "metadata": {},
     "output_type": "execute_result"
    }
   ],
   "source": [
    "unfiltered_data.shape"
   ]
  },
  {
   "cell_type": "code",
   "execution_count": 49,
   "metadata": {},
   "outputs": [
    {
     "data": {
      "text/plain": [
       "Index(['Unnamed: 0', 'UserLanguage', 'Dem_age', 'Dem_gender', 'Dem_edu',\n",
       "       'Dem_edu_mom', 'Dem_employment', 'Country', 'Dem_Expat',\n",
       "       'Dem_maritalstatus',\n",
       "       ...\n",
       "       'Expl_media_5', 'Expl_media_6', 'PSS10_avg', 'SLON3_avg', 'neu', 'ext',\n",
       "       'ope', 'agr', 'con', 'SPS_avg'],\n",
       "      dtype='object', length=126)"
      ]
     },
     "execution_count": 49,
     "metadata": {},
     "output_type": "execute_result"
    }
   ],
   "source": [
    "unfiltered_data.columns"
   ]
  },
  {
   "cell_type": "code",
   "execution_count": 52,
   "metadata": {},
   "outputs": [],
   "source": [
    "from sklearn import preprocessing\n",
    "from sklearn.preprocessing import OneHotEncoder\n",
    "ohe = OneHotEncoder(sparse = False)\n",
    "ohe.fit(unfiltered_data[['Dem_gender']]) \n",
    "unfiltered_data[['Female','Male','Other']]= ohe.transform(unfiltered_data[['Dem_gender']])\n"
   ]
  },
  {
   "cell_type": "code",
   "execution_count": 56,
   "metadata": {},
   "outputs": [
    {
     "data": {
      "text/plain": [
       "College degree, bachelor, master                          46217\n",
       "Some College, short continuing education or equivalent    19157\n",
       "Up to 12 years of school                                   8692\n",
       "PhD/Doctorate                                              7965\n",
       "Up to 6 years of school                                    1372\n",
       "Up to 9 years of school                                    1204\n",
       "None                                                        871\n",
       "Uninformative response                                       11\n",
       "Name: Dem_edu, dtype: int64"
      ]
     },
     "execution_count": 56,
     "metadata": {},
     "output_type": "execute_result"
    }
   ],
   "source": [
    "unfiltered_data['Dem_edu'].value_counts()"
   ]
  },
  {
   "cell_type": "code",
   "execution_count": 91,
   "metadata": {},
   "outputs": [],
   "source": [
    "unfiltered_data.drop(columns='Dem_isolation',inplace=True)"
   ]
  },
  {
   "cell_type": "code",
   "execution_count": 62,
   "metadata": {},
   "outputs": [],
   "source": [
    "unfiltered_data['Dem_edu'] = unfiltered_data['Dem_edu'].replace({'Uninformative response':0,'None':1,'Up to 6 years of school':2, 'Up to 9 years of school':3, 'Up to 12 years of school':4, 'Some College, short continuing education or equivalent':5, 'College degree, bachelor, master': 6, 'PhD/Doctorate':7 })"
   ]
  },
  {
   "cell_type": "code",
   "execution_count": 61,
   "metadata": {},
   "outputs": [
    {
     "data": {
      "text/plain": [
       "0                     College degree, bachelor, master\n",
       "1                     College degree, bachelor, master\n",
       "2    Some College, short continuing education or eq...\n",
       "3                             Up to 12 years of school\n",
       "4                     College degree, bachelor, master\n",
       "Name: Dem_edu, dtype: object"
      ]
     },
     "execution_count": 61,
     "metadata": {},
     "output_type": "execute_result"
    }
   ],
   "source": [
    "unfiltered_data['Dem_edu'].head()"
   ]
  },
  {
   "cell_type": "code",
   "execution_count": 68,
   "metadata": {
    "scrolled": true
   },
   "outputs": [
    {
     "data": {
      "text/plain": [
       "Full time employed    40909\n",
       "Student               14222\n",
       "Self-employed          8973\n",
       "Part time employed     7972\n",
       "Not employed           7456\n",
       "Retired                5957\n",
       "Name: Dem_employment, dtype: int64"
      ]
     },
     "execution_count": 68,
     "metadata": {},
     "output_type": "execute_result"
    }
   ],
   "source": [
    "unfiltered_data['Dem_employment'].value_counts()"
   ]
  },
  {
   "cell_type": "code",
   "execution_count": 66,
   "metadata": {},
   "outputs": [],
   "source": [
    "unfiltered_data['Dem_riskgroup'] = unfiltered_data['Dem_riskgroup'].replace({'No':1,'Not sure':2, 'Yes':3})"
   ]
  },
  {
   "cell_type": "code",
   "execution_count": 69,
   "metadata": {},
   "outputs": [],
   "source": [
    "from sklearn import preprocessing\n",
    "from sklearn.preprocessing import OneHotEncoder\n",
    "ohe = OneHotEncoder(sparse = False)\n",
    "ohe.fit(unfiltered_data[['Dem_employment']]) \n",
    "unfiltered_data[['Full time employed','Student','Self-employed','Part time employed','Not employed','Retired']]= ohe.transform(unfiltered_data[['Dem_employment']])"
   ]
  },
  {
   "cell_type": "code",
   "execution_count": 72,
   "metadata": {},
   "outputs": [],
   "source": [
    "pd.set_option('display.max_columns', None)"
   ]
  },
  {
   "cell_type": "code",
   "execution_count": 75,
   "metadata": {},
   "outputs": [
    {
     "data": {
      "text/plain": [
       "Married/cohabiting               46360\n",
       "Single                           29455\n",
       "Divorced/widowed                  6356\n",
       "Other or would rather not say     3287\n",
       "Uninformative response              31\n",
       "Name: Dem_maritalstatus, dtype: int64"
      ]
     },
     "execution_count": 75,
     "metadata": {},
     "output_type": "execute_result"
    }
   ],
   "source": [
    "unfiltered_data['Dem_maritalstatus'].value_counts()"
   ]
  },
  {
   "cell_type": "code",
   "execution_count": 77,
   "metadata": {},
   "outputs": [],
   "source": [
    "from sklearn import preprocessing\n",
    "from sklearn.preprocessing import OneHotEncoder\n",
    "ohe = OneHotEncoder(sparse = False)\n",
    "ohe.fit(unfiltered_data[['Dem_maritalstatus']]) \n",
    "unfiltered_data[['Married/cohabiting','Single','Divorced/widowed','Other','Uninformative response']]= ohe.transform(unfiltered_data[['Dem_maritalstatus']])"
   ]
  },
  {
   "cell_type": "code",
   "execution_count": 92,
   "metadata": {
    "scrolled": true
   },
   "outputs": [
    {
     "data": {
      "text/plain": [
       "College degree                24889\n",
       "Up to 12 years of school      20615\n",
       "Some College or equivalent    15409\n",
       "Up to 9 years of school       10753\n",
       "Up to 6 years of school        7059\n",
       "None                           4243\n",
       "PhD/Doctorate                  2504\n",
       "Uninformative response           17\n",
       "Name: Dem_edu_mom, dtype: int64"
      ]
     },
     "execution_count": 92,
     "metadata": {},
     "output_type": "execute_result"
    }
   ],
   "source": [
    "unfiltered_data['Dem_edu_mom'].value_counts()"
   ]
  },
  {
   "cell_type": "code",
   "execution_count": 89,
   "metadata": {},
   "outputs": [
    {
     "data": {
      "text/plain": [
       "6    46217\n",
       "5    19157\n",
       "4     8692\n",
       "7     7965\n",
       "2     1372\n",
       "3     1204\n",
       "1      871\n",
       "0       11\n",
       "Name: Dem_edu, dtype: int64"
      ]
     },
     "execution_count": 89,
     "metadata": {},
     "output_type": "execute_result"
    }
   ],
   "source": [
    "unfiltered_data['Dem_edu']"
   ]
  },
  {
   "cell_type": "code",
   "execution_count": 81,
   "metadata": {},
   "outputs": [],
   "source": [
    "unfiltered_data['Dem_Expat'] = unfiltered_data['Dem_Expat'].replace({'no':0,'yes':1})"
   ]
  },
  {
   "cell_type": "code",
   "execution_count": 82,
   "metadata": {},
   "outputs": [
    {
     "data": {
      "text/plain": [
       "(85489, 136)"
      ]
     },
     "execution_count": 82,
     "metadata": {},
     "output_type": "execute_result"
    }
   ],
   "source": [
    "unfiltered_data.shape"
   ]
  },
  {
   "cell_type": "code",
   "execution_count": null,
   "metadata": {},
   "outputs": [],
   "source": [
    "unfiltered_data['Dem_edu'] = unfiltered_data['Dem_edu'].replace({'Uninformative response':0,'None':1,'Up to 6 years of school':2, 'Up to 9 years of school':3, 'Up to 12 years of school':4, 'Some College, short continuing education or equivalent':5, 'College degree, bachelor, master': 6, 'PhD/Doctorate':7 })"
   ]
  },
  {
   "cell_type": "code",
   "execution_count": 90,
   "metadata": {},
   "outputs": [],
   "source": [
    "ohe = OneHotEncoder(sparse = False)\n",
    "ohe.fit(unfiltered_data[['Dem_isolation']]) \n",
    "unfiltered_data[['Life carries on with minor changes','Isolated','Life carries on as usual','Isolated in medical facility of similar location','no opinion',]]= ohe.transform(unfiltered_data[['Dem_isolation']])"
   ]
  },
  {
   "cell_type": "code",
   "execution_count": 87,
   "metadata": {},
   "outputs": [
    {
     "data": {
      "text/html": [
       "<div>\n",
       "<style scoped>\n",
       "    .dataframe tbody tr th:only-of-type {\n",
       "        vertical-align: middle;\n",
       "    }\n",
       "\n",
       "    .dataframe tbody tr th {\n",
       "        vertical-align: top;\n",
       "    }\n",
       "\n",
       "    .dataframe thead th {\n",
       "        text-align: right;\n",
       "    }\n",
       "</style>\n",
       "<table border=\"1\" class=\"dataframe\">\n",
       "  <thead>\n",
       "    <tr style=\"text-align: right;\">\n",
       "      <th></th>\n",
       "      <th>Unnamed: 0</th>\n",
       "      <th>UserLanguage</th>\n",
       "      <th>Dem_age</th>\n",
       "      <th>Dem_edu</th>\n",
       "      <th>Dem_edu_mom</th>\n",
       "      <th>Country</th>\n",
       "      <th>Dem_Expat</th>\n",
       "      <th>Dem_dependents</th>\n",
       "      <th>Dem_riskgroup</th>\n",
       "      <th>Dem_isolation</th>\n",
       "      <th>Dem_isolation_adults</th>\n",
       "      <th>Dem_isolation_kids</th>\n",
       "      <th>Scale_PSS10_UCLA_1</th>\n",
       "      <th>Scale_PSS10_UCLA_2</th>\n",
       "      <th>Scale_PSS10_UCLA_3</th>\n",
       "      <th>Scale_PSS10_UCLA_4</th>\n",
       "      <th>Scale_PSS10_UCLA_5</th>\n",
       "      <th>Scale_PSS10_UCLA_6</th>\n",
       "      <th>Scale_PSS10_UCLA_7</th>\n",
       "      <th>Scale_PSS10_UCLA_8</th>\n",
       "      <th>Scale_PSS10_UCLA_9</th>\n",
       "      <th>Scale_PSS10_UCLA_10</th>\n",
       "      <th>Scale_SLON_1</th>\n",
       "      <th>Scale_SLON_2</th>\n",
       "      <th>Scale_SLON_3</th>\n",
       "      <th>OECD_people_1</th>\n",
       "      <th>OECD_people_2</th>\n",
       "      <th>OECD_insititutions_1</th>\n",
       "      <th>OECD_insititutions_2</th>\n",
       "      <th>OECD_insititutions_3</th>\n",
       "      <th>OECD_insititutions_4</th>\n",
       "      <th>OECD_insititutions_5</th>\n",
       "      <th>OECD_insititutions_6</th>\n",
       "      <th>Corona_concerns_1</th>\n",
       "      <th>Corona_concerns_2</th>\n",
       "      <th>Corona_concerns_3</th>\n",
       "      <th>Corona_concerns_4</th>\n",
       "      <th>Corona_concerns_5</th>\n",
       "      <th>Trust_countrymeasure</th>\n",
       "      <th>Compliance_1</th>\n",
       "      <th>Compliance_2</th>\n",
       "      <th>Compliance_3</th>\n",
       "      <th>Compliance_4</th>\n",
       "      <th>Compliance_5</th>\n",
       "      <th>Compliance_6</th>\n",
       "      <th>BFF_15_1</th>\n",
       "      <th>BFF_15_2</th>\n",
       "      <th>BFF_15_3</th>\n",
       "      <th>BFF_15_4</th>\n",
       "      <th>BFF_15_5</th>\n",
       "      <th>BFF_15_6</th>\n",
       "      <th>BFF_15_7</th>\n",
       "      <th>BFF_15_8</th>\n",
       "      <th>BFF_15_9</th>\n",
       "      <th>BFF_15_10</th>\n",
       "      <th>BFF_15_11</th>\n",
       "      <th>BFF_15_12</th>\n",
       "      <th>BFF_15_13</th>\n",
       "      <th>BFF_15_14</th>\n",
       "      <th>BFF_15_15</th>\n",
       "      <th>Expl_Distress_1</th>\n",
       "      <th>Expl_Distress_2</th>\n",
       "      <th>Expl_Distress_3</th>\n",
       "      <th>Expl_Distress_4</th>\n",
       "      <th>Expl_Distress_5</th>\n",
       "      <th>Expl_Distress_6</th>\n",
       "      <th>Expl_Distress_7</th>\n",
       "      <th>Expl_Distress_8</th>\n",
       "      <th>Expl_Distress_9</th>\n",
       "      <th>Expl_Distress_10</th>\n",
       "      <th>Expl_Distress_11</th>\n",
       "      <th>Expl_Distress_12</th>\n",
       "      <th>Expl_Distress_13</th>\n",
       "      <th>Expl_Distress_14</th>\n",
       "      <th>Expl_Distress_15</th>\n",
       "      <th>Expl_Distress_16</th>\n",
       "      <th>Expl_Distress_17</th>\n",
       "      <th>Expl_Distress_18</th>\n",
       "      <th>Expl_Distress_19</th>\n",
       "      <th>Expl_Distress_20</th>\n",
       "      <th>Expl_Distress_21</th>\n",
       "      <th>Expl_Distress_22</th>\n",
       "      <th>Expl_Distress_23</th>\n",
       "      <th>Expl_Distress_24</th>\n",
       "      <th>SPS_1</th>\n",
       "      <th>SPS_2</th>\n",
       "      <th>SPS_3</th>\n",
       "      <th>SPS_4</th>\n",
       "      <th>SPS_5</th>\n",
       "      <th>SPS_6</th>\n",
       "      <th>SPS_7</th>\n",
       "      <th>SPS_8</th>\n",
       "      <th>SPS_9</th>\n",
       "      <th>SPS_10</th>\n",
       "      <th>Expl_Coping_1</th>\n",
       "      <th>Expl_Coping_2</th>\n",
       "      <th>Expl_Coping_3</th>\n",
       "      <th>Expl_Coping_5</th>\n",
       "      <th>Expl_Coping_6</th>\n",
       "      <th>Expl_Coping_7</th>\n",
       "      <th>Expl_Coping_8</th>\n",
       "      <th>Expl_Coping_9</th>\n",
       "      <th>Expl_Coping_10</th>\n",
       "      <th>Expl_Coping_11</th>\n",
       "      <th>Expl_Coping_12</th>\n",
       "      <th>Expl_Coping_13</th>\n",
       "      <th>Expl_Coping_14</th>\n",
       "      <th>Expl_Coping_15</th>\n",
       "      <th>Expl_Coping_16</th>\n",
       "      <th>Expl_media_1</th>\n",
       "      <th>Expl_media_2</th>\n",
       "      <th>Expl_media_3</th>\n",
       "      <th>Expl_media_4</th>\n",
       "      <th>Expl_media_5</th>\n",
       "      <th>Expl_media_6</th>\n",
       "      <th>PSS10_avg</th>\n",
       "      <th>SLON3_avg</th>\n",
       "      <th>neu</th>\n",
       "      <th>ext</th>\n",
       "      <th>ope</th>\n",
       "      <th>agr</th>\n",
       "      <th>con</th>\n",
       "      <th>SPS_avg</th>\n",
       "      <th>Female</th>\n",
       "      <th>Male</th>\n",
       "      <th>Other</th>\n",
       "      <th>Full time employed</th>\n",
       "      <th>Student</th>\n",
       "      <th>Self-employed</th>\n",
       "      <th>Part time employed</th>\n",
       "      <th>Not employed</th>\n",
       "      <th>Retired</th>\n",
       "      <th>Married/cohabiting</th>\n",
       "      <th>Single</th>\n",
       "      <th>Divorced/widowed</th>\n",
       "      <th>Uninformative response</th>\n",
       "    </tr>\n",
       "  </thead>\n",
       "  <tbody>\n",
       "    <tr>\n",
       "      <th>0</th>\n",
       "      <td>1</td>\n",
       "      <td>UR</td>\n",
       "      <td>20</td>\n",
       "      <td>6</td>\n",
       "      <td>None</td>\n",
       "      <td>Pakistan</td>\n",
       "      <td>1</td>\n",
       "      <td>0.0</td>\n",
       "      <td>3</td>\n",
       "      <td>Life carries on with minor changes</td>\n",
       "      <td>missing</td>\n",
       "      <td>missing</td>\n",
       "      <td>3.0</td>\n",
       "      <td>3.0</td>\n",
       "      <td>1.0</td>\n",
       "      <td>5.0</td>\n",
       "      <td>2.0</td>\n",
       "      <td>3.0</td>\n",
       "      <td>4.0</td>\n",
       "      <td>4.0</td>\n",
       "      <td>2.0</td>\n",
       "      <td>1.0</td>\n",
       "      <td>3.0</td>\n",
       "      <td>1.0</td>\n",
       "      <td>3.0</td>\n",
       "      <td>3.0</td>\n",
       "      <td>10.0</td>\n",
       "      <td>5.0</td>\n",
       "      <td>4.0</td>\n",
       "      <td>4.0</td>\n",
       "      <td>2.0</td>\n",
       "      <td>4.0</td>\n",
       "      <td>5.0</td>\n",
       "      <td>1.0</td>\n",
       "      <td>2.0</td>\n",
       "      <td>4.0</td>\n",
       "      <td>4.0</td>\n",
       "      <td>5.0</td>\n",
       "      <td>5.0</td>\n",
       "      <td>6.0</td>\n",
       "      <td>3.0</td>\n",
       "      <td>3.0</td>\n",
       "      <td>2.0</td>\n",
       "      <td>4.0</td>\n",
       "      <td>2.0</td>\n",
       "      <td>2.0</td>\n",
       "      <td>2.0</td>\n",
       "      <td>5.0</td>\n",
       "      <td>5.0</td>\n",
       "      <td>5.0</td>\n",
       "      <td>2.0</td>\n",
       "      <td>5.0</td>\n",
       "      <td>6.0</td>\n",
       "      <td>5.0</td>\n",
       "      <td>2.0</td>\n",
       "      <td>4.0</td>\n",
       "      <td>6.0</td>\n",
       "      <td>5.0</td>\n",
       "      <td>2.0</td>\n",
       "      <td>5.0</td>\n",
       "      <td>6.0</td>\n",
       "      <td>5.0</td>\n",
       "      <td>99.0</td>\n",
       "      <td>4.0</td>\n",
       "      <td>5.0</td>\n",
       "      <td>4.0</td>\n",
       "      <td>6.0</td>\n",
       "      <td>99.0</td>\n",
       "      <td>99.0</td>\n",
       "      <td>99.0</td>\n",
       "      <td>99.0</td>\n",
       "      <td>1.0</td>\n",
       "      <td>1.0</td>\n",
       "      <td>4.0</td>\n",
       "      <td>5.0</td>\n",
       "      <td>5.0</td>\n",
       "      <td>5.0</td>\n",
       "      <td>4.0</td>\n",
       "      <td>4.0</td>\n",
       "      <td>1.0</td>\n",
       "      <td>2.0</td>\n",
       "      <td>2.0</td>\n",
       "      <td>4.0</td>\n",
       "      <td>99.0</td>\n",
       "      <td>5.0</td>\n",
       "      <td>4.0</td>\n",
       "      <td>5.0</td>\n",
       "      <td>6.0</td>\n",
       "      <td>6.0</td>\n",
       "      <td>5.0</td>\n",
       "      <td>5.0</td>\n",
       "      <td>5.0</td>\n",
       "      <td>4.0</td>\n",
       "      <td>5.0</td>\n",
       "      <td>4.0</td>\n",
       "      <td>5.0</td>\n",
       "      <td>5.0</td>\n",
       "      <td>5.0</td>\n",
       "      <td>4.0</td>\n",
       "      <td>2.0</td>\n",
       "      <td>2.0</td>\n",
       "      <td>3.0</td>\n",
       "      <td>5.0</td>\n",
       "      <td>3.0</td>\n",
       "      <td>4.0</td>\n",
       "      <td>5.0</td>\n",
       "      <td>5.0</td>\n",
       "      <td>5.0</td>\n",
       "      <td>3.0</td>\n",
       "      <td>1.0</td>\n",
       "      <td>2.0</td>\n",
       "      <td>3.0</td>\n",
       "      <td>4.0</td>\n",
       "      <td>2.0</td>\n",
       "      <td>3.0</td>\n",
       "      <td>2.2</td>\n",
       "      <td>2.333333</td>\n",
       "      <td>2.0</td>\n",
       "      <td>5.0</td>\n",
       "      <td>5.333333</td>\n",
       "      <td>5.0</td>\n",
       "      <td>5.0</td>\n",
       "      <td>5.0</td>\n",
       "      <td>0.0</td>\n",
       "      <td>1.0</td>\n",
       "      <td>1.0</td>\n",
       "      <td>0.0</td>\n",
       "      <td>0.0</td>\n",
       "      <td>0.0</td>\n",
       "      <td>0.0</td>\n",
       "      <td>0.0</td>\n",
       "      <td>1.0</td>\n",
       "      <td>0.0</td>\n",
       "      <td>0.0</td>\n",
       "      <td>0.0</td>\n",
       "      <td>0.0</td>\n",
       "    </tr>\n",
       "  </tbody>\n",
       "</table>\n",
       "</div>"
      ],
      "text/plain": [
       "   Unnamed: 0 UserLanguage  Dem_age  Dem_edu Dem_edu_mom   Country  Dem_Expat  \\\n",
       "0           1           UR       20        6        None  Pakistan          1   \n",
       "\n",
       "   Dem_dependents  Dem_riskgroup                       Dem_isolation  \\\n",
       "0             0.0              3  Life carries on with minor changes   \n",
       "\n",
       "  Dem_isolation_adults Dem_isolation_kids  Scale_PSS10_UCLA_1  \\\n",
       "0              missing            missing                 3.0   \n",
       "\n",
       "   Scale_PSS10_UCLA_2  Scale_PSS10_UCLA_3  Scale_PSS10_UCLA_4  \\\n",
       "0                 3.0                 1.0                 5.0   \n",
       "\n",
       "   Scale_PSS10_UCLA_5  Scale_PSS10_UCLA_6  Scale_PSS10_UCLA_7  \\\n",
       "0                 2.0                 3.0                 4.0   \n",
       "\n",
       "   Scale_PSS10_UCLA_8  Scale_PSS10_UCLA_9  Scale_PSS10_UCLA_10  Scale_SLON_1  \\\n",
       "0                 4.0                 2.0                  1.0           3.0   \n",
       "\n",
       "   Scale_SLON_2  Scale_SLON_3  OECD_people_1  OECD_people_2  \\\n",
       "0           1.0           3.0            3.0           10.0   \n",
       "\n",
       "   OECD_insititutions_1  OECD_insititutions_2  OECD_insititutions_3  \\\n",
       "0                   5.0                   4.0                   4.0   \n",
       "\n",
       "   OECD_insititutions_4  OECD_insititutions_5  OECD_insititutions_6  \\\n",
       "0                   2.0                   4.0                   5.0   \n",
       "\n",
       "   Corona_concerns_1  Corona_concerns_2  Corona_concerns_3  Corona_concerns_4  \\\n",
       "0                1.0                2.0                4.0                4.0   \n",
       "\n",
       "   Corona_concerns_5  Trust_countrymeasure  Compliance_1  Compliance_2  \\\n",
       "0                5.0                   5.0           6.0           3.0   \n",
       "\n",
       "   Compliance_3  Compliance_4  Compliance_5  Compliance_6  BFF_15_1  BFF_15_2  \\\n",
       "0           3.0           2.0           4.0           2.0       2.0       2.0   \n",
       "\n",
       "   BFF_15_3  BFF_15_4  BFF_15_5  BFF_15_6  BFF_15_7  BFF_15_8  BFF_15_9  \\\n",
       "0       5.0       5.0       5.0       2.0       5.0       6.0       5.0   \n",
       "\n",
       "   BFF_15_10  BFF_15_11  BFF_15_12  BFF_15_13  BFF_15_14  BFF_15_15  \\\n",
       "0        2.0        4.0        6.0        5.0        2.0        5.0   \n",
       "\n",
       "   Expl_Distress_1  Expl_Distress_2  Expl_Distress_3  Expl_Distress_4  \\\n",
       "0              6.0              5.0             99.0              4.0   \n",
       "\n",
       "   Expl_Distress_5  Expl_Distress_6  Expl_Distress_7  Expl_Distress_8  \\\n",
       "0              5.0              4.0              6.0             99.0   \n",
       "\n",
       "   Expl_Distress_9  Expl_Distress_10  Expl_Distress_11  Expl_Distress_12  \\\n",
       "0             99.0              99.0              99.0               1.0   \n",
       "\n",
       "   Expl_Distress_13  Expl_Distress_14  Expl_Distress_15  Expl_Distress_16  \\\n",
       "0               1.0               4.0               5.0               5.0   \n",
       "\n",
       "   Expl_Distress_17  Expl_Distress_18  Expl_Distress_19  Expl_Distress_20  \\\n",
       "0               5.0               4.0               4.0               1.0   \n",
       "\n",
       "   Expl_Distress_21  Expl_Distress_22  Expl_Distress_23  Expl_Distress_24  \\\n",
       "0               2.0               2.0               4.0              99.0   \n",
       "\n",
       "   SPS_1  SPS_2  SPS_3  SPS_4  SPS_5  SPS_6  SPS_7  SPS_8  SPS_9  SPS_10  \\\n",
       "0    5.0    4.0    5.0    6.0    6.0    5.0    5.0    5.0    4.0     5.0   \n",
       "\n",
       "   Expl_Coping_1  Expl_Coping_2  Expl_Coping_3  Expl_Coping_5  Expl_Coping_6  \\\n",
       "0            4.0            5.0            5.0            5.0            4.0   \n",
       "\n",
       "   Expl_Coping_7  Expl_Coping_8  Expl_Coping_9  Expl_Coping_10  \\\n",
       "0            2.0            2.0            3.0             5.0   \n",
       "\n",
       "   Expl_Coping_11  Expl_Coping_12  Expl_Coping_13  Expl_Coping_14  \\\n",
       "0             3.0             4.0             5.0             5.0   \n",
       "\n",
       "   Expl_Coping_15  Expl_Coping_16  Expl_media_1  Expl_media_2  Expl_media_3  \\\n",
       "0             5.0             3.0           1.0           2.0           3.0   \n",
       "\n",
       "   Expl_media_4  Expl_media_5  Expl_media_6  PSS10_avg  SLON3_avg  neu  ext  \\\n",
       "0           4.0           2.0           3.0        2.2   2.333333  2.0  5.0   \n",
       "\n",
       "        ope  agr  con  SPS_avg  Female  Male  Other  Full time employed  \\\n",
       "0  5.333333  5.0  5.0      5.0     0.0   1.0    1.0                 0.0   \n",
       "\n",
       "   Student  Self-employed  Part time employed  Not employed  Retired  \\\n",
       "0      0.0            0.0                 0.0           0.0      1.0   \n",
       "\n",
       "   Married/cohabiting  Single  Divorced/widowed  Uninformative response  \n",
       "0                 0.0     0.0               0.0                     0.0  "
      ]
     },
     "execution_count": 87,
     "metadata": {},
     "output_type": "execute_result"
    }
   ],
   "source": [
    "unfiltered_data.head(1)"
   ]
  }
 ],
 "metadata": {
  "kernelspec": {
   "display_name": "Python 3",
   "language": "python",
   "name": "python3"
  },
  "language_info": {
   "codemirror_mode": {
    "name": "ipython",
    "version": 3
   },
   "file_extension": ".py",
   "mimetype": "text/x-python",
   "name": "python",
   "nbconvert_exporter": "python",
   "pygments_lexer": "ipython3",
   "version": "3.8.6"
  }
 },
 "nbformat": 4,
 "nbformat_minor": 4
}
