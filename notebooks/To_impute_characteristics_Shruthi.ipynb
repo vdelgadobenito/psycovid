{
 "cells": [
  {
   "cell_type": "code",
   "execution_count": null,
   "metadata": {},
   "outputs": [],
   "source": [
    "import pandas as pd"
   ]
  },
  {
   "cell_type": "code",
   "execution_count": null,
   "metadata": {
    "scrolled": true
   },
   "outputs": [],
   "source": [
    "data_clean=pd.read_csv('../raw_data/COVIDiSTRESS_May_30_cleaned_final.csv',encoding='latin-1')"
   ]
  },
  {
   "cell_type": "code",
   "execution_count": null,
   "metadata": {},
   "outputs": [],
   "source": [
    "data_cle"
   ]
  },
  {
   "cell_type": "code",
   "execution_count": null,
   "metadata": {},
   "outputs": [],
   "source": [
    "data_clean.shape"
   ]
  },
  {
   "cell_type": "code",
   "execution_count": null,
   "metadata": {},
   "outputs": [],
   "source": [
    "data_clean[['neu','ext','ope','agr','con']].shape"
   ]
  },
  {
   "cell_type": "code",
   "execution_count": null,
   "metadata": {},
   "outputs": [],
   "source": [
    "data=data_clean[['neu','ext','ope','agr','con','BFF_15_1','BFF_15_2','BFF_15_3','BFF_15_4','BFF_15_5','BFF_15_6','BFF_15_7','BFF_15_8','BFF_15_9','BFF_15_10','BFF_15_11','BFF_15_12','BFF_15_13','BFF_15_14','BFF_15_15']].dropna()"
   ]
  },
  {
   "cell_type": "code",
   "execution_count": null,
   "metadata": {},
   "outputs": [],
   "source": [
    "data.shape"
   ]
  },
  {
   "cell_type": "code",
   "execution_count": null,
   "metadata": {},
   "outputs": [],
   "source": [
    "data.dtypes"
   ]
  },
  {
   "cell_type": "markdown",
   "metadata": {},
   "source": [
    "## check for unique values in the columns "
   ]
  },
  {
   "cell_type": "code",
   "execution_count": null,
   "metadata": {},
   "outputs": [],
   "source": [
    "for i in data[['neu','ext','ope','agr','con']].columns:\n",
    "    print(i)\n",
    "    print(data[i].unique())"
   ]
  },
  {
   "cell_type": "code",
   "execution_count": null,
   "metadata": {},
   "outputs": [],
   "source": [
    "for i in data.loc[:,'BFF_15_1':'BFF_15_15'].columns:\n",
    "    print(i)\n",
    "    print(data[i].unique())"
   ]
  },
  {
   "cell_type": "code",
   "execution_count": null,
   "metadata": {},
   "outputs": [],
   "source": [
    "X=data.loc[:,'BFF_15_1':'BFF_15_15']\n",
    "y=data[['neu','ext','ope','agr','con']]\n"
   ]
  },
  {
   "cell_type": "code",
   "execution_count": null,
   "metadata": {},
   "outputs": [],
   "source": [
    "from sklearn.neighbors import KNeighborsRegressor\n",
    "from sklearn.model_selection import cross_val_predict\n",
    "from sklearn.model_selection import train_test_split"
   ]
  },
  {
   "cell_type": "code",
   "execution_count": null,
   "metadata": {},
   "outputs": [],
   "source": [
    "X_train,X_test,y_train,y_test=train_test_split(X,y,train_size=0.8)"
   ]
  },
  {
   "cell_type": "code",
   "execution_count": null,
   "metadata": {},
   "outputs": [],
   "source": [
    "X_train.shape"
   ]
  },
  {
   "cell_type": "code",
   "execution_count": null,
   "metadata": {},
   "outputs": [],
   "source": [
    "X_test.shape"
   ]
  },
  {
   "cell_type": "code",
   "execution_count": null,
   "metadata": {},
   "outputs": [],
   "source": [
    "knn=KNeighborsRegressor(n_neighbors=20)"
   ]
  },
  {
   "cell_type": "code",
   "execution_count": null,
   "metadata": {},
   "outputs": [],
   "source": [
    "knn.fit(X_train,y_train)"
   ]
  },
  {
   "cell_type": "code",
   "execution_count": null,
   "metadata": {},
   "outputs": [],
   "source": [
    "#score=knn.score(X_test,y_test)"
   ]
  },
  {
   "cell_type": "code",
   "execution_count": null,
   "metadata": {},
   "outputs": [],
   "source": [
    "y_pred=knn.predict(X_test)"
   ]
  },
  {
   "cell_type": "code",
   "execution_count": null,
   "metadata": {},
   "outputs": [],
   "source": [
    "y_pred"
   ]
  },
  {
   "cell_type": "code",
   "execution_count": null,
   "metadata": {},
   "outputs": [],
   "source": [
    "y_pred.shape"
   ]
  },
  {
   "cell_type": "code",
   "execution_count": null,
   "metadata": {},
   "outputs": [],
   "source": [
    "from sklearn.metrics import mean_squared_error\n",
    "mean_squared_error(y_test,y_pred)"
   ]
  },
  {
   "cell_type": "code",
   "execution_count": null,
   "metadata": {},
   "outputs": [],
   "source": [
    "import matplotlib.pyplot as plt\n",
    "from sklearn.linear_model import LinearRegression\n",
    "from sklearn.model_selection import learning_curve\n",
    "import numpy as np\n",
    "\n",
    "# Get train scores, train sizes, and validation scores using `learning_curve`, r2 score\n",
    "train_sizes, train_scores, test_scores = learning_curve(estimator = KNeighborsRegressor(n_neighbors=15),\n",
    "                                                              X = X, \n",
    "                                                              y = y, \n",
    "                                                              train_sizes = [50,100,250,500,750,1000,1250], \n",
    "                                                              cv = 10,\n",
    "                                                              scoring = 'r2')\n",
    "\n",
    "# Take the mean of cross-validated train scores and validation scores\n",
    "train_scores_mean = np.mean(train_scores, axis=1)\n",
    "test_scores_mean = np.mean(test_scores, axis=1)\n",
    "\n",
    "# Plot the learning curves!\n",
    "plt.plot(train_sizes, train_scores_mean, label = 'Training score')\n",
    "plt.plot(train_sizes, test_scores_mean, label = 'Test score')\n",
    "plt.ylabel('r2 score', fontsize = 14)\n",
    "plt.xlabel('Training set size', fontsize = 14)\n",
    "plt.title('Learning curves', fontsize = 18, y = 1.03)\n",
    "plt.legend()"
   ]
  },
  {
   "cell_type": "code",
   "execution_count": null,
   "metadata": {},
   "outputs": [],
   "source": [
    "# Linear \n",
    "X=data.loc[:,'BFF_15_1':'BFF_15_15']\n",
    "y=data['neu']\n",
    "\n",
    "\n",
    "X_train,X_test,y_train,y_test=train_test_split(X,y,train_size=0.8)\n",
    "y_train"
   ]
  },
  {
   "cell_type": "code",
   "execution_count": null,
   "metadata": {},
   "outputs": [],
   "source": [
    "from sklearn.linear_model import Ridge,Lasso\n",
    "from sklearn.metrics import mean_squared_error\n",
    "from sklearn.metrics import mean_squared_error\n",
    "\n",
    "\n",
    "model=Ridge(alpha=0.1, max_iter=5000)\n",
    "\n",
    "model.fit(X_train,y_train)\n",
    "\n",
    "y_pred_linear=model.predict(X_test)\n",
    "y_pred_linear\n",
    "# r2\n",
    "model.score(X_test,y_test)\n",
    "model.score(X_train,y_train)\n",
    "\n",
    "mean_squared_error(y_test,y_pred_linear)\n",
    "\n"
   ]
  },
  {
   "cell_type": "code",
   "execution_count": null,
   "metadata": {},
   "outputs": [],
   "source": [
    "import matplotlib.pyplot as plt\n",
    "from sklearn.linear_model import LinearRegression\n",
    "from sklearn.model_selection import learning_curve\n",
    "import numpy as np\n",
    "\n",
    "# Get train scores, train sizes, and validation scores using `learning_curve`, r2 score\n",
    "train_sizes, train_scores, test_scores = learning_curve(estimator = Ridge(alpha=0.1, max_iter=5000),\n",
    "                                                              X = X, \n",
    "                                                              y = y, \n",
    "                                                              train_sizes = [50,100,250,500,750,1000,1250], \n",
    "                                                              cv = 10,\n",
    "                                                              scoring = 'r2')\n",
    "\n",
    "# Take the mean of cross-validated train scores and validation scores\n",
    "train_scores_mean = np.mean(train_scores, axis=1)\n",
    "test_scores_mean = np.mean(test_scores, axis=1)\n",
    "\n",
    "# Plot the learning curves!\n",
    "plt.plot(train_sizes, train_scores_mean, label = 'Training score')\n",
    "plt.plot(train_sizes, test_scores_mean, label = 'Test score')\n",
    "plt.ylabel('r2 score', fontsize = 14)\n",
    "plt.xlabel('Training set size', fontsize = 14)\n",
    "plt.title('Learning curves', fontsize = 18, y = 1.03)\n",
    "plt.legend()"
   ]
  },
  {
   "cell_type": "code",
   "execution_count": null,
   "metadata": {},
   "outputs": [],
   "source": [
    "#================================================================================================="
   ]
  },
  {
   "cell_type": "code",
   "execution_count": null,
   "metadata": {},
   "outputs": [],
   "source": []
  },
  {
   "cell_type": "code",
   "execution_count": null,
   "metadata": {},
   "outputs": [],
   "source": []
  },
  {
   "cell_type": "code",
   "execution_count": null,
   "metadata": {},
   "outputs": [],
   "source": [
    "corr=data_clean.corr()\n",
    "corr_df = corr.unstack().reset_index() \n",
    "corr_df.columns = ['feature_1','feature_2', 'correlation'] # rename columns\n",
    "corr_df.sort_values(by=\"correlation\",ascending=False, inplace=True) # sort by correlation\n",
    "corr_df = corr_df[corr_df['feature_1'] != corr_df['feature_2']] \n",
    "\n",
    "\n",
    "pss10_avg=corr_df[corr_df['feature_1']=='Expl_Coping_avg']\n",
    "pss10_avg\n",
    "rel=pss10_avg[abs(pss10_avg['correlation']) > 0.3 ]\n"
   ]
  },
  {
   "cell_type": "code",
   "execution_count": null,
   "metadata": {},
   "outputs": [],
   "source": [
    "data_clean['Expl_Coping_avg']=data_clean.loc[:,'Expl_Coping_1':'Expl_Coping_16'].dropna().mean(axis=1)"
   ]
  },
  {
   "cell_type": "code",
   "execution_count": null,
   "metadata": {},
   "outputs": [],
   "source": [
    "corr=data_clean.corr()\n",
    "corr_df = corr.unstack().reset_index() \n",
    "corr_df.columns = ['feature_1','feature_2', 'correlation'] # rename columns\n",
    "corr_df.sort_values(by=\"correlation\",ascending=False, inplace=True) # sort by correlation\n",
    "corr_df = corr_df[corr_df['feature_1'] != corr_df['feature_2']] \n",
    "\n",
    "\n",
    "pss10_avg=corr_df[corr_df['feature_1']=='Expl_Coping_1']\n",
    "pss10_avg\n",
    "rel=pss10_avg[abs(corr_df['correlation']) > 0.3 ]\n",
    "rel"
   ]
  },
  {
   "cell_type": "code",
   "execution_count": null,
   "metadata": {},
   "outputs": [],
   "source": [
    "# tO CALCULATE MEAN:\n",
    "data_clean.loc[:,'Expl_Coping_1':'Expl_Coping_16'].dropna().mean(axis=1)"
   ]
  },
  {
   "cell_type": "code",
   "execution_count": 139,
   "metadata": {},
   "outputs": [],
   "source": [
    "### CLEANING THE DATA\n",
    "import pandas as pd"
   ]
  },
  {
   "cell_type": "code",
   "execution_count": 140,
   "metadata": {
    "scrolled": false
   },
   "outputs": [
    {
     "name": "stderr",
     "output_type": "stream",
     "text": [
      "/home/lpshruthi/.pyenv/versions/3.8.6/envs/lewagon/lib/python3.8/site-packages/IPython/core/interactiveshell.py:3146: DtypeWarning: Columns (55,56,57,58,59,60,61) have mixed types.Specify dtype option on import or set low_memory=False.\n",
      "  has_raised = await self.run_ast_nodes(code_ast.body, cell_name,\n"
     ]
    }
   ],
   "source": [
    "data_clean=pd.read_csv('../raw_data/COVIDiSTRESS_May_30_cleaned_final.csv',encoding='latin-1')"
   ]
  },
  {
   "cell_type": "code",
   "execution_count": 141,
   "metadata": {},
   "outputs": [],
   "source": [
    "unfiltered_data=data_clean.copy()"
   ]
  },
  {
   "cell_type": "code",
   "execution_count": 142,
   "metadata": {},
   "outputs": [
    {
     "data": {
      "text/plain": [
       "(125306, 154)"
      ]
     },
     "execution_count": 142,
     "metadata": {},
     "output_type": "execute_result"
    }
   ],
   "source": [
    "unfiltered_data.shape"
   ]
  },
  {
   "cell_type": "code",
   "execution_count": 143,
   "metadata": {},
   "outputs": [],
   "source": [
    "unfiltered_data.drop(columns=['ID','answered_all','Duration..in.seconds.','RecordedDate','experience_war','born_92','experience_war','experience_war_TXT','war_injury','loss_during_war','time_spent_in_war','time_spent_in_war_TXT','Expl_coping_txt','Expl_Distress_txt','Final_open','AD_gain','AD_loss','AD_check'],inplace=True)"
   ]
  },
  {
   "cell_type": "code",
   "execution_count": 145,
   "metadata": {},
   "outputs": [
    {
     "name": "stdout",
     "output_type": "stream",
     "text": [
      "UserLanguage 0.0\n",
      "Dem_age 0.0\n",
      "Dem_gender 0.00244202193031459\n",
      "Dem_edu 0.006695609148803729\n",
      "Dem_edu_mom 0.017102133976026685\n",
      "Dem_employment 0.009073787368521859\n",
      "Country 0.004349352784383829\n",
      "Dem_Expat 0.005682090243084928\n",
      "Dem_state 0.10784798812506984\n",
      "Dem_maritalstatus 0.008100170781925846\n",
      "Dem_dependents 0.03072478572454631\n",
      "Dem_riskgroup 0.004939907107401082\n",
      "Dem_isolation 0.014229166999185992\n",
      "Dem_isolation_adults 0.17050260961167063\n",
      "Dem_isolation_kids 0.1842130464622604\n",
      "Scale_PSS10_UCLA_1 0.0802036614368027\n",
      "Scale_PSS10_UCLA_2 0.08045105581536399\n",
      "Scale_PSS10_UCLA_3 0.08007597401560979\n",
      "Scale_PSS10_UCLA_4 0.0808979617895392\n",
      "Scale_PSS10_UCLA_5 0.0818955197676089\n",
      "Scale_PSS10_UCLA_6 0.08013981772620625\n",
      "Scale_PSS10_UCLA_7 0.08143265286578456\n",
      "Scale_PSS10_UCLA_8 0.08177581281024053\n",
      "Scale_PSS10_UCLA_9 0.07974877499880292\n",
      "Scale_PSS10_UCLA_10 0.08001213030501332\n",
      "Scale_SLON_1 0.08077027436834629\n",
      "Scale_SLON_2 0.08136082869136355\n",
      "Scale_SLON_3 0.08092190318101287\n",
      "OECD_people_1 0.11275597337717268\n",
      "OECD_people_2 0.11073691602955964\n",
      "OECD_insititutions_1 0.12777520629498987\n",
      "OECD_insititutions_2 0.12090402694204587\n",
      "OECD_insititutions_3 0.12277145547699232\n",
      "OECD_insititutions_4 0.11696167781271448\n",
      "OECD_insititutions_5 0.1236572869615182\n",
      "OECD_insititutions_6 0.12199735048601025\n",
      "Corona_concerns_1 0.11345027372990918\n",
      "Corona_concerns_2 0.11738464239541602\n",
      "Corona_concerns_3 0.11756021259955629\n",
      "Corona_concerns_4 0.11833431759053836\n",
      "Corona_concerns_5 0.11829441527141557\n",
      "Trust_countrymeasure 0.11258040317303242\n",
      "Compliance_1 0.12549279364116642\n",
      "Compliance_2 0.12549279364116642\n",
      "Compliance_3 0.12577210987502593\n",
      "Compliance_4 0.12584393404944696\n",
      "Compliance_5 0.12467878633106157\n",
      "Compliance_6 0.12484637607137727\n",
      "BFF_15_1 0.13826951622428296\n",
      "BFF_15_2 0.13839720364547586\n",
      "BFF_15_3 0.13760713772684469\n",
      "BFF_15_4 0.13864459802403717\n",
      "BFF_15_5 0.13904362121526503\n",
      "BFF_15_6 0.13892391425789666\n",
      "BFF_15_7 0.13877228544523007\n",
      "BFF_15_8 0.1390675626067387\n",
      "BFF_15_9 0.13855681292196703\n",
      "BFF_15_10 0.13807798509249358\n",
      "BFF_15_11 0.1389159337940721\n",
      "BFF_15_12 0.13814182880309003\n",
      "BFF_15_13 0.13909948446203693\n",
      "BFF_15_14 0.13924313281087897\n",
      "BFF_15_15 0.13847700828372145\n",
      "Expl_Distress_1 0.20361355401975964\n",
      "Expl_Distress_2 0.20524156863996937\n",
      "Expl_Distress_3 0.21209678706526422\n",
      "Expl_Distress_4 0.2052335881761448\n",
      "Expl_Distress_5 0.2027197420714092\n",
      "Expl_Distress_6 0.20267185928846185\n",
      "Expl_Distress_7 0.20487446730403971\n",
      "Expl_Distress_8 0.20624710708186358\n",
      "Expl_Distress_9 0.21511340239094695\n",
      "Expl_Distress_10 0.20332625732207557\n",
      "Expl_Distress_11 0.2044993855042855\n",
      "Expl_Distress_12 0.2022329337781112\n",
      "Expl_Distress_13 0.20180198873158509\n",
      "Expl_Distress_14 0.2026080155778654\n",
      "Expl_Distress_15 0.20572039646944282\n",
      "Expl_Distress_16 0.20351778845386495\n",
      "Expl_Distress_17 0.20346192520709303\n",
      "Expl_Distress_18 0.20323847222000543\n",
      "Expl_Distress_19 0.20303098016056692\n",
      "Expl_Distress_20 0.20477870173814502\n",
      "Expl_Distress_21 0.20339010103267202\n",
      "Expl_Distress_22 0.20331029639442644\n",
      "Expl_Distress_23 0.20177006687628685\n",
      "Expl_Distress_24 0.20278358578200564\n",
      "SPS_1 0.25041897435078925\n",
      "SPS_2 0.25115317702264855\n",
      "SPS_3 0.25053868130815765\n",
      "SPS_4 0.25031522832107\n",
      "SPS_5 0.2503391697125437\n",
      "SPS_6 0.25110529423970124\n",
      "SPS_7 0.25031522832107\n",
      "SPS_8 0.25118509887794677\n",
      "SPS_9 0.25205496943482353\n",
      "SPS_10 0.25027532600194724\n",
      "Expl_Coping_1 0.25380269101240166\n",
      "Expl_Coping_2 0.2564043222192074\n",
      "Expl_Coping_3 0.25294080091934945\n",
      "Expl_Coping_4 0.2674093818332722\n",
      "Expl_Coping_5 0.26104097170127527\n",
      "Expl_Coping_6 0.25355529663384035\n",
      "Expl_Coping_7 0.26014715975292485\n",
      "Expl_Coping_8 0.26100904984597706\n",
      "Expl_Coping_9 0.2527173479322618\n",
      "Expl_Coping_10 0.2572502513846105\n",
      "Expl_Coping_11 0.2555903149091025\n",
      "Expl_Coping_12 0.25385855425917353\n",
      "Expl_Coping_13 0.26250937704499383\n",
      "Expl_Coping_14 0.2532520390085072\n",
      "Expl_Coping_15 0.2574896652993472\n",
      "Expl_Coping_16 0.2534196287488229\n",
      "Expl_media_1 0.26046637830590713\n",
      "Expl_media_2 0.2605860852632755\n",
      "Expl_media_3 0.26042647598678437\n",
      "Expl_media_4 0.26031474949324057\n",
      "Expl_media_5 0.26029080810176686\n",
      "Expl_media_6 0.2601711011443985\n",
      "PSS10_avg 0.07349209136034987\n",
      "SLON3_avg 0.07544730499736645\n",
      "neu 0.1351810767241792\n",
      "ext 0.13553221713245975\n",
      "ope 0.13556413898775796\n",
      "agr 0.13547635388568782\n",
      "con 0.1355401975962843\n",
      "SPS_avg 0.24673200006384371\n"
     ]
    }
   ],
   "source": [
    "columns = unfiltered_data.columns\n",
    "\n",
    "for i in columns:\n",
    "    percent=unfiltered_data[i].isna().sum()/len(unfiltered_data)\n",
    "    print(i, percent)\n",
    "    \n",
    "    if(percent > 0.90):\n",
    "        unfiltered_data.drop(columns=i,inplace=True)\n",
    "        \n",
    "    "
   ]
  },
  {
   "cell_type": "code",
   "execution_count": 107,
   "metadata": {
    "scrolled": true
   },
   "outputs": [
    {
     "data": {
      "text/plain": [
       "(125306,)"
      ]
     },
     "execution_count": 107,
     "metadata": {},
     "output_type": "execute_result"
    }
   ],
   "source": [
    "unfiltered_data['PSS10_avg'].shape"
   ]
  },
  {
   "cell_type": "code",
   "execution_count": 146,
   "metadata": {},
   "outputs": [
    {
     "data": {
      "text/plain": [
       "(116097,)"
      ]
     },
     "execution_count": 146,
     "metadata": {},
     "output_type": "execute_result"
    }
   ],
   "source": [
    "unfiltered_data['PSS10_avg'].dropna().shape"
   ]
  },
  {
   "cell_type": "code",
   "execution_count": 147,
   "metadata": {},
   "outputs": [],
   "source": [
    "import numpy as np\n",
    "for i in unfiltered_data.loc[:,'UserLanguage':'Dem_isolation_kids']:\n",
    "    unfiltered_data[i].replace(np.nan,'missing',inplace=True)\n"
   ]
  },
  {
   "cell_type": "code",
   "execution_count": 110,
   "metadata": {},
   "outputs": [
    {
     "data": {
      "text/plain": [
       "0.0        73082\n",
       "missing    23083\n",
       "1.0        15405\n",
       "2.0        10484\n",
       "3.0         2447\n",
       "4.0          469\n",
       "5.0          150\n",
       "6.0           58\n",
       "7.0           34\n",
       "10.0          20\n",
       "9.0           11\n",
       "20.0           7\n",
       "12.0           6\n",
       "17.0           5\n",
       "110.0          5\n",
       "19.0           5\n",
       "18.0           4\n",
       "15.0           4\n",
       "8.0            4\n",
       "13.0           4\n",
       "16.0           2\n",
       "11.0           2\n",
       "14.0           2\n",
       "23.0           1\n",
       "25.0           1\n",
       "30.0           1\n",
       "35.0           1\n",
       "40.0           1\n",
       "60.0           1\n",
       "70.0           1\n",
       "73.0           1\n",
       "75.0           1\n",
       "92.0           1\n",
       "97.0           1\n",
       "106.0          1\n",
       "50.0           1\n",
       "Name: Dem_isolation_kids, dtype: int64"
      ]
     },
     "execution_count": 110,
     "metadata": {},
     "output_type": "execute_result"
    }
   ],
   "source": [
    "unfiltered_data['Dem_isolation_kids'].value_counts()"
   ]
  },
  {
   "cell_type": "code",
   "execution_count": 148,
   "metadata": {},
   "outputs": [
    {
     "data": {
      "text/plain": [
       "(125306, 127)"
      ]
     },
     "execution_count": 148,
     "metadata": {},
     "output_type": "execute_result"
    }
   ],
   "source": [
    "unfiltered_data.shape"
   ]
  },
  {
   "cell_type": "code",
   "execution_count": 111,
   "metadata": {},
   "outputs": [],
   "source": [
    "unfiltered_data.dropna(how='any', axis=0, thresh=2, subset=['Scale_PSS10_UCLA_1', 'Scale_PSS10_UCLA_2', 'Scale_PSS10_UCLA_3', 'Scale_PSS10_UCLA_4', 'Scale_PSS10_UCLA_5', 'Scale_PSS10_UCLA_6', 'Scale_PSS10_UCLA_7', 'Scale_PSS10_UCLA_8', 'Scale_PSS10_UCLA_9', 'Scale_PSS10_UCLA_10'], inplace=True)"
   ]
  },
  {
   "cell_type": "code",
   "execution_count": 67,
   "metadata": {},
   "outputs": [
    {
     "data": {
      "text/plain": [
       "(115939, 127)"
      ]
     },
     "execution_count": 67,
     "metadata": {},
     "output_type": "execute_result"
    }
   ],
   "source": [
    "unfiltered_data.shape"
   ]
  },
  {
   "cell_type": "code",
   "execution_count": 152,
   "metadata": {},
   "outputs": [],
   "source": [
    "unfiltered_data.dropna(inplace=True)"
   ]
  },
  {
   "cell_type": "code",
   "execution_count": 46,
   "metadata": {},
   "outputs": [
    {
     "data": {
      "text/html": [
       "<div>\n",
       "<style scoped>\n",
       "    .dataframe tbody tr th:only-of-type {\n",
       "        vertical-align: middle;\n",
       "    }\n",
       "\n",
       "    .dataframe tbody tr th {\n",
       "        vertical-align: top;\n",
       "    }\n",
       "\n",
       "    .dataframe thead th {\n",
       "        text-align: right;\n",
       "    }\n",
       "</style>\n",
       "<table border=\"1\" class=\"dataframe\">\n",
       "  <thead>\n",
       "    <tr style=\"text-align: right;\">\n",
       "      <th></th>\n",
       "      <th>UserLanguage</th>\n",
       "      <th>Dem_age</th>\n",
       "      <th>Dem_gender</th>\n",
       "      <th>Dem_edu</th>\n",
       "      <th>Dem_edu_mom</th>\n",
       "      <th>Dem_employment</th>\n",
       "      <th>Country</th>\n",
       "      <th>Dem_Expat</th>\n",
       "      <th>Dem_state</th>\n",
       "      <th>Dem_maritalstatus</th>\n",
       "      <th>...</th>\n",
       "      <th>Expl_media_5</th>\n",
       "      <th>Expl_media_6</th>\n",
       "      <th>PSS10_avg</th>\n",
       "      <th>SLON3_avg</th>\n",
       "      <th>neu</th>\n",
       "      <th>ext</th>\n",
       "      <th>ope</th>\n",
       "      <th>agr</th>\n",
       "      <th>con</th>\n",
       "      <th>SPS_avg</th>\n",
       "    </tr>\n",
       "  </thead>\n",
       "  <tbody>\n",
       "    <tr>\n",
       "      <th>0</th>\n",
       "      <td>SAR</td>\n",
       "      <td>29</td>\n",
       "      <td>Female</td>\n",
       "      <td>College degree, bachelor, master</td>\n",
       "      <td>Some College or equivalent</td>\n",
       "      <td>Not employed</td>\n",
       "      <td>Argentina</td>\n",
       "      <td>yes</td>\n",
       "      <td>Tucumán</td>\n",
       "      <td>Single</td>\n",
       "      <td>...</td>\n",
       "      <td>NaN</td>\n",
       "      <td>NaN</td>\n",
       "      <td>2.9</td>\n",
       "      <td>3.0</td>\n",
       "      <td>NaN</td>\n",
       "      <td>NaN</td>\n",
       "      <td>NaN</td>\n",
       "      <td>NaN</td>\n",
       "      <td>NaN</td>\n",
       "      <td>NaN</td>\n",
       "    </tr>\n",
       "  </tbody>\n",
       "</table>\n",
       "<p>1 rows × 127 columns</p>\n",
       "</div>"
      ],
      "text/plain": [
       "  UserLanguage  Dem_age Dem_gender                           Dem_edu  \\\n",
       "0          SAR       29     Female  College degree, bachelor, master   \n",
       "\n",
       "                  Dem_edu_mom Dem_employment    Country Dem_Expat Dem_state  \\\n",
       "0  Some College or equivalent   Not employed  Argentina       yes   Tucumán   \n",
       "\n",
       "  Dem_maritalstatus  ... Expl_media_5 Expl_media_6 PSS10_avg SLON3_avg neu  \\\n",
       "0            Single  ...          NaN          NaN       2.9       3.0 NaN   \n",
       "\n",
       "   ext  ope  agr  con  SPS_avg  \n",
       "0  NaN  NaN  NaN  NaN      NaN  \n",
       "\n",
       "[1 rows x 127 columns]"
      ]
     },
     "execution_count": 46,
     "metadata": {},
     "output_type": "execute_result"
    }
   ],
   "source": [
    "unfiltered_data.head(1)"
   ]
  },
  {
   "cell_type": "code",
   "execution_count": null,
   "metadata": {},
   "outputs": [],
   "source": [
    "################# Listing columns #################################"
   ]
  },
  {
   "cell_type": "code",
   "execution_count": null,
   "metadata": {},
   "outputs": [],
   "source": [
    "for i in unfiltered_data.columns:\n",
    "    print(i)"
   ]
  },
  {
   "cell_type": "markdown",
   "metadata": {},
   "source": [
    "# Recommendation "
   ]
  },
  {
   "cell_type": "code",
   "execution_count": 116,
   "metadata": {},
   "outputs": [
    {
     "data": {
      "text/html": [
       "<div>\n",
       "<style scoped>\n",
       "    .dataframe tbody tr th:only-of-type {\n",
       "        vertical-align: middle;\n",
       "    }\n",
       "\n",
       "    .dataframe tbody tr th {\n",
       "        vertical-align: top;\n",
       "    }\n",
       "\n",
       "    .dataframe thead th {\n",
       "        text-align: right;\n",
       "    }\n",
       "</style>\n",
       "<table border=\"1\" class=\"dataframe\">\n",
       "  <thead>\n",
       "    <tr style=\"text-align: right;\">\n",
       "      <th></th>\n",
       "      <th>Expl_Coping_1</th>\n",
       "      <th>Expl_Coping_2</th>\n",
       "      <th>Expl_Coping_3</th>\n",
       "      <th>Expl_Coping_4</th>\n",
       "      <th>Expl_Coping_5</th>\n",
       "      <th>Expl_Coping_6</th>\n",
       "      <th>Expl_Coping_7</th>\n",
       "      <th>Expl_Coping_8</th>\n",
       "      <th>Expl_Coping_9</th>\n",
       "      <th>Expl_Coping_10</th>\n",
       "      <th>Expl_Coping_11</th>\n",
       "      <th>Expl_Coping_12</th>\n",
       "      <th>Expl_Coping_13</th>\n",
       "      <th>Expl_Coping_14</th>\n",
       "      <th>Expl_Coping_15</th>\n",
       "      <th>Expl_Coping_16</th>\n",
       "    </tr>\n",
       "  </thead>\n",
       "  <tbody>\n",
       "    <tr>\n",
       "      <th>0</th>\n",
       "      <td>NaN</td>\n",
       "      <td>NaN</td>\n",
       "      <td>NaN</td>\n",
       "      <td>NaN</td>\n",
       "      <td>NaN</td>\n",
       "      <td>NaN</td>\n",
       "      <td>NaN</td>\n",
       "      <td>NaN</td>\n",
       "      <td>NaN</td>\n",
       "      <td>NaN</td>\n",
       "      <td>NaN</td>\n",
       "      <td>NaN</td>\n",
       "      <td>NaN</td>\n",
       "      <td>NaN</td>\n",
       "      <td>NaN</td>\n",
       "      <td>NaN</td>\n",
       "    </tr>\n",
       "    <tr>\n",
       "      <th>1</th>\n",
       "      <td>4.0</td>\n",
       "      <td>5.0</td>\n",
       "      <td>5.0</td>\n",
       "      <td>3.0</td>\n",
       "      <td>5.0</td>\n",
       "      <td>4.0</td>\n",
       "      <td>2.0</td>\n",
       "      <td>2.0</td>\n",
       "      <td>3.0</td>\n",
       "      <td>5.0</td>\n",
       "      <td>3.0</td>\n",
       "      <td>4.0</td>\n",
       "      <td>5.0</td>\n",
       "      <td>5.0</td>\n",
       "      <td>5.0</td>\n",
       "      <td>3.0</td>\n",
       "    </tr>\n",
       "  </tbody>\n",
       "</table>\n",
       "</div>"
      ],
      "text/plain": [
       "   Expl_Coping_1  Expl_Coping_2  Expl_Coping_3  Expl_Coping_4  Expl_Coping_5  \\\n",
       "0            NaN            NaN            NaN            NaN            NaN   \n",
       "1            4.0            5.0            5.0            3.0            5.0   \n",
       "\n",
       "   Expl_Coping_6  Expl_Coping_7  Expl_Coping_8  Expl_Coping_9  Expl_Coping_10  \\\n",
       "0            NaN            NaN            NaN            NaN             NaN   \n",
       "1            4.0            2.0            2.0            3.0             5.0   \n",
       "\n",
       "   Expl_Coping_11  Expl_Coping_12  Expl_Coping_13  Expl_Coping_14  \\\n",
       "0             NaN             NaN             NaN             NaN   \n",
       "1             3.0             4.0             5.0             5.0   \n",
       "\n",
       "   Expl_Coping_15  Expl_Coping_16  \n",
       "0             NaN             NaN  \n",
       "1             5.0             3.0  "
      ]
     },
     "execution_count": 116,
     "metadata": {},
     "output_type": "execute_result"
    }
   ],
   "source": [
    "\n",
    "unfiltered_data.loc[:,'Expl_Coping_1':'Expl_Coping_16'].head(2)"
   ]
  },
  {
   "cell_type": "code",
   "execution_count": 153,
   "metadata": {},
   "outputs": [
    {
     "data": {
      "text/plain": [
       "1         4.0\n",
       "5         5.0\n",
       "6         4.0\n",
       "7         4.0\n",
       "8         3.0\n",
       "         ... \n",
       "125296    4.0\n",
       "125297    5.0\n",
       "125299    4.0\n",
       "125302    5.0\n",
       "125304    5.0\n",
       "Name: Expl_Coping_1, Length: 70669, dtype: float64"
      ]
     },
     "execution_count": 153,
     "metadata": {},
     "output_type": "execute_result"
    }
   ],
   "source": [
    "unfiltered_data['Expl_Coping_1']"
   ]
  },
  {
   "cell_type": "code",
   "execution_count": 154,
   "metadata": {},
   "outputs": [
    {
     "data": {
      "text/plain": [
       "(70669, 127)"
      ]
     },
     "execution_count": 154,
     "metadata": {},
     "output_type": "execute_result"
    }
   ],
   "source": [
    "unfiltered_data.shape"
   ]
  },
  {
   "cell_type": "code",
   "execution_count": 156,
   "metadata": {},
   "outputs": [],
   "source": [
    "def check_cond(x):\n",
    "    if x >= 5 and x<7:\n",
    "        return 1\n",
    "    elif x< 5:\n",
    "        return 0\n",
    "    else:\n",
    "        return 'missing'"
   ]
  },
  {
   "cell_type": "code",
   "execution_count": 118,
   "metadata": {},
   "outputs": [],
   "source": [
    "#unfiltered_data['Expl_Coping_1']=unfiltered_data['Expl_Coping_1'].map(check_cond)"
   ]
  },
  {
   "cell_type": "code",
   "execution_count": 157,
   "metadata": {},
   "outputs": [],
   "source": [
    "for i in unfiltered_data.loc[:,'Expl_Coping_1':'Expl_Coping_16']:\n",
    "    \n",
    "    unfiltered_data[i]=unfiltered_data[i].map(check_cond)"
   ]
  },
  {
   "cell_type": "markdown",
   "metadata": {},
   "source": [
    "x=7\n",
    "test=lambda x : 1 if x > 10  else 1\n",
    "test(12)"
   ]
  },
  {
   "cell_type": "code",
   "execution_count": 165,
   "metadata": {},
   "outputs": [],
   "source": [
    "from sklearn.neighbors import KNeighborsClassifier\n",
    "from sklearn.model_selection import cross_val_predict\n",
    "from sklearn.linear_model import LinearRegression\n",
    "from sklearn.metrics import mean_squared_error\n",
    "from sklearn.model_selection import train_test_split"
   ]
  },
  {
   "cell_type": "code",
   "execution_count": 176,
   "metadata": {},
   "outputs": [
    {
     "data": {
      "text/plain": [
       "Index(['UserLanguage', 'Dem_age', 'Dem_gender', 'Dem_edu', 'Dem_edu_mom',\n",
       "       'Dem_employment', 'Country', 'Dem_Expat', 'Dem_state',\n",
       "       'Dem_maritalstatus',\n",
       "       ...\n",
       "       'Expl_media_5', 'Expl_media_6', 'PSS10_avg', 'SLON3_avg', 'neu', 'ext',\n",
       "       'ope', 'agr', 'con', 'SPS_avg'],\n",
       "      dtype='object', length=127)"
      ]
     },
     "execution_count": 176,
     "metadata": {},
     "output_type": "execute_result"
    }
   ],
   "source": [
    "unfiltered_data.columns"
   ]
  },
  {
   "cell_type": "code",
   "execution_count": 186,
   "metadata": {},
   "outputs": [
    {
     "data": {
      "text/html": [
       "<div>\n",
       "<style scoped>\n",
       "    .dataframe tbody tr th:only-of-type {\n",
       "        vertical-align: middle;\n",
       "    }\n",
       "\n",
       "    .dataframe tbody tr th {\n",
       "        vertical-align: top;\n",
       "    }\n",
       "\n",
       "    .dataframe thead th {\n",
       "        text-align: right;\n",
       "    }\n",
       "</style>\n",
       "<table border=\"1\" class=\"dataframe\">\n",
       "  <thead>\n",
       "    <tr style=\"text-align: right;\">\n",
       "      <th></th>\n",
       "      <th>Expl_Coping_1</th>\n",
       "      <th>Expl_Coping_2</th>\n",
       "      <th>Expl_Coping_3</th>\n",
       "      <th>Expl_Coping_4</th>\n",
       "      <th>Expl_Coping_5</th>\n",
       "      <th>Expl_Coping_6</th>\n",
       "      <th>Expl_Coping_7</th>\n",
       "      <th>Expl_Coping_8</th>\n",
       "      <th>Expl_Coping_9</th>\n",
       "      <th>Expl_Coping_10</th>\n",
       "      <th>...</th>\n",
       "      <th>Expl_Coping_12</th>\n",
       "      <th>Expl_Coping_13</th>\n",
       "      <th>Expl_Coping_14</th>\n",
       "      <th>Expl_Coping_15</th>\n",
       "      <th>Expl_Coping_16</th>\n",
       "      <th>neu</th>\n",
       "      <th>ext</th>\n",
       "      <th>ope</th>\n",
       "      <th>agr</th>\n",
       "      <th>con</th>\n",
       "    </tr>\n",
       "  </thead>\n",
       "  <tbody>\n",
       "    <tr>\n",
       "      <th>1</th>\n",
       "      <td>0</td>\n",
       "      <td>1</td>\n",
       "      <td>1</td>\n",
       "      <td>0</td>\n",
       "      <td>1</td>\n",
       "      <td>0</td>\n",
       "      <td>0</td>\n",
       "      <td>0</td>\n",
       "      <td>0</td>\n",
       "      <td>1</td>\n",
       "      <td>...</td>\n",
       "      <td>0</td>\n",
       "      <td>1</td>\n",
       "      <td>1</td>\n",
       "      <td>1</td>\n",
       "      <td>0</td>\n",
       "      <td>2.000000</td>\n",
       "      <td>5.000000</td>\n",
       "      <td>5.333333</td>\n",
       "      <td>5.000000</td>\n",
       "      <td>5.000000</td>\n",
       "    </tr>\n",
       "    <tr>\n",
       "      <th>5</th>\n",
       "      <td>1</td>\n",
       "      <td>0</td>\n",
       "      <td>1</td>\n",
       "      <td>0</td>\n",
       "      <td>1</td>\n",
       "      <td>0</td>\n",
       "      <td>0</td>\n",
       "      <td>0</td>\n",
       "      <td>1</td>\n",
       "      <td>0</td>\n",
       "      <td>...</td>\n",
       "      <td>1</td>\n",
       "      <td>0</td>\n",
       "      <td>1</td>\n",
       "      <td>1</td>\n",
       "      <td>1</td>\n",
       "      <td>3.333333</td>\n",
       "      <td>3.666667</td>\n",
       "      <td>4.333333</td>\n",
       "      <td>4.000000</td>\n",
       "      <td>3.666667</td>\n",
       "    </tr>\n",
       "    <tr>\n",
       "      <th>6</th>\n",
       "      <td>0</td>\n",
       "      <td>0</td>\n",
       "      <td>1</td>\n",
       "      <td>1</td>\n",
       "      <td>0</td>\n",
       "      <td>1</td>\n",
       "      <td>0</td>\n",
       "      <td>0</td>\n",
       "      <td>0</td>\n",
       "      <td>0</td>\n",
       "      <td>...</td>\n",
       "      <td>0</td>\n",
       "      <td>1</td>\n",
       "      <td>0</td>\n",
       "      <td>0</td>\n",
       "      <td>1</td>\n",
       "      <td>3.666667</td>\n",
       "      <td>3.666667</td>\n",
       "      <td>5.000000</td>\n",
       "      <td>4.666667</td>\n",
       "      <td>4.666667</td>\n",
       "    </tr>\n",
       "    <tr>\n",
       "      <th>7</th>\n",
       "      <td>0</td>\n",
       "      <td>1</td>\n",
       "      <td>0</td>\n",
       "      <td>0</td>\n",
       "      <td>0</td>\n",
       "      <td>1</td>\n",
       "      <td>1</td>\n",
       "      <td>1</td>\n",
       "      <td>1</td>\n",
       "      <td>0</td>\n",
       "      <td>...</td>\n",
       "      <td>0</td>\n",
       "      <td>0</td>\n",
       "      <td>0</td>\n",
       "      <td>0</td>\n",
       "      <td>0</td>\n",
       "      <td>3.666667</td>\n",
       "      <td>3.333333</td>\n",
       "      <td>4.333333</td>\n",
       "      <td>4.000000</td>\n",
       "      <td>4.333333</td>\n",
       "    </tr>\n",
       "    <tr>\n",
       "      <th>8</th>\n",
       "      <td>0</td>\n",
       "      <td>1</td>\n",
       "      <td>1</td>\n",
       "      <td>1</td>\n",
       "      <td>0</td>\n",
       "      <td>0</td>\n",
       "      <td>0</td>\n",
       "      <td>0</td>\n",
       "      <td>0</td>\n",
       "      <td>1</td>\n",
       "      <td>...</td>\n",
       "      <td>0</td>\n",
       "      <td>1</td>\n",
       "      <td>1</td>\n",
       "      <td>1</td>\n",
       "      <td>0</td>\n",
       "      <td>3.333333</td>\n",
       "      <td>3.333333</td>\n",
       "      <td>4.666667</td>\n",
       "      <td>4.333333</td>\n",
       "      <td>4.000000</td>\n",
       "    </tr>\n",
       "    <tr>\n",
       "      <th>...</th>\n",
       "      <td>...</td>\n",
       "      <td>...</td>\n",
       "      <td>...</td>\n",
       "      <td>...</td>\n",
       "      <td>...</td>\n",
       "      <td>...</td>\n",
       "      <td>...</td>\n",
       "      <td>...</td>\n",
       "      <td>...</td>\n",
       "      <td>...</td>\n",
       "      <td>...</td>\n",
       "      <td>...</td>\n",
       "      <td>...</td>\n",
       "      <td>...</td>\n",
       "      <td>...</td>\n",
       "      <td>...</td>\n",
       "      <td>...</td>\n",
       "      <td>...</td>\n",
       "      <td>...</td>\n",
       "      <td>...</td>\n",
       "      <td>...</td>\n",
       "    </tr>\n",
       "    <tr>\n",
       "      <th>125296</th>\n",
       "      <td>0</td>\n",
       "      <td>1</td>\n",
       "      <td>1</td>\n",
       "      <td>0</td>\n",
       "      <td>1</td>\n",
       "      <td>1</td>\n",
       "      <td>0</td>\n",
       "      <td>1</td>\n",
       "      <td>1</td>\n",
       "      <td>0</td>\n",
       "      <td>...</td>\n",
       "      <td>0</td>\n",
       "      <td>0</td>\n",
       "      <td>1</td>\n",
       "      <td>0</td>\n",
       "      <td>0</td>\n",
       "      <td>2.333333</td>\n",
       "      <td>4.333333</td>\n",
       "      <td>4.333333</td>\n",
       "      <td>4.000000</td>\n",
       "      <td>5.333333</td>\n",
       "    </tr>\n",
       "    <tr>\n",
       "      <th>125297</th>\n",
       "      <td>1</td>\n",
       "      <td>0</td>\n",
       "      <td>1</td>\n",
       "      <td>0</td>\n",
       "      <td>1</td>\n",
       "      <td>0</td>\n",
       "      <td>0</td>\n",
       "      <td>0</td>\n",
       "      <td>0</td>\n",
       "      <td>0</td>\n",
       "      <td>...</td>\n",
       "      <td>0</td>\n",
       "      <td>0</td>\n",
       "      <td>0</td>\n",
       "      <td>0</td>\n",
       "      <td>1</td>\n",
       "      <td>1.333333</td>\n",
       "      <td>5.333333</td>\n",
       "      <td>5.000000</td>\n",
       "      <td>5.666667</td>\n",
       "      <td>5.666667</td>\n",
       "    </tr>\n",
       "    <tr>\n",
       "      <th>125299</th>\n",
       "      <td>0</td>\n",
       "      <td>0</td>\n",
       "      <td>0</td>\n",
       "      <td>0</td>\n",
       "      <td>0</td>\n",
       "      <td>0</td>\n",
       "      <td>1</td>\n",
       "      <td>0</td>\n",
       "      <td>0</td>\n",
       "      <td>1</td>\n",
       "      <td>...</td>\n",
       "      <td>0</td>\n",
       "      <td>0</td>\n",
       "      <td>0</td>\n",
       "      <td>0</td>\n",
       "      <td>0</td>\n",
       "      <td>4.666667</td>\n",
       "      <td>2.666667</td>\n",
       "      <td>5.000000</td>\n",
       "      <td>4.000000</td>\n",
       "      <td>3.333333</td>\n",
       "    </tr>\n",
       "    <tr>\n",
       "      <th>125302</th>\n",
       "      <td>1</td>\n",
       "      <td>0</td>\n",
       "      <td>1</td>\n",
       "      <td>0</td>\n",
       "      <td>1</td>\n",
       "      <td>1</td>\n",
       "      <td>0</td>\n",
       "      <td>0</td>\n",
       "      <td>1</td>\n",
       "      <td>0</td>\n",
       "      <td>...</td>\n",
       "      <td>1</td>\n",
       "      <td>1</td>\n",
       "      <td>1</td>\n",
       "      <td>0</td>\n",
       "      <td>1</td>\n",
       "      <td>4.666667</td>\n",
       "      <td>3.666667</td>\n",
       "      <td>5.000000</td>\n",
       "      <td>3.666667</td>\n",
       "      <td>4.666667</td>\n",
       "    </tr>\n",
       "    <tr>\n",
       "      <th>125304</th>\n",
       "      <td>1</td>\n",
       "      <td>0</td>\n",
       "      <td>0</td>\n",
       "      <td>0</td>\n",
       "      <td>1</td>\n",
       "      <td>1</td>\n",
       "      <td>1</td>\n",
       "      <td>0</td>\n",
       "      <td>1</td>\n",
       "      <td>0</td>\n",
       "      <td>...</td>\n",
       "      <td>1</td>\n",
       "      <td>1</td>\n",
       "      <td>1</td>\n",
       "      <td>0</td>\n",
       "      <td>1</td>\n",
       "      <td>4.000000</td>\n",
       "      <td>2.666667</td>\n",
       "      <td>4.333333</td>\n",
       "      <td>3.000000</td>\n",
       "      <td>4.000000</td>\n",
       "    </tr>\n",
       "  </tbody>\n",
       "</table>\n",
       "<p>70669 rows × 21 columns</p>\n",
       "</div>"
      ],
      "text/plain": [
       "        Expl_Coping_1  Expl_Coping_2  Expl_Coping_3  Expl_Coping_4  \\\n",
       "1                   0              1              1              0   \n",
       "5                   1              0              1              0   \n",
       "6                   0              0              1              1   \n",
       "7                   0              1              0              0   \n",
       "8                   0              1              1              1   \n",
       "...               ...            ...            ...            ...   \n",
       "125296              0              1              1              0   \n",
       "125297              1              0              1              0   \n",
       "125299              0              0              0              0   \n",
       "125302              1              0              1              0   \n",
       "125304              1              0              0              0   \n",
       "\n",
       "        Expl_Coping_5  Expl_Coping_6  Expl_Coping_7  Expl_Coping_8  \\\n",
       "1                   1              0              0              0   \n",
       "5                   1              0              0              0   \n",
       "6                   0              1              0              0   \n",
       "7                   0              1              1              1   \n",
       "8                   0              0              0              0   \n",
       "...               ...            ...            ...            ...   \n",
       "125296              1              1              0              1   \n",
       "125297              1              0              0              0   \n",
       "125299              0              0              1              0   \n",
       "125302              1              1              0              0   \n",
       "125304              1              1              1              0   \n",
       "\n",
       "        Expl_Coping_9  Expl_Coping_10  ...  Expl_Coping_12  Expl_Coping_13  \\\n",
       "1                   0               1  ...               0               1   \n",
       "5                   1               0  ...               1               0   \n",
       "6                   0               0  ...               0               1   \n",
       "7                   1               0  ...               0               0   \n",
       "8                   0               1  ...               0               1   \n",
       "...               ...             ...  ...             ...             ...   \n",
       "125296              1               0  ...               0               0   \n",
       "125297              0               0  ...               0               0   \n",
       "125299              0               1  ...               0               0   \n",
       "125302              1               0  ...               1               1   \n",
       "125304              1               0  ...               1               1   \n",
       "\n",
       "        Expl_Coping_14  Expl_Coping_15  Expl_Coping_16       neu       ext  \\\n",
       "1                    1               1               0  2.000000  5.000000   \n",
       "5                    1               1               1  3.333333  3.666667   \n",
       "6                    0               0               1  3.666667  3.666667   \n",
       "7                    0               0               0  3.666667  3.333333   \n",
       "8                    1               1               0  3.333333  3.333333   \n",
       "...                ...             ...             ...       ...       ...   \n",
       "125296               1               0               0  2.333333  4.333333   \n",
       "125297               0               0               1  1.333333  5.333333   \n",
       "125299               0               0               0  4.666667  2.666667   \n",
       "125302               1               0               1  4.666667  3.666667   \n",
       "125304               1               0               1  4.000000  2.666667   \n",
       "\n",
       "             ope       agr       con  \n",
       "1       5.333333  5.000000  5.000000  \n",
       "5       4.333333  4.000000  3.666667  \n",
       "6       5.000000  4.666667  4.666667  \n",
       "7       4.333333  4.000000  4.333333  \n",
       "8       4.666667  4.333333  4.000000  \n",
       "...          ...       ...       ...  \n",
       "125296  4.333333  4.000000  5.333333  \n",
       "125297  5.000000  5.666667  5.666667  \n",
       "125299  5.000000  4.000000  3.333333  \n",
       "125302  5.000000  3.666667  4.666667  \n",
       "125304  4.333333  3.000000  4.000000  \n",
       "\n",
       "[70669 rows x 21 columns]"
      ]
     },
     "execution_count": 186,
     "metadata": {},
     "output_type": "execute_result"
    }
   ],
   "source": [
    "data"
   ]
  },
  {
   "cell_type": "code",
   "execution_count": 204,
   "metadata": {},
   "outputs": [
    {
     "data": {
      "text/plain": [
       "Expl_Coping_1          int64\n",
       "Expl_Coping_2          int64\n",
       "Expl_Coping_3          int64\n",
       "Expl_Coping_4          int64\n",
       "Expl_Coping_5          int64\n",
       "Expl_Coping_6          int64\n",
       "Expl_Coping_7          int64\n",
       "Expl_Coping_8          int64\n",
       "Expl_Coping_9          int64\n",
       "Expl_Coping_10         int64\n",
       "Expl_Coping_11         int64\n",
       "Expl_Coping_12         int64\n",
       "Expl_Coping_13         int64\n",
       "Expl_Coping_14         int64\n",
       "Expl_Coping_15         int64\n",
       "Expl_Coping_16         int64\n",
       "neu                  float64\n",
       "ext                  float64\n",
       "ope                  float64\n",
       "agr                  float64\n",
       "con                  float64\n",
       "Dem_age                int64\n",
       "Dem_gender            object\n",
       "Dem_edu               object\n",
       "Dem_edu_mom           object\n",
       "Dem_employment        object\n",
       "Country               object\n",
       "Dem_Expat             object\n",
       "Dem_maritalstatus     object\n",
       "dtype: object"
      ]
     },
     "execution_count": 204,
     "metadata": {},
     "output_type": "execute_result"
    }
   ],
   "source": [
    "data.dtypes"
   ]
  },
  {
   "cell_type": "code",
   "execution_count": 210,
   "metadata": {},
   "outputs": [
    {
     "data": {
      "text/plain": [
       "(70669, 29)"
      ]
     },
     "execution_count": 210,
     "metadata": {},
     "output_type": "execute_result"
    }
   ],
   "source": [
    "data.shape"
   ]
  },
  {
   "cell_type": "code",
   "execution_count": 213,
   "metadata": {},
   "outputs": [],
   "source": [
    "data.drop_duplicates(inplace=True)"
   ]
  },
  {
   "cell_type": "code",
   "execution_count": 214,
   "metadata": {},
   "outputs": [
    {
     "data": {
      "text/plain": [
       "(70669, 29)"
      ]
     },
     "execution_count": 214,
     "metadata": {},
     "output_type": "execute_result"
    }
   ],
   "source": [
    "data.shape"
   ]
  },
  {
   "cell_type": "code",
   "execution_count": 207,
   "metadata": {
    "scrolled": true
   },
   "outputs": [
    {
     "data": {
      "text/plain": [
       "(array([1.7331e+04, 1.7612e+04, 1.4938e+04, 1.0956e+04, 6.5850e+03,\n",
       "        2.8230e+03, 3.9800e+02, 2.2000e+01, 1.0000e+00, 3.0000e+00]),\n",
       " array([ 18. ,  27.2,  36.4,  45.6,  54.8,  64. ,  73.2,  82.4,  91.6,\n",
       "        100.8, 110. ]),\n",
       " <BarContainer object of 10 artists>)"
      ]
     },
     "execution_count": 207,
     "metadata": {},
     "output_type": "execute_result"
    },
    {
     "data": {
      "image/png": "[encoded data removed]",
      "text/plain": [
       "<Figure size 432x288 with 1 Axes>"
      ]
     },
     "metadata": {
      "needs_background": "light"
     },
     "output_type": "display_data"
    }
   ],
   "source": [
    "import matplotlib.pyplot as plt\n",
    "plt.hist(data['Dem_age'])"
   ]
  },
  {
   "cell_type": "code",
   "execution_count": null,
   "metadata": {},
   "outputs": [],
   "source": []
  },
  {
   "cell_type": "code",
   "execution_count": null,
   "metadata": {
    "scrolled": true
   },
   "outputs": [],
   "source": []
  },
  {
   "cell_type": "code",
   "execution_count": 203,
   "metadata": {},
   "outputs": [],
   "source": [
    "data.drop(columns=['UserLanguage','Dem_state'],inplace=True)"
   ]
  },
  {
   "cell_type": "code",
   "execution_count": 193,
   "metadata": {},
   "outputs": [],
   "source": [
    "data=unfiltered_data.loc[:,'Expl_Coping_1':'Expl_Coping_16']\n",
    "data[['neu','ext','ope','agr','con','UserLanguage', 'Dem_age', 'Dem_gender', 'Dem_edu', 'Dem_edu_mom','Dem_employment', 'Country', 'Dem_Expat', 'Dem_state','Dem_maritalstatus']]=unfiltered_data[['neu','ext','ope','agr','con','UserLanguage', 'Dem_age', 'Dem_gender', 'Dem_edu', 'Dem_edu_mom',\n",
    "      'Dem_employment', 'Country', 'Dem_Expat', 'Dem_state',\n",
    "      'Dem_maritalstatus']]\n",
    "data.dropna(inplace=True)\n",
    "\n",
    "\n",
    "y=data.loc[:,'Expl_Coping_1':'Expl_Coping_16']\n",
    "X=data[['neu','ext','ope','agr','con','UserLanguage', 'Dem_age', 'Dem_gender', 'Dem_edu']]\n",
    "#X=unfiltered_data.drop(columns=['Expl_Coping_1','Expl_Coping_2','Expl_Coping_3','Expl_Coping_4','Expl_Coping_5','Expl_Coping_6','Expl_Coping_7','Expl_Coping_8','Expl_Coping_9','Expl_Coping_10','Expl_Coping_11','Expl_Coping_12','Expl_Coping_13','Expl_Coping_14','Expl_Coping_15','Expl_Coping_16'])\n"
   ]
  },
  {
   "cell_type": "code",
   "execution_count": 190,
   "metadata": {},
   "outputs": [
    {
     "data": {
      "text/plain": [
       "Expl_Coping_1          int64\n",
       "Expl_Coping_2          int64\n",
       "Expl_Coping_3          int64\n",
       "Expl_Coping_4          int64\n",
       "Expl_Coping_5          int64\n",
       "Expl_Coping_6          int64\n",
       "Expl_Coping_7          int64\n",
       "Expl_Coping_8          int64\n",
       "Expl_Coping_9          int64\n",
       "Expl_Coping_10         int64\n",
       "Expl_Coping_11         int64\n",
       "Expl_Coping_12         int64\n",
       "Expl_Coping_13         int64\n",
       "Expl_Coping_14         int64\n",
       "Expl_Coping_15         int64\n",
       "Expl_Coping_16         int64\n",
       "neu                  float64\n",
       "ext                  float64\n",
       "ope                  float64\n",
       "agr                  float64\n",
       "con                  float64\n",
       "UserLanguage          object\n",
       "Dem_age                int64\n",
       "Dem_gender            object\n",
       "Dem_edu               object\n",
       "Dem_edu_mom           object\n",
       "Dem_employment        object\n",
       "Country               object\n",
       "Dem_Expat             object\n",
       "Dem_state             object\n",
       "Dem_maritalstatus     object\n",
       "dtype: object"
      ]
     },
     "execution_count": 190,
     "metadata": {},
     "output_type": "execute_result"
    }
   ],
   "source": [
    "data.dtypes"
   ]
  },
  {
   "cell_type": "code",
   "execution_count": 189,
   "metadata": {},
   "outputs": [
    {
     "ename": "ValueError",
     "evalue": "could not convert string to float: 'EN'",
     "output_type": "error",
     "traceback": [
      "\u001b[0;31m---------------------------------------------------------------------------\u001b[0m",
      "\u001b[0;31mValueError\u001b[0m                                Traceback (most recent call last)",
      "\u001b[0;32m<ipython-input-189-83850f419fdd>\u001b[0m in \u001b[0;36m<module>\u001b[0;34m\u001b[0m\n\u001b[1;32m      1\u001b[0m \u001b[0mX_train\u001b[0m\u001b[0;34m,\u001b[0m\u001b[0mX_test\u001b[0m\u001b[0;34m,\u001b[0m\u001b[0my_train\u001b[0m\u001b[0;34m,\u001b[0m\u001b[0my_test\u001b[0m\u001b[0;34m=\u001b[0m\u001b[0mtrain_test_split\u001b[0m\u001b[0;34m(\u001b[0m\u001b[0mX\u001b[0m\u001b[0;34m,\u001b[0m\u001b[0my\u001b[0m\u001b[0;34m,\u001b[0m\u001b[0mtrain_size\u001b[0m\u001b[0;34m=\u001b[0m\u001b[0;36m0.8\u001b[0m\u001b[0;34m)\u001b[0m\u001b[0;34m\u001b[0m\u001b[0;34m\u001b[0m\u001b[0m\n\u001b[1;32m      2\u001b[0m \u001b[0mknn\u001b[0m\u001b[0;34m=\u001b[0m\u001b[0mKNeighborsClassifier\u001b[0m\u001b[0;34m(\u001b[0m\u001b[0mn_neighbors\u001b[0m\u001b[0;34m=\u001b[0m\u001b[0;36m20\u001b[0m\u001b[0;34m)\u001b[0m\u001b[0;34m\u001b[0m\u001b[0;34m\u001b[0m\u001b[0m\n\u001b[0;32m----> 3\u001b[0;31m \u001b[0mknn\u001b[0m\u001b[0;34m.\u001b[0m\u001b[0mfit\u001b[0m\u001b[0;34m(\u001b[0m\u001b[0mX_train\u001b[0m\u001b[0;34m,\u001b[0m\u001b[0my_train\u001b[0m\u001b[0;34m)\u001b[0m\u001b[0;34m\u001b[0m\u001b[0;34m\u001b[0m\u001b[0m\n\u001b[0m",
      "\u001b[0;32m~/.pyenv/versions/3.8.6/envs/lewagon/lib/python3.8/site-packages/sklearn/neighbors/_base.py\u001b[0m in \u001b[0;36mfit\u001b[0;34m(self, X, y)\u001b[0m\n\u001b[1;32m   1128\u001b[0m         \"\"\"\n\u001b[1;32m   1129\u001b[0m         \u001b[0;32mif\u001b[0m \u001b[0;32mnot\u001b[0m \u001b[0misinstance\u001b[0m\u001b[0;34m(\u001b[0m\u001b[0mX\u001b[0m\u001b[0;34m,\u001b[0m \u001b[0;34m(\u001b[0m\u001b[0mKDTree\u001b[0m\u001b[0;34m,\u001b[0m \u001b[0mBallTree\u001b[0m\u001b[0;34m)\u001b[0m\u001b[0;34m)\u001b[0m\u001b[0;34m:\u001b[0m\u001b[0;34m\u001b[0m\u001b[0;34m\u001b[0m\u001b[0m\n\u001b[0;32m-> 1130\u001b[0;31m             \u001b[0mX\u001b[0m\u001b[0;34m,\u001b[0m \u001b[0my\u001b[0m \u001b[0;34m=\u001b[0m \u001b[0mcheck_X_y\u001b[0m\u001b[0;34m(\u001b[0m\u001b[0mX\u001b[0m\u001b[0;34m,\u001b[0m \u001b[0my\u001b[0m\u001b[0;34m,\u001b[0m \u001b[0;34m\"csr\"\u001b[0m\u001b[0;34m,\u001b[0m \u001b[0mmulti_output\u001b[0m\u001b[0;34m=\u001b[0m\u001b[0;32mTrue\u001b[0m\u001b[0;34m)\u001b[0m\u001b[0;34m\u001b[0m\u001b[0;34m\u001b[0m\u001b[0m\n\u001b[0m\u001b[1;32m   1131\u001b[0m \u001b[0;34m\u001b[0m\u001b[0m\n\u001b[1;32m   1132\u001b[0m         \u001b[0;32mif\u001b[0m \u001b[0my\u001b[0m\u001b[0;34m.\u001b[0m\u001b[0mndim\u001b[0m \u001b[0;34m==\u001b[0m \u001b[0;36m1\u001b[0m \u001b[0;32mor\u001b[0m \u001b[0my\u001b[0m\u001b[0;34m.\u001b[0m\u001b[0mndim\u001b[0m \u001b[0;34m==\u001b[0m \u001b[0;36m2\u001b[0m \u001b[0;32mand\u001b[0m \u001b[0my\u001b[0m\u001b[0;34m.\u001b[0m\u001b[0mshape\u001b[0m\u001b[0;34m[\u001b[0m\u001b[0;36m1\u001b[0m\u001b[0;34m]\u001b[0m \u001b[0;34m==\u001b[0m \u001b[0;36m1\u001b[0m\u001b[0;34m:\u001b[0m\u001b[0;34m\u001b[0m\u001b[0;34m\u001b[0m\u001b[0m\n",
      "\u001b[0;32m~/.pyenv/versions/3.8.6/envs/lewagon/lib/python3.8/site-packages/sklearn/utils/validation.py\u001b[0m in \u001b[0;36mcheck_X_y\u001b[0;34m(X, y, accept_sparse, accept_large_sparse, dtype, order, copy, force_all_finite, ensure_2d, allow_nd, multi_output, ensure_min_samples, ensure_min_features, y_numeric, warn_on_dtype, estimator)\u001b[0m\n\u001b[1;32m    729\u001b[0m         \u001b[0;32mraise\u001b[0m \u001b[0mValueError\u001b[0m\u001b[0;34m(\u001b[0m\u001b[0;34m\"y cannot be None\"\u001b[0m\u001b[0;34m)\u001b[0m\u001b[0;34m\u001b[0m\u001b[0;34m\u001b[0m\u001b[0m\n\u001b[1;32m    730\u001b[0m \u001b[0;34m\u001b[0m\u001b[0m\n\u001b[0;32m--> 731\u001b[0;31m     X = check_array(X, accept_sparse=accept_sparse,\n\u001b[0m\u001b[1;32m    732\u001b[0m                     \u001b[0maccept_large_sparse\u001b[0m\u001b[0;34m=\u001b[0m\u001b[0maccept_large_sparse\u001b[0m\u001b[0;34m,\u001b[0m\u001b[0;34m\u001b[0m\u001b[0;34m\u001b[0m\u001b[0m\n\u001b[1;32m    733\u001b[0m                     \u001b[0mdtype\u001b[0m\u001b[0;34m=\u001b[0m\u001b[0mdtype\u001b[0m\u001b[0;34m,\u001b[0m \u001b[0morder\u001b[0m\u001b[0;34m=\u001b[0m\u001b[0morder\u001b[0m\u001b[0;34m,\u001b[0m \u001b[0mcopy\u001b[0m\u001b[0;34m=\u001b[0m\u001b[0mcopy\u001b[0m\u001b[0;34m,\u001b[0m\u001b[0;34m\u001b[0m\u001b[0;34m\u001b[0m\u001b[0m\n",
      "\u001b[0;32m~/.pyenv/versions/3.8.6/envs/lewagon/lib/python3.8/site-packages/sklearn/utils/validation.py\u001b[0m in \u001b[0;36mcheck_array\u001b[0;34m(array, accept_sparse, accept_large_sparse, dtype, order, copy, force_all_finite, ensure_2d, allow_nd, ensure_min_samples, ensure_min_features, warn_on_dtype, estimator)\u001b[0m\n\u001b[1;32m    513\u001b[0m                     \u001b[0marray\u001b[0m \u001b[0;34m=\u001b[0m \u001b[0marray\u001b[0m\u001b[0;34m.\u001b[0m\u001b[0mastype\u001b[0m\u001b[0;34m(\u001b[0m\u001b[0mdtype\u001b[0m\u001b[0;34m,\u001b[0m \u001b[0mcasting\u001b[0m\u001b[0;34m=\u001b[0m\u001b[0;34m\"unsafe\"\u001b[0m\u001b[0;34m,\u001b[0m \u001b[0mcopy\u001b[0m\u001b[0;34m=\u001b[0m\u001b[0;32mFalse\u001b[0m\u001b[0;34m)\u001b[0m\u001b[0;34m\u001b[0m\u001b[0;34m\u001b[0m\u001b[0m\n\u001b[1;32m    514\u001b[0m                 \u001b[0;32melse\u001b[0m\u001b[0;34m:\u001b[0m\u001b[0;34m\u001b[0m\u001b[0;34m\u001b[0m\u001b[0m\n\u001b[0;32m--> 515\u001b[0;31m                     \u001b[0marray\u001b[0m \u001b[0;34m=\u001b[0m \u001b[0mnp\u001b[0m\u001b[0;34m.\u001b[0m\u001b[0masarray\u001b[0m\u001b[0;34m(\u001b[0m\u001b[0marray\u001b[0m\u001b[0;34m,\u001b[0m \u001b[0morder\u001b[0m\u001b[0;34m=\u001b[0m\u001b[0morder\u001b[0m\u001b[0;34m,\u001b[0m \u001b[0mdtype\u001b[0m\u001b[0;34m=\u001b[0m\u001b[0mdtype\u001b[0m\u001b[0;34m)\u001b[0m\u001b[0;34m\u001b[0m\u001b[0;34m\u001b[0m\u001b[0m\n\u001b[0m\u001b[1;32m    516\u001b[0m             \u001b[0;32mexcept\u001b[0m \u001b[0mComplexWarning\u001b[0m\u001b[0;34m:\u001b[0m\u001b[0;34m\u001b[0m\u001b[0;34m\u001b[0m\u001b[0m\n\u001b[1;32m    517\u001b[0m                 raise ValueError(\"Complex data not supported\\n\"\n",
      "\u001b[0;32m~/.pyenv/versions/3.8.6/envs/lewagon/lib/python3.8/site-packages/numpy/core/_asarray.py\u001b[0m in \u001b[0;36masarray\u001b[0;34m(a, dtype, order)\u001b[0m\n\u001b[1;32m     83\u001b[0m \u001b[0;34m\u001b[0m\u001b[0m\n\u001b[1;32m     84\u001b[0m     \"\"\"\n\u001b[0;32m---> 85\u001b[0;31m     \u001b[0;32mreturn\u001b[0m \u001b[0marray\u001b[0m\u001b[0;34m(\u001b[0m\u001b[0ma\u001b[0m\u001b[0;34m,\u001b[0m \u001b[0mdtype\u001b[0m\u001b[0;34m,\u001b[0m \u001b[0mcopy\u001b[0m\u001b[0;34m=\u001b[0m\u001b[0;32mFalse\u001b[0m\u001b[0;34m,\u001b[0m \u001b[0morder\u001b[0m\u001b[0;34m=\u001b[0m\u001b[0morder\u001b[0m\u001b[0;34m)\u001b[0m\u001b[0;34m\u001b[0m\u001b[0;34m\u001b[0m\u001b[0m\n\u001b[0m\u001b[1;32m     86\u001b[0m \u001b[0;34m\u001b[0m\u001b[0m\n\u001b[1;32m     87\u001b[0m \u001b[0;34m\u001b[0m\u001b[0m\n",
      "\u001b[0;32m~/.pyenv/versions/3.8.6/envs/lewagon/lib/python3.8/site-packages/pandas/core/generic.py\u001b[0m in \u001b[0;36m__array__\u001b[0;34m(self, dtype)\u001b[0m\n\u001b[1;32m   1894\u001b[0m \u001b[0;34m\u001b[0m\u001b[0m\n\u001b[1;32m   1895\u001b[0m     \u001b[0;32mdef\u001b[0m \u001b[0m__array__\u001b[0m\u001b[0;34m(\u001b[0m\u001b[0mself\u001b[0m\u001b[0;34m,\u001b[0m \u001b[0mdtype\u001b[0m\u001b[0;34m=\u001b[0m\u001b[0;32mNone\u001b[0m\u001b[0;34m)\u001b[0m \u001b[0;34m->\u001b[0m \u001b[0mnp\u001b[0m\u001b[0;34m.\u001b[0m\u001b[0mndarray\u001b[0m\u001b[0;34m:\u001b[0m\u001b[0;34m\u001b[0m\u001b[0;34m\u001b[0m\u001b[0m\n\u001b[0;32m-> 1896\u001b[0;31m         \u001b[0;32mreturn\u001b[0m \u001b[0mnp\u001b[0m\u001b[0;34m.\u001b[0m\u001b[0masarray\u001b[0m\u001b[0;34m(\u001b[0m\u001b[0mself\u001b[0m\u001b[0;34m.\u001b[0m\u001b[0m_values\u001b[0m\u001b[0;34m,\u001b[0m \u001b[0mdtype\u001b[0m\u001b[0;34m=\u001b[0m\u001b[0mdtype\u001b[0m\u001b[0;34m)\u001b[0m\u001b[0;34m\u001b[0m\u001b[0;34m\u001b[0m\u001b[0m\n\u001b[0m\u001b[1;32m   1897\u001b[0m \u001b[0;34m\u001b[0m\u001b[0m\n\u001b[1;32m   1898\u001b[0m     def __array_wrap__(\n",
      "\u001b[0;32m~/.pyenv/versions/3.8.6/envs/lewagon/lib/python3.8/site-packages/numpy/core/_asarray.py\u001b[0m in \u001b[0;36masarray\u001b[0;34m(a, dtype, order)\u001b[0m\n\u001b[1;32m     83\u001b[0m \u001b[0;34m\u001b[0m\u001b[0m\n\u001b[1;32m     84\u001b[0m     \"\"\"\n\u001b[0;32m---> 85\u001b[0;31m     \u001b[0;32mreturn\u001b[0m \u001b[0marray\u001b[0m\u001b[0;34m(\u001b[0m\u001b[0ma\u001b[0m\u001b[0;34m,\u001b[0m \u001b[0mdtype\u001b[0m\u001b[0;34m,\u001b[0m \u001b[0mcopy\u001b[0m\u001b[0;34m=\u001b[0m\u001b[0;32mFalse\u001b[0m\u001b[0;34m,\u001b[0m \u001b[0morder\u001b[0m\u001b[0;34m=\u001b[0m\u001b[0morder\u001b[0m\u001b[0;34m)\u001b[0m\u001b[0;34m\u001b[0m\u001b[0;34m\u001b[0m\u001b[0m\n\u001b[0m\u001b[1;32m     86\u001b[0m \u001b[0;34m\u001b[0m\u001b[0m\n\u001b[1;32m     87\u001b[0m \u001b[0;34m\u001b[0m\u001b[0m\n",
      "\u001b[0;31mValueError\u001b[0m: could not convert string to float: 'EN'"
     ]
    }
   ],
   "source": [
    "X_train,X_test,y_train,y_test=train_test_split(X,y,train_size=0.8)\n",
    "knn=KNeighborsClassifier(n_neighbors=20)\n",
    "knn.fit(X_train,y_train)\n"
   ]
  },
  {
   "cell_type": "code",
   "execution_count": null,
   "metadata": {},
   "outputs": [],
   "source": []
  },
  {
   "cell_type": "code",
   "execution_count": 167,
   "metadata": {},
   "outputs": [
    {
     "data": {
      "text/plain": [
       "array([[0, 0, 1, ..., 1, 0, 1],\n",
       "       [0, 1, 1, ..., 1, 0, 1],\n",
       "       [0, 1, 1, ..., 1, 0, 0],\n",
       "       ...,\n",
       "       [0, 1, 1, ..., 1, 0, 0],\n",
       "       [0, 1, 1, ..., 1, 0, 0],\n",
       "       [0, 0, 1, ..., 0, 0, 0]])"
      ]
     },
     "execution_count": 167,
     "metadata": {},
     "output_type": "execute_result"
    }
   ],
   "source": [
    "y_pred=knn.predict(X_test)\n",
    "y_pred"
   ]
  },
  {
   "cell_type": "code",
   "execution_count": 168,
   "metadata": {
    "scrolled": true
   },
   "outputs": [
    {
     "data": {
      "text/plain": [
       "0.3416982099900948"
      ]
     },
     "execution_count": 168,
     "metadata": {},
     "output_type": "execute_result"
    }
   ],
   "source": [
    "mean_squared_error(y_test,y_pred)"
   ]
  },
  {
   "cell_type": "code",
   "execution_count": 170,
   "metadata": {},
   "outputs": [
    {
     "data": {
      "text/plain": [
       "0.01804160181123532"
      ]
     },
     "execution_count": 170,
     "metadata": {},
     "output_type": "execute_result"
    }
   ],
   "source": [
    "knn.score(X_test,y_test)"
   ]
  }
 ],
 "metadata": {
  "kernelspec": {
   "display_name": "Python 3",
   "language": "python",
   "name": "python3"
  },
  "language_info": {
   "codemirror_mode": {
    "name": "ipython",
    "version": 3
   },
   "file_extension": ".py",
   "mimetype": "text/x-python",
   "name": "python",
   "nbconvert_exporter": "python",
   "pygments_lexer": "ipython3",
   "version": "3.8.6"
  }
 },
 "nbformat": 4,
 "nbformat_minor": 4
}
