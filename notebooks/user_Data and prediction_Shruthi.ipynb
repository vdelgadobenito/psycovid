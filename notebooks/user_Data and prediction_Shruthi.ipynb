{
 "cells": [
  {
   "cell_type": "code",
   "execution_count": 24,
   "metadata": {},
   "outputs": [],
   "source": [
    "def get_data():\n",
    "    return pd.read_csv('../raw_data/cleaned_data_040321.csv')\n",
    "\n",
    "def Xandy_stress(df):\n",
    "    X=df[['BFF_15_1','BFF_15_2','BFF_15_3','BFF_15_4','BFF_15_5','BFF_15_6','BFF_15_7','BFF_15_8','BFF_15_9','BFF_15_10','BFF_15_11',\n",
    "           'BFF_15_12','BFF_15_13','BFF_15_14','BFF_15_15','Dem_age','Dem_gender','Dem_edu','Dem_edu_mom','Dem_employment','Dem_Expat',\n",
    "          'Dem_maritalstatus','Dem_riskgroup','Dem_isolation'\n",
    "         ]].reset_index(drop=True).dropna()\n",
    "    \n",
    "    y=df['PSS10_avg'].round().astype(int)\n",
    "    return X,y    "
   ]
  },
  {
   "cell_type": "code",
   "execution_count": 34,
   "metadata": {},
   "outputs": [],
   "source": [
    "def edu_func(X):\n",
    "        \n",
    "        X['Dem_edu']=X['Dem_edu'].replace({'Uninformative response':0,'None':1,'Up to 6 years of school':2, 'Up to 9 years of school':3, 'Up to 12 years of school':4, 'Some College, short continuing education or equivalent':5, 'College degree, bachelor, master': 6, 'PhD/Doctorate':7 })\n",
    "        return  X[['Dem_edu']]\n",
    "\n",
    "    \n",
    "def edu_mom_func(X):    \n",
    "        X['Dem_edu_mom'] = X['Dem_edu_mom'].replace({'Uninformative response':0,'None':1,'Up to 6 years of school':2, 'Up to 9 years of school':3, 'Up to 12 years of school':4, 'Some College or equivalent':5, 'College degree': 6, 'PhD/Doctorate':7 })\n",
    "        return  X[['Dem_edu_mom']]\n",
    "\n",
    "\n",
    "def edu_risk_group(X): \n",
    "        X['Dem_riskgroup'] = X['Dem_riskgroup'].replace({'No':1,'Not sure':2, 'Yes':3})    \n",
    "        return  X[['Dem_riskgroup']]\n",
    "\n",
    "def dem_expat_func(X):\n",
    "        X['Dem_Expat'] = X['Dem_Expat'].replace({'no':0,'yes':1})\n",
    "        return X[['Dem_Expat']]\n",
    "\n",
    "stress_pred=joblib.load('model_stress.joblib')\n"
   ]
  },
  {
   "cell_type": "code",
   "execution_count": 42,
   "metadata": {},
   "outputs": [
    {
     "data": {
      "text/plain": [
       "array([2])"
      ]
     },
     "execution_count": 42,
     "metadata": {},
     "output_type": "execute_result"
    }
   ],
   "source": [
    "data=get_data()\n",
    "X,y=Xandy_stress(data)\n",
    "\n",
    "stress_pred.predict(X.loc[[0]])"
   ]
  },
  {
   "cell_type": "code",
   "execution_count": null,
   "metadata": {},
   "outputs": [],
   "source": [
    "# KNN"
   ]
  },
  {
   "cell_type": "code",
   "execution_count": 12,
   "metadata": {},
   "outputs": [],
   "source": [
    "def get_data():\n",
    "    return pd.read_csv('../raw_data/cleaned_data_040321.csv')\n",
    "\n",
    "def Xandy(df):\n",
    "    X=df.loc[:,'BFF_15_1':'BFF_15_15']\n",
    "    y=df[['neu','ext','ope','agr','con']]\n",
    "    return X,y\n"
   ]
  },
  {
   "cell_type": "code",
   "execution_count": null,
   "metadata": {},
   "outputs": [],
   "source": [
    "# TO PREDICT FROM KNN JOBLIB FILE "
   ]
  },
  {
   "cell_type": "code",
   "execution_count": 22,
   "metadata": {},
   "outputs": [
    {
     "data": {
      "text/plain": [
       "array([[4.06666667, 2.71111116, 4.22222213, 3.33333338, 3.79999998]])"
      ]
     },
     "execution_count": 22,
     "metadata": {},
     "output_type": "execute_result"
    }
   ],
   "source": [
    "import pandas as pd\n",
    "data=get_data()\n",
    "X,y=Xandy(data)\n",
    "\n",
    "knn=joblib.load('knn.joblib')\n",
    "knn.predict(X.iloc[[-1]])"
   ]
  },
  {
   "cell_type": "code",
   "execution_count": 44,
   "metadata": {},
   "outputs": [
    {
     "data": {
      "text/plain": [
       "no     69065\n",
       "yes    16424\n",
       "Name: Dem_Expat, dtype: int64"
      ]
     },
     "execution_count": 44,
     "metadata": {},
     "output_type": "execute_result"
    }
   ],
   "source": [
    "data['Dem_Expat'].value_counts()"
   ]
  }
 ],
 "metadata": {
  "kernelspec": {
   "display_name": "Python 3",
   "language": "python",
   "name": "python3"
  },
  "language_info": {
   "codemirror_mode": {
    "name": "ipython",
    "version": 3
   },
   "file_extension": ".py",
   "mimetype": "text/x-python",
   "name": "python",
   "nbconvert_exporter": "python",
   "pygments_lexer": "ipython3",
   "version": "3.8.6"
  }
 },
 "nbformat": 4,
 "nbformat_minor": 4
}
